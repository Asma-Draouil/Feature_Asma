{
 "cells": [
  {
   "cell_type": "code",
   "execution_count": 8,
   "metadata": {},
   "outputs": [
    {
     "name": "stdout",
     "output_type": "stream",
     "text": [
      "Ligne 415 et alentours :\n",
      "    },\n",
      "\n",
      "        \"compétences\": \"COMPÉTENCES DE BASE\\nSAVOIR FAIRE\\nContrôler la réception des commandes et établir l'ordre de traitement\\nPlanifier l'activité des caristes et préparateurs de commandes, ... selon l'ordre de traitement des commandes\\nOrganiser la répartition des emplacements de stockage sur le site et en suivre la gestion\\nCoordonner et contrôler les opérations logistiques de réception, expédition et livraison\\nOrganiser ou contrôler la gestion de stocks de produits, marchandises ou matières premières (référencement, rotation, ...)\\nInformer les clients internes ou externes sur le traitement et le suivi des commandes\\nRenseigner les supports de suivi d'activité et identifier les écarts\\nSAVOIR\\nCOMPÉTENCES SPÉCIFIQUES\"\n",
      "\n",
      "]\n",
      "Le JSON a été chargé avec succès.\n",
      "Le fichier CSV a été généré avec succès.\n"
     ]
    }
   ],
   "source": [
    "# Lire le fichier JSON et identifier la ligne problématique\n",
    "with open('scrapped_content_from_referentiel.JSON', 'r', encoding='utf-8') as file:\n",
    "    lines = file.readlines()\n",
    "\n",
    "# Afficher la ligne 415 et quelques lignes autour pour identifier l'erreur\n",
    "print(\"Ligne 415 et alentours :\")\n",
    "print(lines[414])  # Affiche la ligne 415 (les indices commencent à 0)\n",
    "print(lines[413])  # Affiche la ligne avant la ligne 415\n",
    "print(lines[415])  # Affiche la ligne après la ligne 415\n",
    "\n",
    "# Corriger la virgule en trop dans la ligne 415 (si c'est la cause de l'erreur)\n",
    "lines[414] = lines[414].rstrip(',\\n')  # Retirer la virgule et les espaces/retour à la ligne à la fin de la ligne\n",
    "\n",
    "# Enregistrer le fichier JSON corrigé\n",
    "with open('scrapped_content_from_referentiel_corrected.JSON', 'w', encoding='utf-8') as file:\n",
    "    file.writelines(lines)\n",
    "\n",
    "# Vérification : charger le JSON corrigé\n",
    "import json\n",
    "\n",
    "try:\n",
    "    with open('scrapped_content_from_referentiel_corrected.JSON', 'r', encoding='utf-8') as file:\n",
    "        corrected_data = file.read()\n",
    "    data = json.loads(corrected_data)  # Vérifier si le fichier est maintenant valide\n",
    "    print(\"Le JSON a été chargé avec succès.\")\n",
    "    \n",
    "    # Si le JSON est valide, convertir en DataFrame et exporter en CSV\n",
    "    import pandas as pd\n",
    "    df = pd.json_normalize(data)\n",
    "    df.to_csv('converted_file.csv', index=False, encoding='utf-8')\n",
    "    print(\"Le fichier CSV a été généré avec succès.\")\n",
    "except json.JSONDecodeError as e:\n",
    "    print(f\"Erreur de chargement JSON après correction : {e}\")\n"
   ]
  },
  {
   "cell_type": "code",
   "execution_count": 1,
   "metadata": {},
   "outputs": [],
   "source": [
    "import pandas as pd\n",
    "import re\n",
    "from nltk.corpus import stopwords\n",
    "\n",
    "import nltk\n"
   ]
  },
  {
   "cell_type": "code",
   "execution_count": 17,
   "metadata": {},
   "outputs": [
    {
     "data": {
      "text/html": [
       "<div>\n",
       "<style scoped>\n",
       "    .dataframe tbody tr th:only-of-type {\n",
       "        vertical-align: middle;\n",
       "    }\n",
       "\n",
       "    .dataframe tbody tr th {\n",
       "        vertical-align: top;\n",
       "    }\n",
       "\n",
       "    .dataframe thead th {\n",
       "        text-align: right;\n",
       "    }\n",
       "</style>\n",
       "<table border=\"1\" class=\"dataframe\">\n",
       "  <thead>\n",
       "    <tr style=\"text-align: right;\">\n",
       "      <th></th>\n",
       "      <th>job_name</th>\n",
       "      <th>appellations</th>\n",
       "      <th>identité</th>\n",
       "      <th>compétences</th>\n",
       "    </tr>\n",
       "  </thead>\n",
       "  <tbody>\n",
       "    <tr>\n",
       "      <th>0</th>\n",
       "      <td>Conception - développement produits d'assuranc...</td>\n",
       "      <td>Chargé / Chargée de produit en assurances\\nChe...</td>\n",
       "      <td>DÉFINITION\\nConçoit et adapte de nouveaux prod...</td>\n",
       "      <td>COMPÉTENCES DE BASE\\nSAVOIR FAIRE\\nAnalyser le...</td>\n",
       "    </tr>\n",
       "    <tr>\n",
       "      <th>1</th>\n",
       "      <td>Conseil clientèle en assurances (C1102)</td>\n",
       "      <td>Agent commercial / Agente commerciale en assur...</td>\n",
       "      <td>DÉFINITION\\nInforme et conseille des particuli...</td>\n",
       "      <td>COMPÉTENCES DE BASE\\nSAVOIR FAIRE\\nAnalyser le...</td>\n",
       "    </tr>\n",
       "    <tr>\n",
       "      <th>2</th>\n",
       "      <td>Courtage en assurances (C1103)</td>\n",
       "      <td>Agent général / Agente générale d'assurances\\n...</td>\n",
       "      <td>DÉFINITION\\nAccompagne une clientèle (particul...</td>\n",
       "      <td>COMPÉTENCES DE BASE\\nSAVOIR FAIRE\\nMettre en o...</td>\n",
       "    </tr>\n",
       "    <tr>\n",
       "      <th>3</th>\n",
       "      <td>Direction d'exploitation en assurances (C1104)</td>\n",
       "      <td>Chargé / Chargée d'agence en assurances\\nCharg...</td>\n",
       "      <td>DÉFINITION\\nOrganise la planification de l'act...</td>\n",
       "      <td>COMPÉTENCES DE BASE\\nSAVOIR FAIRE\\nDéfinir une...</td>\n",
       "    </tr>\n",
       "    <tr>\n",
       "      <th>4</th>\n",
       "      <td>Études actuarielles en assurances (C1105)</td>\n",
       "      <td>Actuaire Confirmé / Sénior\\nActuaire Junior\\nC...</td>\n",
       "      <td>DÉFINITION\\nEvalue à court, moyen et long term...</td>\n",
       "      <td>COMPÉTENCES DE BASE\\nSAVOIR FAIRE\\nProposer de...</td>\n",
       "    </tr>\n",
       "  </tbody>\n",
       "</table>\n",
       "</div>"
      ],
      "text/plain": [
       "                                            job_name  \\\n",
       "0  Conception - développement produits d'assuranc...   \n",
       "1            Conseil clientèle en assurances (C1102)   \n",
       "2                     Courtage en assurances (C1103)   \n",
       "3     Direction d'exploitation en assurances (C1104)   \n",
       "4          Études actuarielles en assurances (C1105)   \n",
       "\n",
       "                                        appellations  \\\n",
       "0  Chargé / Chargée de produit en assurances\\nChe...   \n",
       "1  Agent commercial / Agente commerciale en assur...   \n",
       "2  Agent général / Agente générale d'assurances\\n...   \n",
       "3  Chargé / Chargée d'agence en assurances\\nCharg...   \n",
       "4  Actuaire Confirmé / Sénior\\nActuaire Junior\\nC...   \n",
       "\n",
       "                                            identité  \\\n",
       "0  DÉFINITION\\nConçoit et adapte de nouveaux prod...   \n",
       "1  DÉFINITION\\nInforme et conseille des particuli...   \n",
       "2  DÉFINITION\\nAccompagne une clientèle (particul...   \n",
       "3  DÉFINITION\\nOrganise la planification de l'act...   \n",
       "4  DÉFINITION\\nEvalue à court, moyen et long term...   \n",
       "\n",
       "                                         compétences  \n",
       "0  COMPÉTENCES DE BASE\\nSAVOIR FAIRE\\nAnalyser le...  \n",
       "1  COMPÉTENCES DE BASE\\nSAVOIR FAIRE\\nAnalyser le...  \n",
       "2  COMPÉTENCES DE BASE\\nSAVOIR FAIRE\\nMettre en o...  \n",
       "3  COMPÉTENCES DE BASE\\nSAVOIR FAIRE\\nDéfinir une...  \n",
       "4  COMPÉTENCES DE BASE\\nSAVOIR FAIRE\\nProposer de...  "
      ]
     },
     "execution_count": 17,
     "metadata": {},
     "output_type": "execute_result"
    }
   ],
   "source": [
    "df = pd.read_csv(\"ref.csv\")\n",
    "df.head()"
   ]
  },
  {
   "cell_type": "code",
   "execution_count": 24,
   "metadata": {},
   "outputs": [],
   "source": [
    "data_cleaned = df.copy()"
   ]
  },
  {
   "cell_type": "code",
   "execution_count": 25,
   "metadata": {},
   "outputs": [],
   "source": [
    "data_cleaned = data_cleaned.rename(columns={'job_name': 'métier'})\n"
   ]
  },
  {
   "cell_type": "code",
   "execution_count": 26,
   "metadata": {},
   "outputs": [
    {
     "name": "stderr",
     "output_type": "stream",
     "text": [
      "[nltk_data] Downloading package stopwords to\n",
      "[nltk_data]     C:\\Users\\Asma\\AppData\\Roaming\\nltk_data...\n",
      "[nltk_data]   Package stopwords is already up-to-date!\n"
     ]
    }
   ],
   "source": [
    "# Télécharger les ressources nécessaires pour NLTK\n",
    "nltk.download('stopwords')\n",
    "\n",
    "\n",
    "# Charger les stopwords en français\n",
    "stop_words = set(stopwords.words('french'))\n",
    "\n",
    "def nettoyer_colonne_avance(texte):\n",
    "    if not isinstance(texte, str):  # Vérifie que la valeur est une chaîne\n",
    "        return ''\n",
    "    # Convertir en minuscules\n",
    "    texte = texte.lower()\n",
    "    # Remplacer les caractères spéciaux et ponctuations par des espaces\n",
    "    texte = re.sub(r'[^\\w\\s]', ' ', texte)\n",
    "    # Supprimer les espaces multiples\n",
    "    texte = re.sub(r'\\s+', ' ', texte).strip()\n",
    "    # Supprimer les mots inutiles\n",
    "    mots = texte.split()  # Divise le texte en mots avec split (pas de tokenisation)\n",
    "    mots = [mot for mot in mots if mot not in stop_words]\n",
    "    return ' '.join(mots)  # Recombine les mots filtrés\n"
   ]
  },
  {
   "cell_type": "code",
   "execution_count": 27,
   "metadata": {},
   "outputs": [],
   "source": [
    "# Liste des colonnes textuelles\n",
    "colonnes_textuelles = [\n",
    "    \"métier\", \"appellations\", \"identité\", \"compétences\", \n",
    "]\n",
    "\n",
    "# Vérifiez quelles colonnes existent dans le DataFrame\n",
    "colonnes_existe = [col for col in colonnes_textuelles if col in data_cleaned.columns]\n",
    "\n",
    "\n",
    "for col in colonnes_existe:\n",
    "    data_cleaned[col] = data_cleaned[col].fillna('').apply(nettoyer_colonne_avance)"
   ]
  },
  {
   "cell_type": "code",
   "execution_count": 28,
   "metadata": {},
   "outputs": [],
   "source": [
    "data_cleaned = data_cleaned.fillna('')"
   ]
  },
  {
   "cell_type": "code",
   "execution_count": 29,
   "metadata": {},
   "outputs": [
    {
     "data": {
      "text/html": [
       "<div>\n",
       "<style scoped>\n",
       "    .dataframe tbody tr th:only-of-type {\n",
       "        vertical-align: middle;\n",
       "    }\n",
       "\n",
       "    .dataframe tbody tr th {\n",
       "        vertical-align: top;\n",
       "    }\n",
       "\n",
       "    .dataframe thead th {\n",
       "        text-align: right;\n",
       "    }\n",
       "</style>\n",
       "<table border=\"1\" class=\"dataframe\">\n",
       "  <thead>\n",
       "    <tr style=\"text-align: right;\">\n",
       "      <th></th>\n",
       "      <th>métier</th>\n",
       "      <th>appellations</th>\n",
       "      <th>identité</th>\n",
       "      <th>compétences</th>\n",
       "    </tr>\n",
       "  </thead>\n",
       "  <tbody>\n",
       "    <tr>\n",
       "      <th>0</th>\n",
       "      <td>conception développement produits assurances c...</td>\n",
       "      <td>chargé chargée produit assurances chef produit...</td>\n",
       "      <td>définition conçoit adapte nouveaux produits as...</td>\n",
       "      <td>compétences base savoir faire analyser données...</td>\n",
       "    </tr>\n",
       "    <tr>\n",
       "      <th>1</th>\n",
       "      <td>conseil clientèle assurances c1102</td>\n",
       "      <td>agent commercial agente commerciale assurances...</td>\n",
       "      <td>définition informe conseille particuliers entr...</td>\n",
       "      <td>compétences base savoir faire analyser besoins...</td>\n",
       "    </tr>\n",
       "    <tr>\n",
       "      <th>2</th>\n",
       "      <td>courtage assurances c1103</td>\n",
       "      <td>agent général agente générale assurances court...</td>\n",
       "      <td>définition accompagne clientèle particuliers p...</td>\n",
       "      <td>compétences base savoir faire mettre oeuvre ac...</td>\n",
       "    </tr>\n",
       "    <tr>\n",
       "      <th>3</th>\n",
       "      <td>direction exploitation assurances c1104</td>\n",
       "      <td>chargé chargée agence assurances chargé chargé...</td>\n",
       "      <td>définition organise planification activité ges...</td>\n",
       "      <td>compétences base savoir faire définir stratégi...</td>\n",
       "    </tr>\n",
       "    <tr>\n",
       "      <th>4</th>\n",
       "      <td>études actuarielles assurances c1105</td>\n",
       "      <td>actuaire confirmé sénior actuaire junior charg...</td>\n",
       "      <td>définition evalue court moyen long terme renta...</td>\n",
       "      <td>compétences base savoir faire proposer axes am...</td>\n",
       "    </tr>\n",
       "  </tbody>\n",
       "</table>\n",
       "</div>"
      ],
      "text/plain": [
       "                                              métier  \\\n",
       "0  conception développement produits assurances c...   \n",
       "1                 conseil clientèle assurances c1102   \n",
       "2                          courtage assurances c1103   \n",
       "3            direction exploitation assurances c1104   \n",
       "4               études actuarielles assurances c1105   \n",
       "\n",
       "                                        appellations  \\\n",
       "0  chargé chargée produit assurances chef produit...   \n",
       "1  agent commercial agente commerciale assurances...   \n",
       "2  agent général agente générale assurances court...   \n",
       "3  chargé chargée agence assurances chargé chargé...   \n",
       "4  actuaire confirmé sénior actuaire junior charg...   \n",
       "\n",
       "                                            identité  \\\n",
       "0  définition conçoit adapte nouveaux produits as...   \n",
       "1  définition informe conseille particuliers entr...   \n",
       "2  définition accompagne clientèle particuliers p...   \n",
       "3  définition organise planification activité ges...   \n",
       "4  définition evalue court moyen long terme renta...   \n",
       "\n",
       "                                         compétences  \n",
       "0  compétences base savoir faire analyser données...  \n",
       "1  compétences base savoir faire analyser besoins...  \n",
       "2  compétences base savoir faire mettre oeuvre ac...  \n",
       "3  compétences base savoir faire définir stratégi...  \n",
       "4  compétences base savoir faire proposer axes am...  "
      ]
     },
     "execution_count": 29,
     "metadata": {},
     "output_type": "execute_result"
    }
   ],
   "source": [
    "data_cleaned.head()"
   ]
  },
  {
   "cell_type": "code",
   "execution_count": 30,
   "metadata": {},
   "outputs": [
    {
     "name": "stdout",
     "output_type": "stream",
     "text": [
      "                                              métier  \\\n",
      "0  [conception, développement, produits, assuranc...   \n",
      "1            [conseil, clientèle, assurances, c1102]   \n",
      "2                      [courtage, assurances, c1103]   \n",
      "3       [direction, exploitation, assurances, c1104]   \n",
      "4          [études, actuarielles, assurances, c1105]   \n",
      "\n",
      "                                        appellations  \\\n",
      "0  [chargé, chargée, produit, assurances, chef, p...   \n",
      "1  [agent, commercial, agente, commerciale, assur...   \n",
      "2  [agent, général, agente, générale, assurances,...   \n",
      "3  [chargé, chargée, agence, assurances, chargé, ...   \n",
      "4  [actuaire, confirmé, sénior, actuaire, junior,...   \n",
      "\n",
      "                                            identité  \\\n",
      "0  [définition, conçoit, adapte, nouveaux, produi...   \n",
      "1  [définition, informe, conseille, particuliers,...   \n",
      "2  [définition, accompagne, clientèle, particulie...   \n",
      "3  [définition, organise, planification, activité...   \n",
      "4  [définition, evalue, court, moyen, long, terme...   \n",
      "\n",
      "                                         compétences  \n",
      "0  [compétences, base, savoir, faire, analyser, d...  \n",
      "1  [compétences, base, savoir, faire, analyser, b...  \n",
      "2  [compétences, base, savoir, faire, mettre, oeu...  \n",
      "3  [compétences, base, savoir, faire, définir, st...  \n",
      "4  [compétences, base, savoir, faire, proposer, a...  \n"
     ]
    },
    {
     "name": "stderr",
     "output_type": "stream",
     "text": [
      "[nltk_data] Downloading package punkt_tab to\n",
      "[nltk_data]     C:\\Users\\Asma\\AppData\\Roaming\\nltk_data...\n",
      "[nltk_data]   Package punkt_tab is already up-to-date!\n"
     ]
    }
   ],
   "source": [
    "from nltk.tokenize import word_tokenize\n",
    "nltk.download('punkt_tab')\n",
    "\n",
    "# Appliquer la tokenisation à chaque cellule de toutes les colonnes\n",
    "data_cleaned = data_cleaned.apply(lambda col: col.apply(word_tokenize))\n",
    "\n",
    "# Vérifier les résultats\n",
    "print(data_cleaned.head())"
   ]
  },
  {
   "cell_type": "code",
   "execution_count": 31,
   "metadata": {},
   "outputs": [
    {
     "name": "stdout",
     "output_type": "stream",
     "text": [
      "                                       métier  \\\n",
      "0  [concept, développ, produit, assur, c1101]   \n",
      "1           [conseil, clientel, assur, c1102]   \n",
      "2                     [courtag, assur, c1103]   \n",
      "3             [direct, exploit, assur, c1104]   \n",
      "4             [étud, actuariel, assur, c1105]   \n",
      "\n",
      "                                        appellations  \\\n",
      "0  [charg, charg, produit, assur, chef, produit, ...   \n",
      "1  [agent, commercial, agent, commercial, assur, ...   \n",
      "2  [agent, général, agent, général, assur, courti...   \n",
      "3  [charg, charg, agenc, assur, charg, charg, bur...   \n",
      "4  [actuair, confirm, sénior, actuair, junior, ch...   \n",
      "\n",
      "                                            identité  \\\n",
      "0  [définit, conçoit, adapt, nouveau, produit, as...   \n",
      "1  [définit, inform, conseil, particuli, entrepri...   \n",
      "2  [définit, accompagn, clientel, particuli, prof...   \n",
      "3  [définit, organis, planif, activ, gestion, adm...   \n",
      "4  [définit, evalu, court, moyen, long, term, ren...   \n",
      "\n",
      "                                         compétences  \n",
      "0  [compétent, bas, savoir, fair, analys, don, ma...  \n",
      "1  [compétent, bas, savoir, fair, analys, besoin,...  \n",
      "2  [compétent, bas, savoir, fair, mettr, oeuvr, a...  \n",
      "3  [compétent, bas, savoir, fair, défin, strateg,...  \n",
      "4  [compétent, bas, savoir, fair, propos, axe, am...  \n"
     ]
    },
    {
     "name": "stderr",
     "output_type": "stream",
     "text": [
      "C:\\Users\\Asma\\AppData\\Local\\Temp\\ipykernel_14224\\3638393854.py:7: FutureWarning: DataFrame.applymap has been deprecated. Use DataFrame.map instead.\n",
      "  data_cleaned = data_cleaned.applymap(\n"
     ]
    }
   ],
   "source": [
    "from nltk.stem.snowball import FrenchStemmer\n",
    "\n",
    "# Initialiser le stemmer pour le français\n",
    "stemmer = FrenchStemmer()\n",
    "\n",
    "# Exemple d'application du stemming sur des données tokenisées\n",
    "data_cleaned = data_cleaned.applymap(\n",
    "    lambda x: [stemmer.stem(word) for word in x] if isinstance(x, list) else x\n",
    ")\n",
    "\n",
    "# Vérifier les résultats\n",
    "print(data_cleaned.head())"
   ]
  },
  {
   "cell_type": "code",
   "execution_count": 33,
   "metadata": {},
   "outputs": [
    {
     "name": "stdout",
     "output_type": "stream",
     "text": [
      "Colonne 'métier' vectorisée avec 171 termes.\n",
      "Colonne 'appellations' vectorisée avec 585 termes.\n",
      "Colonne 'identité' vectorisée avec 609 termes.\n",
      "Colonne 'compétences' vectorisée avec 843 termes.\n",
      "Dimensions de la matrice combinée : (70, 2208)\n"
     ]
    }
   ],
   "source": [
    "#Vectorisation\n",
    "#TF-IDF\n",
    "\n",
    "from sklearn.feature_extraction.text import TfidfVectorizer\n",
    "\n",
    "\n",
    "# Dictionnaire pour stocker les résultats vectorisés\n",
    "vecteurs = {}\n",
    "\n",
    "# Vectorisation des colonnes\n",
    "tfidf_vectorizer = TfidfVectorizer()\n",
    "\n",
    "for col in data_cleaned:\n",
    "    # Appliquer TF-IDF à chaque colonne\n",
    "    vecteurs[col] = tfidf_vectorizer.fit_transform(data_cleaned[col].astype(str))\n",
    "    print(f\"Colonne '{col}' vectorisée avec {len(tfidf_vectorizer.get_feature_names_out())} termes.\")\n",
    "\n",
    "# Combiner tous les vecteurs dans une seule matrice\n",
    "from scipy.sparse import hstack\n",
    "\n",
    "vecteurs_combines = hstack(list(vecteurs.values()))\n",
    "\n",
    "# Afficher la dimension de la matrice finale\n",
    "print(f\"Dimensions de la matrice combinée : {vecteurs_combines.shape}\")"
   ]
  },
  {
   "cell_type": "code",
   "execution_count": null,
   "metadata": {},
   "outputs": [],
   "source": []
  }
 ],
 "metadata": {
  "kernelspec": {
   "display_name": "Python 3",
   "language": "python",
   "name": "python3"
  },
  "language_info": {
   "codemirror_mode": {
    "name": "ipython",
    "version": 3
   },
   "file_extension": ".py",
   "mimetype": "text/x-python",
   "name": "python",
   "nbconvert_exporter": "python",
   "pygments_lexer": "ipython3",
   "version": "3.13.0"
  }
 },
 "nbformat": 4,
 "nbformat_minor": 2
}
