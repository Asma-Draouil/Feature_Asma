{
 "cells": [
  {
   "cell_type": "code",
   "execution_count": 66,
   "metadata": {},
   "outputs": [],
   "source": [
    "import pandas as pd\n",
    "import re\n",
    "import matplotlib.pyplot as plt\n",
    "import seaborn as sns"
   ]
  },
  {
   "cell_type": "code",
   "execution_count": 38,
   "metadata": {},
   "outputs": [],
   "source": [
    "data_licence = pd.read_csv(\"licence.csv\")\n",
    "data_master = pd.read_csv(\"masters.csv\")"
   ]
  },
  {
   "cell_type": "markdown",
   "metadata": {},
   "source": [
    "Nettoyage et structuration des données:"
   ]
  },
  {
   "cell_type": "code",
   "execution_count": 39,
   "metadata": {},
   "outputs": [],
   "source": [
    "parcours = [\n",
    "    \"Comptabilité\", \n",
    "    \"Management\", \n",
    "    \"Mathématiques Appliquées à l’Analyse des Données et à l’Aide à la Décision\", \n",
    "    \"Business Intelligence\", \n",
    "    \"Business Information Systems\"\n",
    "]\n",
    "data_licence.insert(0, \"Parcours\", parcours[:len(data_licence)])"
   ]
  },
  {
   "cell_type": "code",
   "execution_count": 40,
   "metadata": {},
   "outputs": [
    {
     "name": "stderr",
     "output_type": "stream",
     "text": [
      "C:\\Users\\Asma\\AppData\\Local\\Temp\\ipykernel_17472\\2566598391.py:4: SettingWithCopyWarning: \n",
      "A value is trying to be set on a copy of a slice from a DataFrame.\n",
      "Try using .loc[row_indexer,col_indexer] = value instead\n",
      "\n",
      "See the caveats in the documentation: https://pandas.pydata.org/pandas-docs/stable/user_guide/indexing.html#returning-a-view-versus-a-copy\n",
      "  modules_licence['Modules'] = modules_licence.iloc[:, 1:].apply(lambda x: ', '.join(x.dropna().astype(str)), axis=1)\n"
     ]
    },
    {
     "data": {
      "text/html": [
       "<div>\n",
       "<style scoped>\n",
       "    .dataframe tbody tr th:only-of-type {\n",
       "        vertical-align: middle;\n",
       "    }\n",
       "\n",
       "    .dataframe tbody tr th {\n",
       "        vertical-align: top;\n",
       "    }\n",
       "\n",
       "    .dataframe thead th {\n",
       "        text-align: right;\n",
       "    }\n",
       "</style>\n",
       "<table border=\"1\" class=\"dataframe\">\n",
       "  <thead>\n",
       "    <tr style=\"text-align: right;\">\n",
       "      <th></th>\n",
       "      <th>Parcours</th>\n",
       "      <th>Modules</th>\n",
       "    </tr>\n",
       "  </thead>\n",
       "  <tbody>\n",
       "    <tr>\n",
       "      <th>0</th>\n",
       "      <td>Comptabilité</td>\n",
       "      <td>Principes de gestion 1, Comptabilité financièr...</td>\n",
       "    </tr>\n",
       "    <tr>\n",
       "      <th>1</th>\n",
       "      <td>Management</td>\n",
       "      <td>Principes de gestion 1, Comptabilité financièr...</td>\n",
       "    </tr>\n",
       "    <tr>\n",
       "      <th>2</th>\n",
       "      <td>Mathématiques Appliquées à l’Analyse des Donné...</td>\n",
       "      <td>Algèbre 1, Analyse 1, Base de données, Program...</td>\n",
       "    </tr>\n",
       "    <tr>\n",
       "      <th>3</th>\n",
       "      <td>Business Intelligence</td>\n",
       "      <td>Algorithmique et Structures de Données 1\\nSyst...</td>\n",
       "    </tr>\n",
       "    <tr>\n",
       "      <th>4</th>\n",
       "      <td>Business Information Systems</td>\n",
       "      <td>Algorithmique et Structures de Données 1\\nSyst...</td>\n",
       "    </tr>\n",
       "  </tbody>\n",
       "</table>\n",
       "</div>"
      ],
      "text/plain": [
       "                                            Parcours  \\\n",
       "0                                       Comptabilité   \n",
       "1                                         Management   \n",
       "2  Mathématiques Appliquées à l’Analyse des Donné...   \n",
       "3                              Business Intelligence   \n",
       "4                       Business Information Systems   \n",
       "\n",
       "                                             Modules  \n",
       "0  Principes de gestion 1, Comptabilité financièr...  \n",
       "1  Principes de gestion 1, Comptabilité financièr...  \n",
       "2  Algèbre 1, Analyse 1, Base de données, Program...  \n",
       "3  Algorithmique et Structures de Données 1\\nSyst...  \n",
       "4  Algorithmique et Structures de Données 1\\nSyst...  "
      ]
     },
     "execution_count": 40,
     "metadata": {},
     "output_type": "execute_result"
    }
   ],
   "source": [
    "# Sélectionner la colonne 'Parcours' et toutes les colonnes commençant par 'Semestre'\n",
    "modules_licence = data_licence[['Parcours'] + [col for col in data_licence.columns if 'Semestre' in col]]\n",
    "# Fusionner les colonnes 'Semestre 1', 'Semestre 2', ... en une seule colonne 'Modules'\n",
    "modules_licence['Modules'] = modules_licence.iloc[:, 1:].apply(lambda x: ', '.join(x.dropna().astype(str)), axis=1)\n",
    "\n",
    "# Supprimer les anciennes colonnes 'Semestre 1', 'Semestre 2', ...\n",
    "modules_licence = modules_licence[['Parcours', 'Modules']]\n",
    "\n",
    "# Vérifier les premières lignes du DataFrame\n",
    "modules_licence.head()\n"
   ]
  },
  {
   "cell_type": "code",
   "execution_count": 41,
   "metadata": {},
   "outputs": [
    {
     "name": "stderr",
     "output_type": "stream",
     "text": [
      "C:\\Users\\Asma\\AppData\\Local\\Temp\\ipykernel_17472\\933239129.py:4: SettingWithCopyWarning: \n",
      "A value is trying to be set on a copy of a slice from a DataFrame.\n",
      "Try using .loc[row_indexer,col_indexer] = value instead\n",
      "\n",
      "See the caveats in the documentation: https://pandas.pydata.org/pandas-docs/stable/user_guide/indexing.html#returning-a-view-versus-a-copy\n",
      "  modules_master['Modules'] = modules_master.iloc[:, 1:].apply(lambda x: ', '.join(x.dropna().astype(str)), axis=1)\n"
     ]
    },
    {
     "data": {
      "text/html": [
       "<div>\n",
       "<style scoped>\n",
       "    .dataframe tbody tr th:only-of-type {\n",
       "        vertical-align: middle;\n",
       "    }\n",
       "\n",
       "    .dataframe tbody tr th {\n",
       "        vertical-align: top;\n",
       "    }\n",
       "\n",
       "    .dataframe thead th {\n",
       "        text-align: right;\n",
       "    }\n",
       "</style>\n",
       "<table border=\"1\" class=\"dataframe\">\n",
       "  <thead>\n",
       "    <tr style=\"text-align: right;\">\n",
       "      <th></th>\n",
       "      <th>Parcours</th>\n",
       "      <th>Modules</th>\n",
       "    </tr>\n",
       "  </thead>\n",
       "  <tbody>\n",
       "    <tr>\n",
       "      <th>0</th>\n",
       "      <td>marketing digital</td>\n",
       "      <td>Management stratégique et transition digitale\\...</td>\n",
       "    </tr>\n",
       "    <tr>\n",
       "      <th>1</th>\n",
       "      <td>Comptabilité, Contrôle, Audit</td>\n",
       "      <td>Commissariat aux comptes Normes internationale...</td>\n",
       "    </tr>\n",
       "    <tr>\n",
       "      <th>2</th>\n",
       "      <td>Management Digital et Systèmes d’Information</td>\n",
       "      <td>Architecture des systèmes d’information\\nManag...</td>\n",
       "    </tr>\n",
       "    <tr>\n",
       "      <th>3</th>\n",
       "      <td>Gestion Actuarielle et Modélisation Mathématique</td>\n",
       "      <td>Modèles linéaires généralisés, Séries temporel...</td>\n",
       "    </tr>\n",
       "    <tr>\n",
       "      <th>4</th>\n",
       "      <td>Finance Digitale</td>\n",
       "      <td>Big Data, Inclusion financière, Finance intern...</td>\n",
       "    </tr>\n",
       "  </tbody>\n",
       "</table>\n",
       "</div>"
      ],
      "text/plain": [
       "                                           Parcours  \\\n",
       "0                                 marketing digital   \n",
       "1                     Comptabilité, Contrôle, Audit   \n",
       "2      Management Digital et Systèmes d’Information   \n",
       "3  Gestion Actuarielle et Modélisation Mathématique   \n",
       "4                                  Finance Digitale   \n",
       "\n",
       "                                             Modules  \n",
       "0  Management stratégique et transition digitale\\...  \n",
       "1  Commissariat aux comptes Normes internationale...  \n",
       "2  Architecture des systèmes d’information\\nManag...  \n",
       "3  Modèles linéaires généralisés, Séries temporel...  \n",
       "4  Big Data, Inclusion financière, Finance intern...  "
      ]
     },
     "execution_count": 41,
     "metadata": {},
     "output_type": "execute_result"
    }
   ],
   "source": [
    "# Sélectionner la colonne 'Parcours' et toutes les colonnes commençant par 'Semestre'\n",
    "modules_master = data_master[['Parcours'] + [col for col in data_master.columns if 'Semestre' in col]]\n",
    "# Fusionner les colonnes 'Semestre 1', 'Semestre 2', ... en une seule colonne 'Modules'\n",
    "modules_master['Modules'] = modules_master.iloc[:, 1:].apply(lambda x: ', '.join(x.dropna().astype(str)), axis=1)\n",
    "\n",
    "# Supprimer les anciennes colonnes 'Semestre 1', 'Semestre 2', ...\n",
    "modules_master = modules_master[['Parcours', 'Modules']]\n",
    "\n",
    "# Vérifier les premières lignes du DataFrame\n",
    "modules_master.head()"
   ]
  },
  {
   "cell_type": "code",
   "execution_count": 42,
   "metadata": {},
   "outputs": [
    {
     "data": {
      "text/html": [
       "<div>\n",
       "<style scoped>\n",
       "    .dataframe tbody tr th:only-of-type {\n",
       "        vertical-align: middle;\n",
       "    }\n",
       "\n",
       "    .dataframe tbody tr th {\n",
       "        vertical-align: top;\n",
       "    }\n",
       "\n",
       "    .dataframe thead th {\n",
       "        text-align: right;\n",
       "    }\n",
       "</style>\n",
       "<table border=\"1\" class=\"dataframe\">\n",
       "  <thead>\n",
       "    <tr style=\"text-align: right;\">\n",
       "      <th></th>\n",
       "      <th>Parcours</th>\n",
       "      <th>Modules</th>\n",
       "    </tr>\n",
       "  </thead>\n",
       "  <tbody>\n",
       "    <tr>\n",
       "      <th>0</th>\n",
       "      <td>Comptabilité</td>\n",
       "      <td>Principes de gestion 1, Comptabilité financièr...</td>\n",
       "    </tr>\n",
       "    <tr>\n",
       "      <th>1</th>\n",
       "      <td>Management</td>\n",
       "      <td>Principes de gestion 1, Comptabilité financièr...</td>\n",
       "    </tr>\n",
       "    <tr>\n",
       "      <th>2</th>\n",
       "      <td>Mathématiques Appliquées à l’Analyse des Donné...</td>\n",
       "      <td>Algèbre 1, Analyse 1, Base de données, Program...</td>\n",
       "    </tr>\n",
       "    <tr>\n",
       "      <th>3</th>\n",
       "      <td>Business Intelligence</td>\n",
       "      <td>Algorithmique et Structures de Données 1\\nSyst...</td>\n",
       "    </tr>\n",
       "    <tr>\n",
       "      <th>4</th>\n",
       "      <td>Business Information Systems</td>\n",
       "      <td>Algorithmique et Structures de Données 1\\nSyst...</td>\n",
       "    </tr>\n",
       "    <tr>\n",
       "      <th>5</th>\n",
       "      <td>marketing digital</td>\n",
       "      <td>Management stratégique et transition digitale\\...</td>\n",
       "    </tr>\n",
       "    <tr>\n",
       "      <th>6</th>\n",
       "      <td>Comptabilité, Contrôle, Audit</td>\n",
       "      <td>Commissariat aux comptes Normes internationale...</td>\n",
       "    </tr>\n",
       "    <tr>\n",
       "      <th>7</th>\n",
       "      <td>Management Digital et Systèmes d’Information</td>\n",
       "      <td>Architecture des systèmes d’information\\nManag...</td>\n",
       "    </tr>\n",
       "    <tr>\n",
       "      <th>8</th>\n",
       "      <td>Gestion Actuarielle et Modélisation Mathématique</td>\n",
       "      <td>Modèles linéaires généralisés, Séries temporel...</td>\n",
       "    </tr>\n",
       "    <tr>\n",
       "      <th>9</th>\n",
       "      <td>Finance Digitale</td>\n",
       "      <td>Big Data, Inclusion financière, Finance intern...</td>\n",
       "    </tr>\n",
       "    <tr>\n",
       "      <th>10</th>\n",
       "      <td>Business Analytics</td>\n",
       "      <td>Gestion de projets et conduite au changement\\n...</td>\n",
       "    </tr>\n",
       "  </tbody>\n",
       "</table>\n",
       "</div>"
      ],
      "text/plain": [
       "                                             Parcours  \\\n",
       "0                                        Comptabilité   \n",
       "1                                          Management   \n",
       "2   Mathématiques Appliquées à l’Analyse des Donné...   \n",
       "3                               Business Intelligence   \n",
       "4                        Business Information Systems   \n",
       "5                                   marketing digital   \n",
       "6                       Comptabilité, Contrôle, Audit   \n",
       "7        Management Digital et Systèmes d’Information   \n",
       "8    Gestion Actuarielle et Modélisation Mathématique   \n",
       "9                                    Finance Digitale   \n",
       "10                                 Business Analytics   \n",
       "\n",
       "                                              Modules  \n",
       "0   Principes de gestion 1, Comptabilité financièr...  \n",
       "1   Principes de gestion 1, Comptabilité financièr...  \n",
       "2   Algèbre 1, Analyse 1, Base de données, Program...  \n",
       "3   Algorithmique et Structures de Données 1\\nSyst...  \n",
       "4   Algorithmique et Structures de Données 1\\nSyst...  \n",
       "5   Management stratégique et transition digitale\\...  \n",
       "6   Commissariat aux comptes Normes internationale...  \n",
       "7   Architecture des systèmes d’information\\nManag...  \n",
       "8   Modèles linéaires généralisés, Séries temporel...  \n",
       "9   Big Data, Inclusion financière, Finance intern...  \n",
       "10  Gestion de projets et conduite au changement\\n...  "
      ]
     },
     "execution_count": 42,
     "metadata": {},
     "output_type": "execute_result"
    }
   ],
   "source": [
    "data_modules = pd.concat([modules_licence, modules_master], ignore_index=True)\n",
    "data_modules\n"
   ]
  },
  {
   "cell_type": "code",
   "execution_count": 43,
   "metadata": {},
   "outputs": [
    {
     "data": {
      "text/html": [
       "<div>\n",
       "<style scoped>\n",
       "    .dataframe tbody tr th:only-of-type {\n",
       "        vertical-align: middle;\n",
       "    }\n",
       "\n",
       "    .dataframe tbody tr th {\n",
       "        vertical-align: top;\n",
       "    }\n",
       "\n",
       "    .dataframe thead th {\n",
       "        text-align: right;\n",
       "    }\n",
       "</style>\n",
       "<table border=\"1\" class=\"dataframe\">\n",
       "  <thead>\n",
       "    <tr style=\"text-align: right;\">\n",
       "      <th></th>\n",
       "      <th>Parcours</th>\n",
       "      <th>Modules</th>\n",
       "    </tr>\n",
       "  </thead>\n",
       "  <tbody>\n",
       "    <tr>\n",
       "      <th>0</th>\n",
       "      <td>LSGC</td>\n",
       "      <td>Principes de gestion 1, Comptabilité financièr...</td>\n",
       "    </tr>\n",
       "    <tr>\n",
       "      <th>1</th>\n",
       "      <td>LSGM</td>\n",
       "      <td>Principes de gestion 1, Comptabilité financièr...</td>\n",
       "    </tr>\n",
       "    <tr>\n",
       "      <th>2</th>\n",
       "      <td>LMAD</td>\n",
       "      <td>Algèbre 1, Analyse 1, Base de données, Program...</td>\n",
       "    </tr>\n",
       "    <tr>\n",
       "      <th>3</th>\n",
       "      <td>BI</td>\n",
       "      <td>Algorithmique et Structures de Données 1\\nSyst...</td>\n",
       "    </tr>\n",
       "    <tr>\n",
       "      <th>4</th>\n",
       "      <td>BIS</td>\n",
       "      <td>Algorithmique et Structures de Données 1\\nSyst...</td>\n",
       "    </tr>\n",
       "    <tr>\n",
       "      <th>5</th>\n",
       "      <td>MKD</td>\n",
       "      <td>Management stratégique et transition digitale\\...</td>\n",
       "    </tr>\n",
       "    <tr>\n",
       "      <th>6</th>\n",
       "      <td>CCA</td>\n",
       "      <td>Commissariat aux comptes Normes internationale...</td>\n",
       "    </tr>\n",
       "    <tr>\n",
       "      <th>7</th>\n",
       "      <td>MDSI</td>\n",
       "      <td>Architecture des systèmes d’information\\nManag...</td>\n",
       "    </tr>\n",
       "    <tr>\n",
       "      <th>8</th>\n",
       "      <td>GAMMA</td>\n",
       "      <td>Modèles linéaires généralisés, Séries temporel...</td>\n",
       "    </tr>\n",
       "    <tr>\n",
       "      <th>9</th>\n",
       "      <td>FIND</td>\n",
       "      <td>Big Data, Inclusion financière, Finance intern...</td>\n",
       "    </tr>\n",
       "    <tr>\n",
       "      <th>10</th>\n",
       "      <td>BA</td>\n",
       "      <td>Gestion de projets et conduite au changement\\n...</td>\n",
       "    </tr>\n",
       "  </tbody>\n",
       "</table>\n",
       "</div>"
      ],
      "text/plain": [
       "   Parcours                                            Modules\n",
       "0      LSGC  Principes de gestion 1, Comptabilité financièr...\n",
       "1      LSGM  Principes de gestion 1, Comptabilité financièr...\n",
       "2      LMAD  Algèbre 1, Analyse 1, Base de données, Program...\n",
       "3        BI  Algorithmique et Structures de Données 1\\nSyst...\n",
       "4       BIS  Algorithmique et Structures de Données 1\\nSyst...\n",
       "5       MKD  Management stratégique et transition digitale\\...\n",
       "6       CCA  Commissariat aux comptes Normes internationale...\n",
       "7      MDSI  Architecture des systèmes d’information\\nManag...\n",
       "8     GAMMA  Modèles linéaires généralisés, Séries temporel...\n",
       "9      FIND  Big Data, Inclusion financière, Finance intern...\n",
       "10       BA  Gestion de projets et conduite au changement\\n..."
      ]
     },
     "execution_count": 43,
     "metadata": {},
     "output_type": "execute_result"
    }
   ],
   "source": [
    "data_modules[\"Parcours\"]= data_modules[\"Parcours\"].replace({\n",
    "    \"Comptabilité\": \"LSGC\",\n",
    "    \"Management\": \"LSGM\",\n",
    "    \"Mathématiques Appliquées à l’Analyse des Données et à l’Aide à la Décision\": \"LMAD\",\n",
    "    \"Business Intelligence\": \"BI\",\n",
    "    \"Business Information Systems\": \"BIS\",\n",
    "    \"marketing digital\": \"MKD\",\n",
    "    \"Comptabilité, Contrôle, Audit\": \"CCA\",\n",
    "    \"Management Digital et Systèmes d’Information\": \"MDSI\",\n",
    "    \"Gestion Actuarielle et Modélisation Mathématique\": \"GAMMA\",\n",
    "    \"Finance Digitale\": \"FIND\",\n",
    "    \"Business Analytics\": \"BA\"\n",
    "})\n",
    "\n",
    "\n",
    "data_modules"
   ]
  },
  {
   "cell_type": "code",
   "execution_count": 74,
   "metadata": {},
   "outputs": [],
   "source": [
    "# Supprimer les chiffres romains (I, II, III, IV, ...) et les espaces qui les entourent\n",
    "data_modules['Modules'] = data_modules['Modules'].str.replace(r'\\s?I{1,3}\\s?', '', regex=True)\n",
    "\n",
    "\n",
    "# Supprimer les nombres dans la colonne 'Modules'\n",
    "data_modules['Modules'] = data_modules['Modules'].apply(lambda x: re.sub(r'\\d+', '', x))\n",
    "\n",
    "# Nettoyer les espaces superflus et uniformiser les valeurs\n",
    "data_modules['Modules'] = data_modules['Modules'].str.strip().str.lower()"
   ]
  },
  {
   "cell_type": "code",
   "execution_count": 75,
   "metadata": {},
   "outputs": [
    {
     "name": "stdout",
     "output_type": "stream",
     "text": [
      "  Parcours                    Modules\n",
      "0     LSGC       principes de gestion\n",
      "1     LSGC    comptabilité financière\n",
      "2     LSGC              microéconomie\n",
      "3     LSGC               mathématique\n",
      "4     LSGC       ntroduction au droit\n",
      "5     LSGC  mathématiques financières\n",
      "6     LSGC                    anglais\n",
      "7     LSGC            aptitudes en tc\n",
      "8     LSGC       principes de gestion\n",
      "9     LSGC    comptabilité financière\n"
     ]
    }
   ],
   "source": [
    "# Remplacer les séparateurs ',' et '/' par une virgule ','\n",
    "data_modules['Modules'] = data_modules['Modules'].str.replace(r'[,/]', ',', regex=True)\n",
    "\n",
    "# Convertir la colonne 'Modules' en liste en séparant les éléments par la virgule\n",
    "data_modules['Modules'] = data_modules['Modules'].str.split(',')\n",
    "\n",
    "# Exploser la colonne 'Modules' pour créer une ligne par module\n",
    "data_modules = data_modules.explode('Modules')\n",
    "\n",
    "# Réinitialiser les indices\n",
    "data_modules = data_modules.reset_index(drop=True)\n",
    "\n",
    "# Vérifier le résultat\n",
    "print(data_modules.head(10))\n"
   ]
  },
  {
   "cell_type": "markdown",
   "metadata": {},
   "source": [
    "Analyse descriptive"
   ]
  },
  {
   "cell_type": "code",
   "execution_count": 76,
   "metadata": {},
   "outputs": [
    {
     "name": "stdout",
     "output_type": "stream",
     "text": [
      "<class 'pandas.core.frame.DataFrame'>\n",
      "RangeIndex: 223 entries, 0 to 222\n",
      "Data columns (total 2 columns):\n",
      " #   Column    Non-Null Count  Dtype \n",
      "---  ------    --------------  ----- \n",
      " 0   Parcours  223 non-null    object\n",
      " 1   Modules   223 non-null    object\n",
      "dtypes: object(2)\n",
      "memory usage: 3.6+ KB\n",
      "None\n"
     ]
    }
   ],
   "source": [
    "# Résumé général\n",
    "print(data_modules.info())\n"
   ]
  },
  {
   "cell_type": "code",
   "execution_count": 77,
   "metadata": {},
   "outputs": [
    {
     "name": "stdout",
     "output_type": "stream",
     "text": [
      "Nombre de lignes: 223, Nombre de colonnes: 2\n"
     ]
    }
   ],
   "source": [
    "# Nombre de lignes et colonnes\n",
    "print(f\"Nombre de lignes: {data_modules.shape[0]}, Nombre de colonnes: {data_modules.shape[1]}\")"
   ]
  },
  {
   "cell_type": "code",
   "execution_count": 78,
   "metadata": {},
   "outputs": [
    {
     "name": "stdout",
     "output_type": "stream",
     "text": [
      "Parcours    0\n",
      "Modules     0\n",
      "dtype: int64\n"
     ]
    }
   ],
   "source": [
    "# Vérifier les valeurs manquantes\n",
    "print(data_modules.isnull().sum())"
   ]
  },
  {
   "cell_type": "code",
   "execution_count": 79,
   "metadata": {},
   "outputs": [
    {
     "name": "stdout",
     "output_type": "stream",
     "text": [
      "Modalités :\n"
     ]
    },
    {
     "data": {
      "text/plain": [
       "array(['principes de gestion', 'comptabilité financière', 'microéconomie',\n",
       "       'mathématique', 'ntroduction au droit',\n",
       "       'mathématiques financières', 'anglais', 'aptitudes en tc',\n",
       "       'statistique descriptive et calculs de probabilité',\n",
       "       'macroéconomie', 'droit des sociétés commerciales',\n",
       "       'comptabilité intermédiaire', 'comptabilité de gestion',\n",
       "       'séminaire métiers', 'anglais des affaires',\n",
       "       'culture entrepreneuriale', 'droit des affaires',\n",
       "       'économie des affaires', 'contrôle interne',\n",
       "       'tva et droit de consommation',\n",
       "       'méthodologie d’élaboration d’un rapport de stage',\n",
       "       'projet professionnel et personnel',\n",
       "       'droit des obligations et des sûretés', 'management des projets',\n",
       "       'comptabilité avancée',\n",
       "       'cadre conceptuel et présentation des états financiers',\n",
       "       'contrôle de gestion',\n",
       "       'élaboration et validation du rapport de stage',\n",
       "       'anglais comptable et financier',\n",
       "       'préparation à la vie professionnelle', 'management stratégique',\n",
       "       'droit d’enregistrement et de timbre',\n",
       "       'comptabilité internationale :frs', 'audit',\n",
       "       'décisions financières', 'projet tutoré',\n",
       "       'nformatique et système d’information (préparation à la certification sage)',\n",
       "       'economie des tc', 'comptabilité sectorielle', 'projet intégré',\n",
       "       'séminaire culture générale', 'fondamentaux en management',\n",
       "       'fondamentaux en marketing', 'séminaire orienté métiers',\n",
       "       'fiscalité', 'statistique inférentielle', 'fondamentaux de la grh',\n",
       "       'diagnostic financier', 'gestion de la production',\n",
       "       'développement durable', 'ntroduction au design thinking',\n",
       "       'théorie des organisations',\n",
       "       'analyses quantitatives et qualitatives', 'management de projet',\n",
       "       'management de la qualité et certification',\n",
       "       'elaboration et validation du rapport de stage',\n",
       "       'ntroduction au big data', 'droit numérique',\n",
       "       'analyse de données et prise de décision',\n",
       "       'management de l’innovation et entrepreneuriat',\n",
       "       'management de la transformation digitale et système d’information',\n",
       "       'controle de gestion', 'progiciel de gestion intégré',\n",
       "       'management interculturel', 'economie internationale', 'algèbre',\n",
       "       'analyse', 'base de données', 'programmation c',\n",
       "       'atelier programmation r', 'séminaire',\n",
       "       'systèmes de gestion de bases de données',\n",
       "       'système d’information d’aide à la décision',\n",
       "       'atelier de programmation python', 'ntelligence artificielle',\n",
       "       'programmation c avancé', 'atelier python',\n",
       "       'recherche opérationnelle', 'ntroduction big data',\n",
       "       'programmation oo', 'projet professionnel personnel',\n",
       "       'probabilités', 'calcul différentiel', 'mathématiques discrètes',\n",
       "       'analyse des données', 'gestion de carrière',\n",
       "       'atelier data science',\n",
       "       'algorithmique et structures de données \\nsystèmes d’exploitation systèmes logiques et architectures des ordinateurs\\nanalyse\\nstatistiques et probabilités\\nprincipes de gestion\\ncomptabilité générale\\ncompétences numériques : excel avancé\\nbusiness communication \\nprincipes de l’économie\\ntravail collaboratifnterface homme machine\\nséminaire',\n",
       "       'algorithmique et structures de données \\nfondements des réseauxntroduction aux systèmes d’nformation\\nlogique mathématique\\nalgèbre\\nsystèmes d’nformation comptable\\ngestion financière\\nbusiness communication \\ndéveloppement durable\\nprojet tuteuréntroduction à l’informatique décisionnelle\\nmarketing stratégique',\n",
       "       'programmation oo\\nprogrammation web \\nconception oo des systèmes d’nformation\\nbases de données\\nstatistiquesnférentielles\\nfondements de l’a\\nmarketing digital\\neconomie numérique\\nethique et lois dest\\nprojet professionnel personnel (ppp)\\nsocial media\\nmanagement des projets\\nséminaire',\n",
       "       'gestion des opérations et de la logistique\\nbusiness process management\\nframework .net\\nprogrammation web\\nsgbd & administration des bds\\ngouvernance des ssécurité des sproblem solving\\nanglais\\nprojet tuteuré métier\\nentrepreneuriat &nnovation\\nbig data',\n",
       "       'ntégration des serp\\ngénie logiciel\\ngestion des projets sdéveloppement mobile\\xa0\\ndéveloppement jee\\nbusinessntelligence\\xa0\\xa0\\nstratégies d’affaires électroniques\\xa0\\nprofessional network service – gestion de carrière\\nanglais d’affaires\\ne-business\\ne-crm\\nséminaire métier',\n",
       "       'ntégration des serp\\ngénie logiciel\\ngestion des projets sdéveloppement mobile\\ndéveloppement jee\\nbusinessntelligence\\nstratégies d’affaires électroniques\\nprofessional network service – gestion de carrière\\nanglais d’affaires\\ne-business\\ne-crm\\nséminaire métier',\n",
       "       'management stratégique et transition digitale\\nmanagement de projet : fondement technique\\ncommunication digitale\\nrecherche marketing\\ne-business\\nanglaisefficacité professionnelle et développement personnel\\nséminaire métiersdroit du numérique\\ndd & rse\\nprojet intégré',\n",
       "       'web marketing\\nmarketing mobile\\ntechnologie webnfographie et web design\\nsocial media marketing\\ne-crm\\nmanagement des systèmes d’information\\nanglaiscompétences personnelles et relationnelles\\nséminaire métiersprojet intégrédéveloppement webntroduction au big data',\n",
       "       'web analyses\\nanalyse de données marketing\\ne-merchandising\\ne-commerce\\npolitique de référencement\\nmanagement interculturel\\nanglaispréparation & insertion à la vie professionnelle\\nséminaire métiersdesign thinking\\nprojet intégrégouvernance des données personnelles',\n",
       "       'stage en entreprise (pfe)',\n",
       "       'commissariat aux comptes normes internationales relatives aux produits et autres thèmes particuliers droit pénal des affaires fiscalité indirecte finance d’entreprise : investissements et financements evaluation des entreprises contrôle de gestion stratégique management des projets audit et contrôle internengénierie financière projet intégré',\n",
       "       'séminaires',\n",
       "       'comptabilité : fusion et consolidation gestion juridique et fiscale des structures audit et contrôle internefinancenternationale finance des marchés et gestion des risques fiscaliténternationale contrôle et contentieux fiscal avantages fiscaux comptabilité internationale des entités publiques anglais des affaires projet intégréséminaire',\n",
       "       'cas de synthèse en comptabilité cas de synthèse en audit et contrôle interne cas de synthèse en commissariat aux comptes et droit des affaires cas de synthèse en fiscalité cas de synthèse en finance cas de synthèse en contrôle de gestionnitiation à la méthodologie de recherche stage',\n",
       "       'architecture des systèmes d’information\\nmanagement des systèmes d’information\\ndigital technology & business value\\nmanagement stratégique et transition digitale\\ne-business\\ndroit du numérique\\nanglais\\nefficacité professionnelle et développement personnel\\nséminaires métiersprojet intégré',\n",
       "       'management des projets et conduite du changement\\nveille et intelligence technologique\\ntransformation digitale & supply chain\\nweb marketing\\nbusiness process management\\nanalyse des données et prise de décision\\noutillage en machine learning\\nprojet intégréanglaiscompétences personnelles et relationnelles\\nséminaires métiers',\n",
       "       'sdécisionnels et big data\\nsolution s: erp',\n",
       "       'crm & bgouvernance et audit des sbig data et gouvernance des données personnelles\\nmanagement des équipes et transition digitale\\nmanagement interculturel\\nanalyse et conception des smodélisation des data warehouse',\n",
       "       'probabilités et analyse statistique\\natelier de programmation et introduction aux sntroduction au management et gestion de projets\\nanglais\\nfrançais\\nséminaires',\n",
       "       'modèles linéaires généralisés', 'séries temporelles',\n",
       "       'fondamentaux en probabilités', 'méthodes de monte-carlo',\n",
       "       'actuariat vie et non vie', 'machine learning',\n",
       "       'modèles financiers', 'management des risques',\n",
       "       'comptabilité sectorielle (assurance)',\n",
       "       'droit numérique et protection des données personnelles',\n",
       "       'projet tutoré  (programmation vba)',\n",
       "       'modèles aléatoires pour l’actuariat et la finance',\n",
       "       'actuariat pour la réassurance et risques extrêmes',\n",
       "       'modélisation et mesure du risque',\n",
       "       'asset and liability management (alm)',\n",
       "       'apprentissage statistique', 'big data analytics',\n",
       "       'droit des entreprises d’assurance et réglementation',\n",
       "       'gestion de risque de l’assurance',\n",
       "       'préparation etnsertion professionnelle',\n",
       "       'stage de  mois\\xa0 en entreprise (sfe)', 'big data',\n",
       "       'nclusion financière',\n",
       "       'finance internationale & globalisation financière',\n",
       "       'management de l’innovation', 'produits bancaires innovants',\n",
       "       'econométrie appliquée à la finance',\n",
       "       'efficacité professionnelle & compétences personnelles',\n",
       "       'solutions s: erp', 'crm & core banking', 'actuariat',\n",
       "       'datamining', 'trading à haute fréquence (thf)',\n",
       "       'technologies rpa', 'technologies blockchain & crypto-monnaies',\n",
       "       'ethiques et risques de la fintech',\n",
       "       'cyber sécurité et cryptographie', 'regtech',\n",
       "       'lois relatives à la protection des données personnelles',\n",
       "       'préparation &nsertion à la vie professionnelle',\n",
       "       'atelier de design thinking', 'séminaires métiers',\n",
       "       'applications financières : open banking',\n",
       "       'assurance digitale :nsurtech',\n",
       "       'stage de fin d’études l’accès au master :',\n",
       "       'gestion de projets et conduite au changement\\nmanagement de l’innovation\\nrecherche opérationnelle\\nsgbd et pl',\n",
       "       'sql\\nsystèmes d’information décisionnels\\nknowledge management\\nveille et intelligence technologique\\ncompétences personnelles et relationnelles\\nséminaire métiersanglais',\n",
       "       'management stratégique\\npilotage de projets décisionnels\\nséries temporellesntroduction au cloud computing\\nmachine learning\\ndata mining\\nanglaisséminaire métiersprojet tuteuré orienté business intelligence\\nanalyse des données financières\\nanalyse de données marketing\\ne-business',\n",
       "       'business process management\\ndroit des données numériques\\ndeep learning eta\\ngouvernance et sécurité des données\\nbig data analytics\\ndata visualization\\nanglaisprojet tutoré orienté big data\\nséminaire métiers\\narchitecture orientée servicesot\\ndigital technology & business value',\n",
       "       'atelier bstage de  mois en entreprise (sfe)'], dtype=object)"
      ]
     },
     "execution_count": 79,
     "metadata": {},
     "output_type": "execute_result"
    }
   ],
   "source": [
    "# Modalités \n",
    "modalites = data_modules['Modules'].unique()\n",
    "print(\"Modalités :\")\n",
    "modalites"
   ]
  },
  {
   "cell_type": "code",
   "execution_count": 80,
   "metadata": {},
   "outputs": [
    {
     "name": "stdout",
     "output_type": "stream",
     "text": [
      "Effectifs :\n"
     ]
    },
    {
     "data": {
      "text/plain": [
       "Modules\n",
       "anglais                                                                                                                                                                                                                                                                                       13\n",
       "séminaire                                                                                                                                                                                                                                                                                      7\n",
       "projet tutoré                                                                                                                                                                                                                                                                                  5\n",
       "projet intégré                                                                                                                                                                                                                                                                                 5\n",
       "aptitudes en tc                                                                                                                                                                                                                                                                                4\n",
       "                                                                                                                                                                                                                                                                                              ..\n",
       "gestion de projets et conduite au changement\\nmanagement de l’innovation\\nrecherche opérationnelle\\nsgbd et pl                                                                                                                                                                                 1\n",
       "sql\\nsystèmes d’information décisionnels\\nknowledge management\\nveille et intelligence technologique\\ncompétences personnelles et relationnelles\\nséminaire métiersanglais                                                                                                                     1\n",
       "management stratégique\\npilotage de projets décisionnels\\nséries temporellesntroduction au cloud computing\\nmachine learning\\ndata mining\\nanglaisséminaire métiersprojet tuteuré orienté business intelligence\\nanalyse des données financières\\nanalyse de données marketing\\ne-business     1\n",
       "business process management\\ndroit des données numériques\\ndeep learning eta\\ngouvernance et sécurité des données\\nbig data analytics\\ndata visualization\\nanglaisprojet tutoré orienté big data\\nséminaire métiers\\narchitecture orientée servicesot\\ndigital technology & business value     1\n",
       "atelier bstage de  mois en entreprise (sfe)                                                                                                                                                                                                                                                    1\n",
       "Name: count, Length: 156, dtype: int64"
      ]
     },
     "execution_count": 80,
     "metadata": {},
     "output_type": "execute_result"
    }
   ],
   "source": [
    "# Effectif par module\n",
    "effectifs = data_modules['Modules'].value_counts()\n",
    "print(\"Effectifs :\")\n",
    "effectifs"
   ]
  },
  {
   "cell_type": "code",
   "execution_count": 81,
   "metadata": {},
   "outputs": [
    {
     "name": "stdout",
     "output_type": "stream",
     "text": [
      "Fréquences relatives :\n"
     ]
    },
    {
     "data": {
      "text/plain": [
       "Modules\n",
       "anglais                                                                                                                                                                                                                                                                                       0.058296\n",
       "séminaire                                                                                                                                                                                                                                                                                     0.031390\n",
       "projet tutoré                                                                                                                                                                                                                                                                                 0.022422\n",
       "projet intégré                                                                                                                                                                                                                                                                                0.022422\n",
       "aptitudes en tc                                                                                                                                                                                                                                                                               0.017937\n",
       "                                                                                                                                                                                                                                                                                                ...   \n",
       "gestion de projets et conduite au changement\\nmanagement de l’innovation\\nrecherche opérationnelle\\nsgbd et pl                                                                                                                                                                                0.004484\n",
       "sql\\nsystèmes d’information décisionnels\\nknowledge management\\nveille et intelligence technologique\\ncompétences personnelles et relationnelles\\nséminaire métiersanglais                                                                                                                    0.004484\n",
       "management stratégique\\npilotage de projets décisionnels\\nséries temporellesntroduction au cloud computing\\nmachine learning\\ndata mining\\nanglaisséminaire métiersprojet tuteuré orienté business intelligence\\nanalyse des données financières\\nanalyse de données marketing\\ne-business    0.004484\n",
       "business process management\\ndroit des données numériques\\ndeep learning eta\\ngouvernance et sécurité des données\\nbig data analytics\\ndata visualization\\nanglaisprojet tutoré orienté big data\\nséminaire métiers\\narchitecture orientée servicesot\\ndigital technology & business value    0.004484\n",
       "atelier bstage de  mois en entreprise (sfe)                                                                                                                                                                                                                                                   0.004484\n",
       "Name: proportion, Length: 156, dtype: float64"
      ]
     },
     "execution_count": 81,
     "metadata": {},
     "output_type": "execute_result"
    }
   ],
   "source": [
    "# Fréquences relatives\n",
    "frequences = data_modules['Modules'].value_counts(normalize=True)\n",
    "print(\"Fréquences relatives :\")\n",
    "frequences"
   ]
  },
  {
   "cell_type": "code",
   "execution_count": 82,
   "metadata": {},
   "outputs": [
    {
     "name": "stdout",
     "output_type": "stream",
     "text": [
      "Pourcentages :\n",
      "Modules\n",
      "anglais                                                                                                                                                                                                                                                                                       5.829596\n",
      "séminaire                                                                                                                                                                                                                                                                                     3.139013\n",
      "projet tutoré                                                                                                                                                                                                                                                                                 2.242152\n",
      "projet intégré                                                                                                                                                                                                                                                                                2.242152\n",
      "aptitudes en tc                                                                                                                                                                                                                                                                               1.793722\n",
      "                                                                                                                                                                                                                                                                                                ...   \n",
      "gestion de projets et conduite au changement\\nmanagement de l’innovation\\nrecherche opérationnelle\\nsgbd et pl                                                                                                                                                                                0.448430\n",
      "sql\\nsystèmes d’information décisionnels\\nknowledge management\\nveille et intelligence technologique\\ncompétences personnelles et relationnelles\\nséminaire métiersanglais                                                                                                                    0.448430\n",
      "management stratégique\\npilotage de projets décisionnels\\nséries temporellesntroduction au cloud computing\\nmachine learning\\ndata mining\\nanglaisséminaire métiersprojet tuteuré orienté business intelligence\\nanalyse des données financières\\nanalyse de données marketing\\ne-business    0.448430\n",
      "business process management\\ndroit des données numériques\\ndeep learning eta\\ngouvernance et sécurité des données\\nbig data analytics\\ndata visualization\\nanglaisprojet tutoré orienté big data\\nséminaire métiers\\narchitecture orientée servicesot\\ndigital technology & business value    0.448430\n",
      "atelier bstage de  mois en entreprise (sfe)                                                                                                                                                                                                                                                   0.448430\n",
      "Name: proportion, Length: 156, dtype: float64\n"
     ]
    }
   ],
   "source": [
    "# Pourcentages\n",
    "pourcentages = frequences * 100\n",
    "print(\"Pourcentages :\")\n",
    "print(pourcentages)"
   ]
  },
  {
   "cell_type": "code",
   "execution_count": 83,
   "metadata": {},
   "outputs": [
    {
     "name": "stdout",
     "output_type": "stream",
     "text": [
      "Tableau Statistique :\n"
     ]
    },
    {
     "data": {
      "text/html": [
       "<div>\n",
       "<style scoped>\n",
       "    .dataframe tbody tr th:only-of-type {\n",
       "        vertical-align: middle;\n",
       "    }\n",
       "\n",
       "    .dataframe tbody tr th {\n",
       "        vertical-align: top;\n",
       "    }\n",
       "\n",
       "    .dataframe thead th {\n",
       "        text-align: right;\n",
       "    }\n",
       "</style>\n",
       "<table border=\"1\" class=\"dataframe\">\n",
       "  <thead>\n",
       "    <tr style=\"text-align: right;\">\n",
       "      <th></th>\n",
       "      <th>Modules</th>\n",
       "      <th>Effectif</th>\n",
       "      <th>Fréquence Relative</th>\n",
       "      <th>Pourcentage</th>\n",
       "    </tr>\n",
       "  </thead>\n",
       "  <tbody>\n",
       "    <tr>\n",
       "      <th>0</th>\n",
       "      <td>anglais</td>\n",
       "      <td>13</td>\n",
       "      <td>0.058296</td>\n",
       "      <td>5.829596</td>\n",
       "    </tr>\n",
       "    <tr>\n",
       "      <th>1</th>\n",
       "      <td>séminaire</td>\n",
       "      <td>7</td>\n",
       "      <td>0.031390</td>\n",
       "      <td>3.139013</td>\n",
       "    </tr>\n",
       "    <tr>\n",
       "      <th>2</th>\n",
       "      <td>projet tutoré</td>\n",
       "      <td>5</td>\n",
       "      <td>0.022422</td>\n",
       "      <td>2.242152</td>\n",
       "    </tr>\n",
       "    <tr>\n",
       "      <th>3</th>\n",
       "      <td>projet intégré</td>\n",
       "      <td>5</td>\n",
       "      <td>0.022422</td>\n",
       "      <td>2.242152</td>\n",
       "    </tr>\n",
       "    <tr>\n",
       "      <th>4</th>\n",
       "      <td>aptitudes en tc</td>\n",
       "      <td>4</td>\n",
       "      <td>0.017937</td>\n",
       "      <td>1.793722</td>\n",
       "    </tr>\n",
       "  </tbody>\n",
       "</table>\n",
       "</div>"
      ],
      "text/plain": [
       "           Modules  Effectif  Fréquence Relative  Pourcentage\n",
       "0          anglais        13            0.058296     5.829596\n",
       "1        séminaire         7            0.031390     3.139013\n",
       "2    projet tutoré         5            0.022422     2.242152\n",
       "3   projet intégré         5            0.022422     2.242152\n",
       "4  aptitudes en tc         4            0.017937     1.793722"
      ]
     },
     "execution_count": 83,
     "metadata": {},
     "output_type": "execute_result"
    }
   ],
   "source": [
    "# Tableau statistique\n",
    "tableau_statistique = pd.DataFrame({\n",
    "    'Effectif': effectifs,\n",
    "    'Fréquence Relative': frequences,\n",
    "    'Pourcentage': pourcentages\n",
    "})\n",
    "\n",
    "# Réorganiser l'ordre des colonnes et ajouter un index propre\n",
    "tableau_statistique = tableau_statistique.reset_index().rename(columns={'index': 'Module'})\n",
    "print(\"Tableau Statistique :\")\n",
    "tableau_statistique.head()"
   ]
  },
  {
   "cell_type": "markdown",
   "metadata": {},
   "source": [
    "Représentation graphique: "
   ]
  },
  {
   "cell_type": "code",
   "execution_count": 84,
   "metadata": {},
   "outputs": [
    {
     "name": "stderr",
     "output_type": "stream",
     "text": [
      "C:\\Users\\Asma\\AppData\\Local\\Temp\\ipykernel_17472\\1277661380.py:5: FutureWarning: \n",
      "\n",
      "Passing `palette` without assigning `hue` is deprecated and will be removed in v0.14.0. Assign the `y` variable to `hue` and set `legend=False` for the same effect.\n",
      "\n",
      "  sns.barplot(x='Effectif', y='Modules', data=top_modules, palette=\"viridis\")\n"
     ]
    },
    {
     "data": {
      "image/png": "[encoded data removed]",
      "text/plain": [
       "<Figure size 1200x600 with 1 Axes>"
      ]
     },
     "metadata": {},
     "output_type": "display_data"
    }
   ],
   "source": [
    "#Diagramme en Barres\n",
    "# Top 10 des modules les plus fréquents\n",
    "top_modules = tableau_statistique.head(10)\n",
    "\n",
    "plt.figure(figsize=(12, 6))\n",
    "sns.barplot(x='Effectif', y='Modules', data=top_modules, palette=\"viridis\")\n",
    "plt.title(\"Top 10 des Modules par Effectif\")\n",
    "plt.xlabel(\"Effectif\")\n",
    "plt.ylabel(\"Modules\")\n",
    "plt.show()"
   ]
  },
  {
   "cell_type": "code",
   "execution_count": 85,
   "metadata": {},
   "outputs": [
    {
     "data": {
      "image/png": "[encoded data removed]",
      "text/plain": [
       "<Figure size 800x800 with 1 Axes>"
      ]
     },
     "metadata": {},
     "output_type": "display_data"
    }
   ],
   "source": [
    "# Diagramme circulaire\n",
    "tableau_statistique.set_index('Modules')['Pourcentage'].head(10).plot.pie(\n",
    "    autopct='%1.1f%%', figsize=(8, 8), cmap='coolwarm')\n",
    "plt.title(\"Répartition des 10 principaux modules (en %)\")\n",
    "plt.ylabel(\"\")\n",
    "plt.show()"
   ]
  },
  {
   "cell_type": "code",
   "execution_count": null,
   "metadata": {},
   "outputs": [],
   "source": []
  }
 ],
 "metadata": {
  "kernelspec": {
   "display_name": "Python 3",
   "language": "python",
   "name": "python3"
  },
  "language_info": {
   "codemirror_mode": {
    "name": "ipython",
    "version": 3
   },
   "file_extension": ".py",
   "mimetype": "text/x-python",
   "name": "python",
   "nbconvert_exporter": "python",
   "pygments_lexer": "ipython3",
   "version": "3.13.0"
  }
 },
 "nbformat": 4,
 "nbformat_minor": 2
}
