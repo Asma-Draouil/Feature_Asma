{
 "cells": [
  {
   "cell_type": "code",
   "execution_count": 2,
   "metadata": {},
   "outputs": [],
   "source": [
    "import requests\n",
    "from bs4 import BeautifulSoup\n",
    "import pandas as pd\n",
    "import csv\n",
    "import re"
   ]
  },
  {
   "cell_type": "code",
   "execution_count": 3,
   "metadata": {},
   "outputs": [],
   "source": [
    "# URL du site web\n",
    "url = 'https://www.esb.tn/programmes/masters-professionnels/master-en-management-digital-systemes-dinformation/'\n",
    "# Charger le contenu HTML depuis la page web\n",
    "response = requests.get(url)\n",
    "response.raise_for_status()  # Vérifier que la requête s'est bien passée\n",
    "html = response.text"
   ]
  },
  {
   "cell_type": "code",
   "execution_count": 4,
   "metadata": {},
   "outputs": [],
   "source": [
    "# Parser le HTML avec BeautifulSoup\n",
    "soup = BeautifulSoup(html, 'html.parser')"
   ]
  },
  {
   "cell_type": "code",
   "execution_count": 6,
   "metadata": {},
   "outputs": [
    {
     "name": "stdout",
     "output_type": "stream",
     "text": [
      "Aucun objectif spécifique pour le parcours BI trouvé.\n"
     ]
    }
   ],
   "source": [
    "# Extraire l'objectif du parcours BI\n",
    "# On recherche les éléments contenant le mot \"BI\" et vérifie le contexte\n",
    "objective_bi = []\n",
    "for element in soup.find_all(string=lambda text: \"BI\" in text if text else False):\n",
    "    parent = element.find_parent()\n",
    "    if parent and 'objectif' in parent.get_text().lower():\n",
    "        # Extraire seulement la phrase contenant l'objectif souhaité\n",
    "        full_text = parent.get_text(strip=True)\n",
    "        target_text = \"Le Master Professionnel en Management Digital et Systèmes d’Information permet de former des spécialistes en management des systèmes d’information et intégration des technologies de l’information et de la communication capables d’accompagner les entreprises dans leurs processus de transformation digitale. Le Master Professionnel en Management digital & systèmes d’information est disponible en double diplôme en International Management avec IMT-BS et en Management et Stratégie d’Entreprise avec Ascencia Business School\"\n",
    "        if target_text in full_text:\n",
    "            objective_bi.append(target_text)\n",
    "\n",
    "# Afficher le résultat\n",
    "if objective_bi:\n",
    "    # Créer un DataFrame à partir de la liste\n",
    "    df = pd.DataFrame(objective_bi, columns=['Objectif BI'])\n",
    " # Exporter vers un fichier CSV\n",
    "    df.to_csv('objectif_bi.csv', index=False, encoding='utf-8-sig')\n",
    "\n",
    "    print(\"Les objectifs ont été enregistrés dans le fichier 'objectif_bi.csv'.\")\n",
    "else:\n",
    "    print(\"Aucun objectif spécifique pour le parcours BI trouvé.\")\n"
   ]
  },
  {
   "cell_type": "code",
   "execution_count": 19,
   "metadata": {},
   "outputs": [
    {
     "name": "stdout",
     "output_type": "stream",
     "text": [
      "Contenu trouvé :\n",
      "MANAGEMENT :Business Process Management, Conduite du Changement, Management de projets, Supply Chain, etc.\n",
      "DIGITAL :ERP, Business Intelligence, Big Data, SAP, CRM\n",
      "SOFT SKILLS :Séminaires, Développement Personnel, Business Games, Langues, etc.\n",
      "PROJET PROFESSIONNEL :Stages, PFE, Projets intégrés, Visites d’entreprises, etc.\n",
      "Le contenu a été enregistré dans 'contenu_programme.csv'.\n"
     ]
    },
    {
     "name": "stderr",
     "output_type": "stream",
     "text": [
      "C:\\Users\\Asma\\AppData\\Local\\Temp\\ipykernel_11656\\4083360866.py:2: DeprecationWarning: The 'text' argument to find()-type methods is deprecated. Use 'string' instead.\n",
      "  contenu_section = soup.find('h3', text=\"Contenu\")\n"
     ]
    }
   ],
   "source": [
    "# Trouver la section \"Contenu\"\n",
    "contenu_section = soup.find('h3', text=\"Contenu\")\n",
    "\n",
    "if contenu_section:\n",
    "    # Trouver le premier <ul> qui suit cette section\n",
    "    ul_section = contenu_section.find_next('ul')\n",
    "\n",
    "    # Liste pour stocker les données extraites\n",
    "    contenu_data = []\n",
    "\n",
    "    # Extraire tous les <li> de la liste\n",
    "    if ul_section:\n",
    "        for li in ul_section.find_all('li'):\n",
    "            # Récupérer uniquement le texte dans <strong> et le texte qui suit\n",
    "            contenu_data.append(li.get_text(strip=True))\n",
    "\n",
    "    # Afficher les résultats extraits\n",
    "    print(\"Contenu trouvé :\")\n",
    "    for item in contenu_data:\n",
    "        print(item)\n",
    "\n",
    "    # Enregistrer dans un fichier CSV\n",
    "    with open('contenu_programme.csv', mode='w', newline='', encoding='utf-8-sig') as file:\n",
    "        writer = csv.writer(file)\n",
    "        writer.writerow([\"Contenu\"])  # En-tête du fichier CSV\n",
    "        for item in contenu_data:\n",
    "            writer.writerow([item])  # Écriture de chaque ligne\n",
    "\n",
    "    print(\"Le contenu a été enregistré dans 'contenu_programme.csv'.\")\n",
    "else:\n",
    "    print(\"Section 'Contenu' non trouvée sur la page.\")"
   ]
  },
  {
   "cell_type": "code",
   "execution_count": 20,
   "metadata": {},
   "outputs": [
    {
     "name": "stdout",
     "output_type": "stream",
     "text": [
      "Compétences trouvées :\n",
      "Anticiper et gérer les changements liés à la transformation digitale.\n",
      "Identifier les choix stratégiques appropriés pour le management et l’optimisation des systèmes d’information des entreprises .\n",
      "Intégrer le management des systèmes d’information et des outils technologiques IT dans la stratégie globale de l’entreprise.\n",
      "Assurer la veille technologique et évaluer la pertinence des technologies émergentes dans le développement des affaires pour une entreprise.\n",
      "Conduire des projets à fort contenu technologique et s’assurer de la performance économique, sociale et sociétale des entreprises.\n",
      "Les compétences ont été enregistrées dans 'competences_programme.csv'.\n"
     ]
    },
    {
     "name": "stderr",
     "output_type": "stream",
     "text": [
      "C:\\Users\\Asma\\AppData\\Local\\Temp\\ipykernel_11656\\111806148.py:2: DeprecationWarning: The 'text' argument to find()-type methods is deprecated. Use 'string' instead.\n",
      "  competences_section = soup.find('h3', text=\"Compétences\")\n"
     ]
    }
   ],
   "source": [
    "# Trouver la section \"Compétences\"\n",
    "competences_section = soup.find('h3', text=\"Compétences\")\n",
    "\n",
    "if competences_section:\n",
    "    # Trouver le premier <ul> qui suit cette section\n",
    "    ul_section = competences_section.find_next('ul')\n",
    "\n",
    "    # Liste pour stocker les données extraites\n",
    "    competences_data = []\n",
    "\n",
    "    # Extraire tous les <li> de la liste\n",
    "    if ul_section:\n",
    "        for li in ul_section.find_all('li'):\n",
    "            # Récupérer le texte de chaque <li>\n",
    "            competences_data.append(li.get_text(strip=True))\n",
    "\n",
    "    # Afficher les résultats extraits\n",
    "    print(\"Compétences trouvées :\")\n",
    "    for item in competences_data:\n",
    "        print(item)\n",
    "\n",
    "    # Enregistrer dans un fichier CSV\n",
    "    with open('competences_programme.csv', mode='w', newline='', encoding='utf-8-sig') as file:\n",
    "        writer = csv.writer(file)\n",
    "        writer.writerow([\"Compétences\"])  # En-tête du fichier CSV\n",
    "        for item in competences_data:\n",
    "            writer.writerow([item])  # Écriture de chaque ligne\n",
    "\n",
    "    print(\"Les compétences ont été enregistrées dans 'competences_programme.csv'.\")\n",
    "else:\n",
    "    print(\"Section 'Compétences' non trouvée sur la page.\")"
   ]
  },
  {
   "cell_type": "code",
   "execution_count": 26,
   "metadata": {},
   "outputs": [
    {
     "name": "stdout",
     "output_type": "stream",
     "text": [
      "Trouvé div.master !\n",
      "Métiers :\n",
      "Responsable de la Transformation Digital :Chief Digital Officer, Responsable Stratégie Digitale\n",
      "Chef de Projet Digital :Digital Account Executive, IT Project Manager, Chef de Produit / Service, Manager des Actifs Numériques.\n",
      "Consultant en Systèmes d’Information :Consultant ERP, Consultant IT, Consultant CRM\n",
      "\n",
      "Secteurs d’activité :\n",
      "Entreprises de services numériques\n",
      "Sociétés de conseil\n",
      "Banques & Assurances\n",
      "BTP\n",
      "Technologies de l’information et des communications.\n",
      "\n",
      "Partenariats professionnels :\n",
      "> Opérateur de télécommunication\n",
      "> Banques et Assurances\n",
      "Les données ont été enregistrées dans 'metiers_secteurs_partenariats.csv'.\n"
     ]
    },
    {
     "name": "stderr",
     "output_type": "stream",
     "text": [
      "C:\\Users\\Asma\\AppData\\Local\\Temp\\ipykernel_11656\\4211781131.py:18: DeprecationWarning: The 'text' argument to find()-type methods is deprecated. Use 'string' instead.\n",
      "  metiers_section = master_div.find('h3', text='Métiers')\n",
      "C:\\Users\\Asma\\AppData\\Local\\Temp\\ipykernel_11656\\4211781131.py:26: DeprecationWarning: The 'text' argument to find()-type methods is deprecated. Use 'string' instead.\n",
      "  secteurs_section = master_div.find('h3', text='Secteurs d’activité')\n",
      "C:\\Users\\Asma\\AppData\\Local\\Temp\\ipykernel_11656\\4211781131.py:33: DeprecationWarning: The 'text' argument to find()-type methods is deprecated. Use 'string' instead.\n",
      "  partenariats_section = master_div.find('h3', text='Partenariats professionnels')\n"
     ]
    }
   ],
   "source": [
    "# Trouver la section <div class=\"master\"> (seulement cette section)\n",
    "master_div = soup.find('div', class_='master')\n",
    "\n",
    "# Vérifier que l'on est bien dans la bonne div\n",
    "if master_div:\n",
    "    print(\"Trouvé div.master !\")\n",
    "else:\n",
    "    print(\"Div.master introuvable.\")\n",
    "\n",
    "# Extraire les sections \"Métiers\", \"Secteurs d’activité\" et \"Partenariats professionnels\"\n",
    "sections = {\n",
    "    \"Métiers\": [],\n",
    "    \"Secteurs d’activité\": [],\n",
    "    \"Partenariats professionnels\": []\n",
    "}\n",
    "\n",
    "# Extraire \"Métiers\"\n",
    "metiers_section = master_div.find('h3', text='Métiers')\n",
    "if metiers_section:\n",
    "    metiers_list = metiers_section.find_next('ul').find_all('li')\n",
    "    for item in metiers_list:\n",
    "        # Nettoyer et formater le texte\n",
    "        sections[\"Métiers\"].append(item.get_text(strip=True))\n",
    "\n",
    "# Extraire \"Secteurs d’activité\"\n",
    "secteurs_section = master_div.find('h3', text='Secteurs d’activité')\n",
    "if secteurs_section:\n",
    "    secteurs_list = secteurs_section.find_next('ul').find_all('li')\n",
    "    for item in secteurs_list:\n",
    "        sections[\"Secteurs d’activité\"].append(item.get_text(strip=True))\n",
    "\n",
    "# Extraire \"Partenariats professionnels\"\n",
    "partenariats_section = master_div.find('h3', text='Partenariats professionnels')\n",
    "if partenariats_section:\n",
    "    partenariats_list = partenariats_section.find_next('p').find_all_next('p')  # Prendre les paragraphes qui suivent\n",
    "    for item in partenariats_list:\n",
    "        # Si le texte commence par un \">\", on l'ajoute\n",
    "        if item.get_text(strip=True).startswith(\">\"):\n",
    "            sections[\"Partenariats professionnels\"].append(item.get_text(strip=True))\n",
    "\n",
    "# Afficher les résultats extraits\n",
    "print(\"Métiers :\")\n",
    "for item in sections[\"Métiers\"]:\n",
    "    print(item)\n",
    "print(\"\\nSecteurs d’activité :\")\n",
    "for item in sections[\"Secteurs d’activité\"]:\n",
    "    print(item)\n",
    "print(\"\\nPartenariats professionnels :\")\n",
    "for item in sections[\"Partenariats professionnels\"]:\n",
    "    print(item)\n",
    "\n",
    "# Enregistrer dans un fichier CSV\n",
    "with open('metiers_secteurs_partenariats.csv', mode='w', newline='', encoding='utf-8-sig') as file:\n",
    "    writer = csv.writer(file)\n",
    "    writer.writerow([\"Section\", \"Contenu\"])  # En-tête du fichier\n",
    "    for section, items in sections.items():\n",
    "        for item in items:\n",
    "            writer.writerow([section, item])  # Écriture de chaque ligne\n",
    "\n",
    "print(\"Les données ont été enregistrées dans 'metiers_secteurs_partenariats.csv'.\")"
   ]
  },
  {
   "cell_type": "code",
   "execution_count": 27,
   "metadata": {},
   "outputs": [
    {
     "name": "stdout",
     "output_type": "stream",
     "text": [
      "Trouvé 'Matières par semestre' !\n",
      "Les données ont été enregistrées dans 'matieres_par_semestre.csv'.\n"
     ]
    },
    {
     "name": "stderr",
     "output_type": "stream",
     "text": [
      "C:\\Users\\Asma\\AppData\\Local\\Temp\\ipykernel_11656\\972334481.py:2: DeprecationWarning: The 'text' argument to find()-type methods is deprecated. Use 'string' instead.\n",
      "  matiere_section = soup.find('h3', text='Matières par semestre')\n"
     ]
    }
   ],
   "source": [
    "# Trouver la section \"Matières par semestre\"\n",
    "matiere_section = soup.find('h3', text='Matières par semestre')\n",
    "\n",
    "# Vérifier que l'on a trouvé la section\n",
    "if matiere_section:\n",
    "    print(\"Trouvé 'Matières par semestre' !\")\n",
    "else:\n",
    "    print(\"'Matières par semestre' introuvable.\")\n",
    "\n",
    "# Extraire les semestres et leurs matières\n",
    "semestres = []\n",
    "accordion_items = matiere_section.find_next('div', class_='elementor-accordion').find_all('div', class_='elementor-accordion-item')\n",
    "\n",
    "# Extraire les matières pour chaque semestre\n",
    "for item in accordion_items:\n",
    "    semestre_title = item.find('a').get_text(strip=True)\n",
    "    if semestre_title:\n",
    "        matières_list = item.find('div', class_='elementor-tab-content').find('ul').find_all('li')\n",
    "        for matière in matières_list:\n",
    "            matières = matière.get_text(strip=True)\n",
    "            semestres.append([semestre_title, matières])\n",
    "\n",
    "# Enregistrer dans un fichier CSV\n",
    "with open('matieres_par_semestre.csv', mode='w', newline='', encoding='utf-8-sig') as file:\n",
    "    writer = csv.writer(file)\n",
    "    writer.writerow([\"Semestre\", \"Matière\"])  # En-tête du fichier\n",
    "    for semestre, matière in semestres:\n",
    "        writer.writerow([semestre, matière])  # Écriture de chaque ligne\n",
    "\n",
    "print(\"Les données ont été enregistrées dans 'matieres_par_semestre.csv'.\")"
   ]
  },
  {
   "cell_type": "code",
   "execution_count": null,
   "metadata": {},
   "outputs": [],
   "source": [
    "data = {\n",
    "    'Objectifs': objectifs,\n",
    "    'Contenu': contenu,\n",
    "    'Compétences': competences,\n",
    "    'Métiers': metiers,\n",
    "    'Secteurs d’activité': secteurs,\n",
    "    'Partenariats professionnels': str(partenariats)\n",
    "}\n",
    "\n",
    "for semestre, matieres in matieres_par_semestre.items():\n",
    "    data[semestre] = \"\\n\".join(matieres)\n",
    "\n",
    "# Écriture dans le fichier CSV\n",
    "filename = 'programme_master_marketing_digital.csv'\n",
    "with open(filename, mode='w', newline='', encoding='utf-8-sig') as file:\n",
    "    writer = csv.writer(file)\n",
    "    writer.writerow(data.keys())  # En-têtes\n",
    "    writer.writerow(data.values())  # Valeurs"
   ]
  }
 ],
 "metadata": {
  "kernelspec": {
   "display_name": "Python 3",
   "language": "python",
   "name": "python3"
  },
  "language_info": {
   "codemirror_mode": {
    "name": "ipython",
    "version": 3
   },
   "file_extension": ".py",
   "mimetype": "text/x-python",
   "name": "python",
   "nbconvert_exporter": "python",
   "pygments_lexer": "ipython3",
   "version": "3.13.0"
  }
 },
 "nbformat": 4,
 "nbformat_minor": 2
}
