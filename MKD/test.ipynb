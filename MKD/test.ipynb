{
 "cells": [
  {
   "cell_type": "code",
   "execution_count": 2,
   "metadata": {},
   "outputs": [],
   "source": [
    "import requests\n",
    "from bs4 import BeautifulSoup\n",
    "import pandas as pd\n",
    "import csv"
   ]
  },
  {
   "cell_type": "code",
   "execution_count": 4,
   "metadata": {},
   "outputs": [
    {
     "data": {
      "text/html": [
       "<div>\n",
       "<style scoped>\n",
       "    .dataframe tbody tr th:only-of-type {\n",
       "        vertical-align: middle;\n",
       "    }\n",
       "\n",
       "    .dataframe tbody tr th {\n",
       "        vertical-align: top;\n",
       "    }\n",
       "\n",
       "    .dataframe thead th {\n",
       "        text-align: right;\n",
       "    }\n",
       "</style>\n",
       "<table border=\"1\" class=\"dataframe\">\n",
       "  <thead>\n",
       "    <tr style=\"text-align: right;\">\n",
       "      <th></th>\n",
       "      <th>Objectifs</th>\n",
       "      <th>Contenu</th>\n",
       "      <th>Compétences</th>\n",
       "      <th>Métiers</th>\n",
       "      <th>Secteurs d’activité</th>\n",
       "      <th>Partenariats professionnels</th>\n",
       "      <th>Période d'Harmonisation</th>\n",
       "      <th>Semestre 1</th>\n",
       "      <th>Semestre 2</th>\n",
       "      <th>Semestre 3</th>\n",
       "      <th>Semestre 4</th>\n",
       "      <th>Période d’Harmonisation</th>\n",
       "    </tr>\n",
       "  </thead>\n",
       "  <tbody>\n",
       "    <tr>\n",
       "      <th>0</th>\n",
       "      <td>Le Master Professionnel en Marketing Digital v...</td>\n",
       "      <td>NaN</td>\n",
       "      <td>Préparer les contenus de la communication (ben...</td>\n",
       "      <td>Chargé de la Communication Web : Directeur de ...</td>\n",
       "      <td>Entreprises de services numériques\\nSociétés d...</td>\n",
       "      <td>Agences de communication\\nSociétés de conseil\\...</td>\n",
       "      <td>Probabilité et Statistique\\nAnalyse Statistiqu...</td>\n",
       "      <td>Management stratégique et transition digitale\\...</td>\n",
       "      <td>Web marketing\\nMarketing mobile\\nTechnologie W...</td>\n",
       "      <td>Web analyses\\nAnalyse de données marketing\\ne-...</td>\n",
       "      <td>Stage en entreprise (PFE)</td>\n",
       "      <td>Probabilité et statistique\\nAnalyse statistiqu...</td>\n",
       "    </tr>\n",
       "  </tbody>\n",
       "</table>\n",
       "</div>"
      ],
      "text/plain": [
       "                                           Objectifs  Contenu  \\\n",
       "0  Le Master Professionnel en Marketing Digital v...      NaN   \n",
       "\n",
       "                                         Compétences  \\\n",
       "0  Préparer les contenus de la communication (ben...   \n",
       "\n",
       "                                             Métiers  \\\n",
       "0  Chargé de la Communication Web : Directeur de ...   \n",
       "\n",
       "                                 Secteurs d’activité  \\\n",
       "0  Entreprises de services numériques\\nSociétés d...   \n",
       "\n",
       "                         Partenariats professionnels  \\\n",
       "0  Agences de communication\\nSociétés de conseil\\...   \n",
       "\n",
       "                             Période d'Harmonisation  \\\n",
       "0  Probabilité et Statistique\\nAnalyse Statistiqu...   \n",
       "\n",
       "                                          Semestre 1  \\\n",
       "0  Management stratégique et transition digitale\\...   \n",
       "\n",
       "                                          Semestre 2  \\\n",
       "0  Web marketing\\nMarketing mobile\\nTechnologie W...   \n",
       "\n",
       "                                          Semestre 3  \\\n",
       "0  Web analyses\\nAnalyse de données marketing\\ne-...   \n",
       "\n",
       "                  Semestre 4  \\\n",
       "0  Stage en entreprise (PFE)   \n",
       "\n",
       "                             Période d’Harmonisation  \n",
       "0  Probabilité et statistique\\nAnalyse statistiqu...  "
      ]
     },
     "execution_count": 4,
     "metadata": {},
     "output_type": "execute_result"
    }
   ],
   "source": [
    "data = pd.read_csv(\"programme_master_marketing_digital.csv\")\n",
    "data.head()"
   ]
  }
 ],
 "metadata": {
  "kernelspec": {
   "display_name": "Python 3",
   "language": "python",
   "name": "python3"
  },
  "language_info": {
   "codemirror_mode": {
    "name": "ipython",
    "version": 3
   },
   "file_extension": ".py",
   "mimetype": "text/x-python",
   "name": "python",
   "nbconvert_exporter": "python",
   "pygments_lexer": "ipython3",
   "version": "3.13.0"
  }
 },
 "nbformat": 4,
 "nbformat_minor": 2
}
