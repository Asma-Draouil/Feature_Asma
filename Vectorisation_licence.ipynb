{
  "nbformat": 4,
  "nbformat_minor": 0,
  "metadata": {
    "colab": {
      "provenance": [],
      "authorship_tag": "ABX9TyN6tJfENCnofFtzQUVv+vDm",
      "include_colab_link": true
    },
    "kernelspec": {
      "name": "python3",
      "display_name": "Python 3"
    },
    "language_info": {
      "name": "python"
    }
  },
  "cells": [
    {
      "cell_type": "markdown",
      "metadata": {
        "id": "view-in-github",
        "colab_type": "text"
      },
      "source": [
        "<a href=\"https://colab.research.google.com/github/Asma-Draouil/Feature_Asma/blob/main/Vectorisation_licence.ipynb\" target=\"_parent\"><img src=\"https://colab.research.google.com/assets/colab-badge.svg\" alt=\"Open In Colab\"/></a>"
      ]
    },
    {
      "cell_type": "code",
      "execution_count": 3,
      "metadata": {
        "id": "vhchPWvGDhOJ"
      },
      "outputs": [],
      "source": [
        "import pandas as pd\n",
        "import re\n",
        "from nltk.corpus import stopwords\n",
        "import nltk\n"
      ]
    },
    {
      "cell_type": "code",
      "source": [
        "url=\"https://raw.githubusercontent.com/Asma-Draouil/Feature_Asma/refs/heads/main/Nouveau%20dossier/licence.csv\"\n",
        "df = pd.read_csv(url)\n"
      ],
      "metadata": {
        "id": "X-nHS7-zDyDz"
      },
      "execution_count": 4,
      "outputs": []
    },
    {
      "cell_type": "code",
      "source": [
        "data_cleaned = df.copy()"
      ],
      "metadata": {
        "id": "wrGXmSLQFQeb"
      },
      "execution_count": 5,
      "outputs": []
    },
    {
      "cell_type": "code",
      "source": [
        "parcours = [\n",
        "    \"Comptabilité\",\n",
        "    \"Management\",\n",
        "    \"Mathématiques Appliquées à l’Analyse des Données et à l’Aide à la Décision\",\n",
        "    \"Business Intelligence\",\n",
        "    \"Business Information Systems\"\n",
        "]\n",
        "data_cleaned.insert(0, \"Parcours\", parcours[:len(data_cleaned)])\n"
      ],
      "metadata": {
        "id": "Sk5RL4nQFUVk"
      },
      "execution_count": 6,
      "outputs": []
    },
    {
      "cell_type": "code",
      "source": [
        "# Télécharger les ressources nécessaires pour NLTK\n",
        "nltk.download('stopwords')\n",
        "\n",
        "\n",
        "# Charger les stopwords en français\n",
        "stop_words = set(stopwords.words('french'))\n",
        "\n",
        "def nettoyer_colonne_avance(texte):\n",
        "    if not isinstance(texte, str):  # Vérifie que la valeur est une chaîne\n",
        "        return ''\n",
        "    # Convertir en minuscules\n",
        "    texte = texte.lower()\n",
        "    # Remplacer les caractères spéciaux et ponctuations par des espaces\n",
        "    texte = re.sub(r'[^\\w\\s]', ' ', texte)\n",
        "    # Supprimer les espaces multiples\n",
        "    texte = re.sub(r'\\s+', ' ', texte).strip()\n",
        "    # Supprimer les mots inutiles\n",
        "    mots = texte.split()  # Divise le texte en mots avec split (pas de tokenisation)\n",
        "    mots = [mot for mot in mots if mot not in stop_words]\n",
        "    return ' '.join(mots)  # Recombine les mots filtrés\n"
      ],
      "metadata": {
        "colab": {
          "base_uri": "https://localhost:8080/"
        },
        "id": "PuMbh1HhFZpT",
        "outputId": "c94c9dd1-617c-4a34-d4be-8cc7051b6c39"
      },
      "execution_count": 7,
      "outputs": [
        {
          "output_type": "stream",
          "name": "stderr",
          "text": [
            "[nltk_data] Downloading package stopwords to /root/nltk_data...\n",
            "[nltk_data]   Package stopwords is already up-to-date!\n"
          ]
        }
      ]
    },
    {
      "cell_type": "code",
      "source": [
        "# Liste des colonnes textuelles\n",
        "colonnes_textuelles = [\n",
        "    \"Objectifs\", \"Contenu\", \"Compétences\", \"Métiers\",\n",
        "    \"Secteurs d’activité\", \"Partenariats professionnels\",\n",
        "    \"Semestre 1\", \"Semestre 2\", \"Semestre 3\", \"Semestre 4\", \"Semestre 5\", \"Semestre 6\"\n",
        "]\n",
        "\n",
        "# Vérifiez quelles colonnes existent dans le DataFrame\n",
        "colonnes_existe = [col for col in colonnes_textuelles if col in data_cleaned.columns]\n",
        "\n",
        "\n",
        "for col in colonnes_existe:\n",
        "    data_cleaned[col] = data_cleaned[col].fillna('').apply(nettoyer_colonne_avance)\n",
        "\n"
      ],
      "metadata": {
        "id": "X3WiRcS5FeyK"
      },
      "execution_count": 8,
      "outputs": []
    },
    {
      "cell_type": "code",
      "source": [
        "data_cleaned = data_cleaned.fillna('')"
      ],
      "metadata": {
        "id": "Dq2d7gDqFjHz"
      },
      "execution_count": 9,
      "outputs": []
    },
    {
      "cell_type": "code",
      "source": [
        "data_cleaned.head()"
      ],
      "metadata": {
        "colab": {
          "base_uri": "https://localhost:8080/",
          "height": 608
        },
        "id": "L7-IdqlUFnPr",
        "outputId": "1937f45d-df1d-4831-ff4d-5c396574cfe3"
      },
      "execution_count": 10,
      "outputs": [
        {
          "output_type": "execute_result",
          "data": {
            "text/plain": [
              "                                            Parcours  \\\n",
              "0                                       Comptabilité   \n",
              "1                                         Management   \n",
              "2  Mathématiques Appliquées à l’Analyse des Donné...   \n",
              "3                              Business Intelligence   \n",
              "4                       Business Information Systems   \n",
              "\n",
              "                                           Objectifs  \\\n",
              "0  licence science gestion parcours managementvis...   \n",
              "1  licence science gestion parcours managementvis...   \n",
              "2  monde devenu mathématique décision repose anal...   \n",
              "3  licence business computing parcoursbusiness in...   \n",
              "4  objectif former consultants dotés assise théor...   \n",
              "\n",
              "                                             Contenu  \\\n",
              "0  comptabilite fiscalite finance comptabilité fi...   \n",
              "1  sciences gestion gestion economie comptabilité...   \n",
              "2  mathématiques statistiques analyse données opt...   \n",
              "3  informatique bi systèmes information développe...   \n",
              "4  informatique bi systèmes information développe...   \n",
              "\n",
              "                                         Compétences  \\\n",
              "0  maîtriser techniques élaboration supports comm...   \n",
              "1  analyser évolutions environnement affaires ana...   \n",
              "2  aider organisations créer valeur innover leurs...   \n",
              "3  maîtriser utilisation outil informatique gesti...   \n",
              "4  concevoir développer solution décisionnelle an...   \n",
              "\n",
              "                                             Métiers  \\\n",
              "0  comptable contrôleur gestion trésorier financi...   \n",
              "1  chargé clientèle chef projet chef produit mana...   \n",
              "2  analyste données chargé études actuarielles as...   \n",
              "3  développeur testeur concepteur architecte syst...   \n",
              "4  consultant bi analyste consultant décisionnel ...   \n",
              "\n",
              "                                 Secteurs d’activité  \\\n",
              "0  cabinets expertise comptable départements comp...   \n",
              "1  entreprises services numériques entreprises in...   \n",
              "2  sociétés services informatique éditeurs logici...   \n",
              "3  sociétés services informatique éditeurs logici...   \n",
              "4  sociétés services informatique éditeurs logici...   \n",
              "\n",
              "                         Partenariats professionnels  \\\n",
              "0  entreprise services numériques sociétés consei...   \n",
              "1  agence communication sociétés conseil entrepri...   \n",
              "2  entreprises services numériques banques assura...   \n",
              "3  entreprises services numériques banques assura...   \n",
              "4  entreprises services numériques banques assura...   \n",
              "\n",
              "                                          Semestre 1  \\\n",
              "0  principes gestion 1 comptabilité financière 1 ...   \n",
              "1  principes gestion 1 comptabilité financière 1 ...   \n",
              "2  algèbre 1 analyse 1 base données programmation...   \n",
              "3  algorithmique structures données 1 systèmes ex...   \n",
              "4  algorithmique structures données 1 systèmes ex...   \n",
              "\n",
              "                                          Semestre 2  \\\n",
              "0  principes gestion 2 comptabilité financière 2 ...   \n",
              "1  principes gestion 2 comptabilité financière 2 ...   \n",
              "2  algèbre 2 analyse 2 systèmes gestion bases don...   \n",
              "3  algorithmique structures données 2 fondements ...   \n",
              "4  algorithmique structures données 2 fondements ...   \n",
              "\n",
              "                                          Semestre 3  \\\n",
              "0  comptabilité intermédiaire i comptabilité gest...   \n",
              "1  fondamentaux management comptabilité gestion f...   \n",
              "2  algèbre 3 analyse 3 intelligence artificielle ...   \n",
              "3  programmation oo programmation web 1 conceptio...   \n",
              "4  programmation oo programmation web 1 conceptio...   \n",
              "\n",
              "                                          Semestre 4  \\\n",
              "0  comptabilité intermédiaire ii contrôle interne...   \n",
              "1  fondamentaux grh diagnostic financier gestion ...   \n",
              "2  recherche opérationnelle analyse 4 introductio...   \n",
              "3  gestion opérations logistique business process...   \n",
              "4  gestion opérations logistique business process...   \n",
              "\n",
              "                                          Semestre 5  \\\n",
              "0  comptabilité avancée cadre conceptuel présenta...   \n",
              "1  théorie organisations analyses quantitatives q...   \n",
              "2  probabilités calcul différentiel mathématiques...   \n",
              "3  intégration si erp génie logiciel gestion proj...   \n",
              "4  intégration si erp génie logiciel gestion proj...   \n",
              "\n",
              "                                          Semestre 6  \n",
              "0  comptabilité internationale ifrs audit décisio...  \n",
              "1  management innovation entrepreneuriat manageme...  \n",
              "2                                                     \n",
              "3                                                     \n",
              "4                                                     "
            ],
            "text/html": [
              "\n",
              "  <div id=\"df-46afa1a5-1249-42eb-848e-deccad7b86d9\" class=\"colab-df-container\">\n",
              "    <div>\n",
              "<style scoped>\n",
              "    .dataframe tbody tr th:only-of-type {\n",
              "        vertical-align: middle;\n",
              "    }\n",
              "\n",
              "    .dataframe tbody tr th {\n",
              "        vertical-align: top;\n",
              "    }\n",
              "\n",
              "    .dataframe thead th {\n",
              "        text-align: right;\n",
              "    }\n",
              "</style>\n",
              "<table border=\"1\" class=\"dataframe\">\n",
              "  <thead>\n",
              "    <tr style=\"text-align: right;\">\n",
              "      <th></th>\n",
              "      <th>Parcours</th>\n",
              "      <th>Objectifs</th>\n",
              "      <th>Contenu</th>\n",
              "      <th>Compétences</th>\n",
              "      <th>Métiers</th>\n",
              "      <th>Secteurs d’activité</th>\n",
              "      <th>Partenariats professionnels</th>\n",
              "      <th>Semestre 1</th>\n",
              "      <th>Semestre 2</th>\n",
              "      <th>Semestre 3</th>\n",
              "      <th>Semestre 4</th>\n",
              "      <th>Semestre 5</th>\n",
              "      <th>Semestre 6</th>\n",
              "    </tr>\n",
              "  </thead>\n",
              "  <tbody>\n",
              "    <tr>\n",
              "      <th>0</th>\n",
              "      <td>Comptabilité</td>\n",
              "      <td>licence science gestion parcours managementvis...</td>\n",
              "      <td>comptabilite fiscalite finance comptabilité fi...</td>\n",
              "      <td>maîtriser techniques élaboration supports comm...</td>\n",
              "      <td>comptable contrôleur gestion trésorier financi...</td>\n",
              "      <td>cabinets expertise comptable départements comp...</td>\n",
              "      <td>entreprise services numériques sociétés consei...</td>\n",
              "      <td>principes gestion 1 comptabilité financière 1 ...</td>\n",
              "      <td>principes gestion 2 comptabilité financière 2 ...</td>\n",
              "      <td>comptabilité intermédiaire i comptabilité gest...</td>\n",
              "      <td>comptabilité intermédiaire ii contrôle interne...</td>\n",
              "      <td>comptabilité avancée cadre conceptuel présenta...</td>\n",
              "      <td>comptabilité internationale ifrs audit décisio...</td>\n",
              "    </tr>\n",
              "    <tr>\n",
              "      <th>1</th>\n",
              "      <td>Management</td>\n",
              "      <td>licence science gestion parcours managementvis...</td>\n",
              "      <td>sciences gestion gestion economie comptabilité...</td>\n",
              "      <td>analyser évolutions environnement affaires ana...</td>\n",
              "      <td>chargé clientèle chef projet chef produit mana...</td>\n",
              "      <td>entreprises services numériques entreprises in...</td>\n",
              "      <td>agence communication sociétés conseil entrepri...</td>\n",
              "      <td>principes gestion 1 comptabilité financière 1 ...</td>\n",
              "      <td>principes gestion 2 comptabilité financière 2 ...</td>\n",
              "      <td>fondamentaux management comptabilité gestion f...</td>\n",
              "      <td>fondamentaux grh diagnostic financier gestion ...</td>\n",
              "      <td>théorie organisations analyses quantitatives q...</td>\n",
              "      <td>management innovation entrepreneuriat manageme...</td>\n",
              "    </tr>\n",
              "    <tr>\n",
              "      <th>2</th>\n",
              "      <td>Mathématiques Appliquées à l’Analyse des Donné...</td>\n",
              "      <td>monde devenu mathématique décision repose anal...</td>\n",
              "      <td>mathématiques statistiques analyse données opt...</td>\n",
              "      <td>aider organisations créer valeur innover leurs...</td>\n",
              "      <td>analyste données chargé études actuarielles as...</td>\n",
              "      <td>sociétés services informatique éditeurs logici...</td>\n",
              "      <td>entreprises services numériques banques assura...</td>\n",
              "      <td>algèbre 1 analyse 1 base données programmation...</td>\n",
              "      <td>algèbre 2 analyse 2 systèmes gestion bases don...</td>\n",
              "      <td>algèbre 3 analyse 3 intelligence artificielle ...</td>\n",
              "      <td>recherche opérationnelle analyse 4 introductio...</td>\n",
              "      <td>probabilités calcul différentiel mathématiques...</td>\n",
              "      <td></td>\n",
              "    </tr>\n",
              "    <tr>\n",
              "      <th>3</th>\n",
              "      <td>Business Intelligence</td>\n",
              "      <td>licence business computing parcoursbusiness in...</td>\n",
              "      <td>informatique bi systèmes information développe...</td>\n",
              "      <td>maîtriser utilisation outil informatique gesti...</td>\n",
              "      <td>développeur testeur concepteur architecte syst...</td>\n",
              "      <td>sociétés services informatique éditeurs logici...</td>\n",
              "      <td>entreprises services numériques banques assura...</td>\n",
              "      <td>algorithmique structures données 1 systèmes ex...</td>\n",
              "      <td>algorithmique structures données 2 fondements ...</td>\n",
              "      <td>programmation oo programmation web 1 conceptio...</td>\n",
              "      <td>gestion opérations logistique business process...</td>\n",
              "      <td>intégration si erp génie logiciel gestion proj...</td>\n",
              "      <td></td>\n",
              "    </tr>\n",
              "    <tr>\n",
              "      <th>4</th>\n",
              "      <td>Business Information Systems</td>\n",
              "      <td>objectif former consultants dotés assise théor...</td>\n",
              "      <td>informatique bi systèmes information développe...</td>\n",
              "      <td>concevoir développer solution décisionnelle an...</td>\n",
              "      <td>consultant bi analyste consultant décisionnel ...</td>\n",
              "      <td>sociétés services informatique éditeurs logici...</td>\n",
              "      <td>entreprises services numériques banques assura...</td>\n",
              "      <td>algorithmique structures données 1 systèmes ex...</td>\n",
              "      <td>algorithmique structures données 2 fondements ...</td>\n",
              "      <td>programmation oo programmation web 1 conceptio...</td>\n",
              "      <td>gestion opérations logistique business process...</td>\n",
              "      <td>intégration si erp génie logiciel gestion proj...</td>\n",
              "      <td></td>\n",
              "    </tr>\n",
              "  </tbody>\n",
              "</table>\n",
              "</div>\n",
              "    <div class=\"colab-df-buttons\">\n",
              "\n",
              "  <div class=\"colab-df-container\">\n",
              "    <button class=\"colab-df-convert\" onclick=\"convertToInteractive('df-46afa1a5-1249-42eb-848e-deccad7b86d9')\"\n",
              "            title=\"Convert this dataframe to an interactive table.\"\n",
              "            style=\"display:none;\">\n",
              "\n",
              "  <svg xmlns=\"http://www.w3.org/2000/svg\" height=\"24px\" viewBox=\"0 -960 960 960\">\n",
              "    <path d=\"M120-120v-720h720v720H120Zm60-500h600v-160H180v160Zm220 220h160v-160H400v160Zm0 220h160v-160H400v160ZM180-400h160v-160H180v160Zm440 0h160v-160H620v160ZM180-180h160v-160H180v160Zm440 0h160v-160H620v160Z\"/>\n",
              "  </svg>\n",
              "    </button>\n",
              "\n",
              "  <style>\n",
              "    .colab-df-container {\n",
              "      display:flex;\n",
              "      gap: 12px;\n",
              "    }\n",
              "\n",
              "    .colab-df-convert {\n",
              "      background-color: #E8F0FE;\n",
              "      border: none;\n",
              "      border-radius: 50%;\n",
              "      cursor: pointer;\n",
              "      display: none;\n",
              "      fill: #1967D2;\n",
              "      height: 32px;\n",
              "      padding: 0 0 0 0;\n",
              "      width: 32px;\n",
              "    }\n",
              "\n",
              "    .colab-df-convert:hover {\n",
              "      background-color: #E2EBFA;\n",
              "      box-shadow: 0px 1px 2px rgba(60, 64, 67, 0.3), 0px 1px 3px 1px rgba(60, 64, 67, 0.15);\n",
              "      fill: #174EA6;\n",
              "    }\n",
              "\n",
              "    .colab-df-buttons div {\n",
              "      margin-bottom: 4px;\n",
              "    }\n",
              "\n",
              "    [theme=dark] .colab-df-convert {\n",
              "      background-color: #3B4455;\n",
              "      fill: #D2E3FC;\n",
              "    }\n",
              "\n",
              "    [theme=dark] .colab-df-convert:hover {\n",
              "      background-color: #434B5C;\n",
              "      box-shadow: 0px 1px 3px 1px rgba(0, 0, 0, 0.15);\n",
              "      filter: drop-shadow(0px 1px 2px rgba(0, 0, 0, 0.3));\n",
              "      fill: #FFFFFF;\n",
              "    }\n",
              "  </style>\n",
              "\n",
              "    <script>\n",
              "      const buttonEl =\n",
              "        document.querySelector('#df-46afa1a5-1249-42eb-848e-deccad7b86d9 button.colab-df-convert');\n",
              "      buttonEl.style.display =\n",
              "        google.colab.kernel.accessAllowed ? 'block' : 'none';\n",
              "\n",
              "      async function convertToInteractive(key) {\n",
              "        const element = document.querySelector('#df-46afa1a5-1249-42eb-848e-deccad7b86d9');\n",
              "        const dataTable =\n",
              "          await google.colab.kernel.invokeFunction('convertToInteractive',\n",
              "                                                    [key], {});\n",
              "        if (!dataTable) return;\n",
              "\n",
              "        const docLinkHtml = 'Like what you see? Visit the ' +\n",
              "          '<a target=\"_blank\" href=https://colab.research.google.com/notebooks/data_table.ipynb>data table notebook</a>'\n",
              "          + ' to learn more about interactive tables.';\n",
              "        element.innerHTML = '';\n",
              "        dataTable['output_type'] = 'display_data';\n",
              "        await google.colab.output.renderOutput(dataTable, element);\n",
              "        const docLink = document.createElement('div');\n",
              "        docLink.innerHTML = docLinkHtml;\n",
              "        element.appendChild(docLink);\n",
              "      }\n",
              "    </script>\n",
              "  </div>\n",
              "\n",
              "\n",
              "<div id=\"df-b7dc6d44-6cdd-4c2f-848a-28405c2568c4\">\n",
              "  <button class=\"colab-df-quickchart\" onclick=\"quickchart('df-b7dc6d44-6cdd-4c2f-848a-28405c2568c4')\"\n",
              "            title=\"Suggest charts\"\n",
              "            style=\"display:none;\">\n",
              "\n",
              "<svg xmlns=\"http://www.w3.org/2000/svg\" height=\"24px\"viewBox=\"0 0 24 24\"\n",
              "     width=\"24px\">\n",
              "    <g>\n",
              "        <path d=\"M19 3H5c-1.1 0-2 .9-2 2v14c0 1.1.9 2 2 2h14c1.1 0 2-.9 2-2V5c0-1.1-.9-2-2-2zM9 17H7v-7h2v7zm4 0h-2V7h2v10zm4 0h-2v-4h2v4z\"/>\n",
              "    </g>\n",
              "</svg>\n",
              "  </button>\n",
              "\n",
              "<style>\n",
              "  .colab-df-quickchart {\n",
              "      --bg-color: #E8F0FE;\n",
              "      --fill-color: #1967D2;\n",
              "      --hover-bg-color: #E2EBFA;\n",
              "      --hover-fill-color: #174EA6;\n",
              "      --disabled-fill-color: #AAA;\n",
              "      --disabled-bg-color: #DDD;\n",
              "  }\n",
              "\n",
              "  [theme=dark] .colab-df-quickchart {\n",
              "      --bg-color: #3B4455;\n",
              "      --fill-color: #D2E3FC;\n",
              "      --hover-bg-color: #434B5C;\n",
              "      --hover-fill-color: #FFFFFF;\n",
              "      --disabled-bg-color: #3B4455;\n",
              "      --disabled-fill-color: #666;\n",
              "  }\n",
              "\n",
              "  .colab-df-quickchart {\n",
              "    background-color: var(--bg-color);\n",
              "    border: none;\n",
              "    border-radius: 50%;\n",
              "    cursor: pointer;\n",
              "    display: none;\n",
              "    fill: var(--fill-color);\n",
              "    height: 32px;\n",
              "    padding: 0;\n",
              "    width: 32px;\n",
              "  }\n",
              "\n",
              "  .colab-df-quickchart:hover {\n",
              "    background-color: var(--hover-bg-color);\n",
              "    box-shadow: 0 1px 2px rgba(60, 64, 67, 0.3), 0 1px 3px 1px rgba(60, 64, 67, 0.15);\n",
              "    fill: var(--button-hover-fill-color);\n",
              "  }\n",
              "\n",
              "  .colab-df-quickchart-complete:disabled,\n",
              "  .colab-df-quickchart-complete:disabled:hover {\n",
              "    background-color: var(--disabled-bg-color);\n",
              "    fill: var(--disabled-fill-color);\n",
              "    box-shadow: none;\n",
              "  }\n",
              "\n",
              "  .colab-df-spinner {\n",
              "    border: 2px solid var(--fill-color);\n",
              "    border-color: transparent;\n",
              "    border-bottom-color: var(--fill-color);\n",
              "    animation:\n",
              "      spin 1s steps(1) infinite;\n",
              "  }\n",
              "\n",
              "  @keyframes spin {\n",
              "    0% {\n",
              "      border-color: transparent;\n",
              "      border-bottom-color: var(--fill-color);\n",
              "      border-left-color: var(--fill-color);\n",
              "    }\n",
              "    20% {\n",
              "      border-color: transparent;\n",
              "      border-left-color: var(--fill-color);\n",
              "      border-top-color: var(--fill-color);\n",
              "    }\n",
              "    30% {\n",
              "      border-color: transparent;\n",
              "      border-left-color: var(--fill-color);\n",
              "      border-top-color: var(--fill-color);\n",
              "      border-right-color: var(--fill-color);\n",
              "    }\n",
              "    40% {\n",
              "      border-color: transparent;\n",
              "      border-right-color: var(--fill-color);\n",
              "      border-top-color: var(--fill-color);\n",
              "    }\n",
              "    60% {\n",
              "      border-color: transparent;\n",
              "      border-right-color: var(--fill-color);\n",
              "    }\n",
              "    80% {\n",
              "      border-color: transparent;\n",
              "      border-right-color: var(--fill-color);\n",
              "      border-bottom-color: var(--fill-color);\n",
              "    }\n",
              "    90% {\n",
              "      border-color: transparent;\n",
              "      border-bottom-color: var(--fill-color);\n",
              "    }\n",
              "  }\n",
              "</style>\n",
              "\n",
              "  <script>\n",
              "    async function quickchart(key) {\n",
              "      const quickchartButtonEl =\n",
              "        document.querySelector('#' + key + ' button');\n",
              "      quickchartButtonEl.disabled = true;  // To prevent multiple clicks.\n",
              "      quickchartButtonEl.classList.add('colab-df-spinner');\n",
              "      try {\n",
              "        const charts = await google.colab.kernel.invokeFunction(\n",
              "            'suggestCharts', [key], {});\n",
              "      } catch (error) {\n",
              "        console.error('Error during call to suggestCharts:', error);\n",
              "      }\n",
              "      quickchartButtonEl.classList.remove('colab-df-spinner');\n",
              "      quickchartButtonEl.classList.add('colab-df-quickchart-complete');\n",
              "    }\n",
              "    (() => {\n",
              "      let quickchartButtonEl =\n",
              "        document.querySelector('#df-b7dc6d44-6cdd-4c2f-848a-28405c2568c4 button');\n",
              "      quickchartButtonEl.style.display =\n",
              "        google.colab.kernel.accessAllowed ? 'block' : 'none';\n",
              "    })();\n",
              "  </script>\n",
              "</div>\n",
              "\n",
              "    </div>\n",
              "  </div>\n"
            ],
            "application/vnd.google.colaboratory.intrinsic+json": {
              "type": "dataframe",
              "variable_name": "data_cleaned",
              "summary": "{\n  \"name\": \"data_cleaned\",\n  \"rows\": 5,\n  \"fields\": [\n    {\n      \"column\": \"Parcours\",\n      \"properties\": {\n        \"dtype\": \"string\",\n        \"num_unique_values\": 5,\n        \"samples\": [\n          \"Management\",\n          \"Business Information Systems\",\n          \"Math\\u00e9matiques Appliqu\\u00e9es \\u00e0 l\\u2019Analyse des Donn\\u00e9es et \\u00e0 l\\u2019Aide \\u00e0 la D\\u00e9cision\"\n        ],\n        \"semantic_type\": \"\",\n        \"description\": \"\"\n      }\n    },\n    {\n      \"column\": \"Objectifs\",\n      \"properties\": {\n        \"dtype\": \"string\",\n        \"num_unique_values\": 5,\n        \"samples\": [\n          \"licence science gestion parcours managementvise former entrepreneurs cadres sup\\u00e9rieurs gestion entreprises diff\\u00e9rents domaines dot\\u00e9s outils management analyse travers enseignements interdisciplinaires sp\\u00e9cialit\\u00e9 parcours disponible double dipl\\u00f4me marketing communication vente n\\u00e9gociation ascencia business school parcours disponible double dipl\\u00f4me marketing communication vente n\\u00e9gociation ascencia business school parcours adresse \\u00e9tudiants r\\u00e9ussi premi\\u00e8re ann\\u00e9e licence sciences gestion sciences gestion\",\n          \"objectif former consultants dot\\u00e9s assise th\\u00e9orique technique solide permettant concevoir d\\u00e9velopper exploiter applications d\\u00e9cisionnelles parcours disponible double dipl\\u00f4me syst\\u00e8mes information aide d\\u00e9cision universit\\u00e9\",\n          \"monde devenu math\\u00e9matique d\\u00e9cision repose analyse donn\\u00e9es plus plus massives big data lalicence math\\u00e9matiques appliqu\\u00e9es analyse donn\\u00e9es aide d\\u00e9cisionfait appel outils intelligence artificielle machine learning comp\\u00e9tences savoir faire math\\u00e9matiques statistiques cette licence adresse bacheliers math\\u00e9matiques informatique sciences exp\\u00e9rimentales sciences techniques tout autre dipl\\u00f4me \\u00e9quivalent math\\u00e9matiques statistiques\"\n        ],\n        \"semantic_type\": \"\",\n        \"description\": \"\"\n      }\n    },\n    {\n      \"column\": \"Contenu\",\n      \"properties\": {\n        \"dtype\": \"string\",\n        \"num_unique_values\": 4,\n        \"samples\": [\n          \"sciences gestion gestion economie comptabilit\\u00e9 finance marketing grh rse entrepreneuriat transformation digitale etc math\\u00e9matiques statistiques informatique big data base donn\\u00e9es analyse donn\\u00e9es outils technologies syst\\u00e8mes information tic etc\",\n          \"informatique bi syst\\u00e8mes information d\\u00e9veloppement informatique data warehouse data mining big data outils bi intelligence artificielle management entreprenariat leadership marketing digital d\\u00e9veloppement durable e business soft skills s\\u00e9minaires d\\u00e9veloppement personnel langues etc projet professionnel stages pfe projets int\\u00e9gr\\u00e9s visites entreprises etc\",\n          \"comptabilite fiscalite finance comptabilit\\u00e9 fiscalit\\u00e9 management strat\\u00e9gique finance audit contr\\u00f4le interne informatique outils digitaux syst\\u00e8me information digital d\\u00e9veloppement informatique logiciels sage sap fico soft skills s\\u00e9minaires d\\u00e9veloppement personnel business games langues etc projet professionnel stages pfe projets int\\u00e9gr\\u00e9s visites entreprises ateliers \\u00e9tudes cas etc ma\\u00eetriser techniques \\u00e9laboration supports communication comptables \\u00e9tablir d\\u00e9clarations fiscales sociales l\\u00e9gales ainsi \\u00e9tats financiers pr\\u00e9parer rapport complet analyse financi\\u00e8re entreprise fins gestion aide prise d\\u00e9cision intervenir tant collaborateur missions audit financier interne externe contr\\u00f4le gestion conseil comptable fiscal intervenir \\u00e9voluer milieu juridique socio\\u00e9conomique digitalis\\u00e9 licence sciences gestion parcours comptabilit\\u00e9 organise 2 semestres tronc commun 4 semestres sp\\u00e9cialisation sciences comptables\"\n        ],\n        \"semantic_type\": \"\",\n        \"description\": \"\"\n      }\n    },\n    {\n      \"column\": \"Comp\\u00e9tences\",\n      \"properties\": {\n        \"dtype\": \"string\",\n        \"num_unique_values\": 5,\n        \"samples\": [\n          \"analyser \\u00e9volutions environnement affaires analyser donn\\u00e9es prendre d\\u00e9cisions argumenter choisir strat\\u00e9gie n\\u00e9gociation commerciale evaluer situations complexes r\\u00e9soudre probl\\u00e8mes g\\u00e9rer portefeuille clients particuliers entreprises etre capable g\\u00e9n\\u00e9rer nouvelles id\\u00e9es doter esprit critique communiquer mani\\u00e8re efficace concilier g\\u00e9rer confits animer coordonner activit\\u00e9 \\u00e9quipe licence sciences gestion parcours management organise 4 semestres tronc commun 2 semestres sp\\u00e9cialisation management\",\n          \"concevoir d\\u00e9velopper solution d\\u00e9cisionnelle analytique ma\\u00eetriser syst\\u00e8mes outils informatiques sein organisations ma\\u00eetriser notions fondamentales sciences gestion marketing entreprenariat innovation d\\u00e9veloppement durable etc\",\n          \"aider organisations cr\\u00e9er valeur innover leurs secteurs respectifs partir d\\u00e9cisions fond\\u00e9es rigueurs math\\u00e9matiques inf\\u00e9rer techniques statistiques ma\\u00eetriser analyse traitement donn\\u00e9es massives big data ma\\u00eetriser langages programmation domaine data science \\u00e9valuer rentabilit\\u00e9 g\\u00e9rer risque produits \\ufb01nanciers mettre \\u0153uvre m\\u00e9thodes exploration exploitation donn\\u00e9es organiser superviser enqu\\u00eates sondages aider transformation digitale entreprises\"\n        ],\n        \"semantic_type\": \"\",\n        \"description\": \"\"\n      }\n    },\n    {\n      \"column\": \"M\\u00e9tiers\",\n      \"properties\": {\n        \"dtype\": \"string\",\n        \"num_unique_values\": 5,\n        \"samples\": [\n          \"charg\\u00e9 client\\u00e8le chef projet chef produit manager e business office manager assistant administratif commercial responsable ressources humaines responsable logistique manager point vente conseiller organisation entreprise consultant management qualit\\u00e9 gestionnaire patrimoine business developer\",\n          \"consultant bi analyste consultant d\\u00e9cisionnel expert logiciel etl powerbi etc int\\u00e9grateur applications d\\u00e9cisionnelles analyste affaires\",\n          \"analyste donn\\u00e9es charg\\u00e9 \\u00e9tudes actuarielles assurances front office march\\u00e9 financier trader analyste cr\\u00e9dit risque bancaire data miner data scientist expert bi business analyst statisticien\"\n        ],\n        \"semantic_type\": \"\",\n        \"description\": \"\"\n      }\n    },\n    {\n      \"column\": \"Secteurs d\\u2019activit\\u00e9\",\n      \"properties\": {\n        \"dtype\": \"string\",\n        \"num_unique_values\": 4,\n        \"samples\": [\n          \"entreprises services num\\u00e9riques entreprises industrielles soci\\u00e9t\\u00e9s conseil agences communication banques assurances commerce e commerce t\\u00e9l\\u00e9communications\",\n          \"soci\\u00e9t\\u00e9s services informatique \\u00e9diteurs logiciels banques assurances entreprises commerciales entreprises industrielle\",\n          \"cabinets expertise comptable d\\u00e9partements comptables \\ufb01nanciers entreprises publiques priv\\u00e9es banques leasing assurances\"\n        ],\n        \"semantic_type\": \"\",\n        \"description\": \"\"\n      }\n    },\n    {\n      \"column\": \"Partenariats professionnels\",\n      \"properties\": {\n        \"dtype\": \"string\",\n        \"num_unique_values\": 4,\n        \"samples\": [\n          \"agence communication soci\\u00e9t\\u00e9s conseil entreprises commerce commerce \\u00e9lectronique entreprises industrielles\",\n          \"entreprises services num\\u00e9riques banques assurances op\\u00e9rateurs t\\u00e9l\\u00e9communication\",\n          \"entreprise services num\\u00e9riques soci\\u00e9t\\u00e9s conseil entreprises industrielles banques assurances\"\n        ],\n        \"semantic_type\": \"\",\n        \"description\": \"\"\n      }\n    },\n    {\n      \"column\": \"Semestre 1\",\n      \"properties\": {\n        \"dtype\": \"string\",\n        \"num_unique_values\": 4,\n        \"samples\": [\n          \"principes gestion 1 comptabilit\\u00e9 financi\\u00e8re 1 micro\\u00e9conomie math\\u00e9matique 1 introduction droit math\\u00e9matiques financi\\u00e8res anglais 1 aptitudes tic 1 projet int\\u00e9gr\\u00e9 s\\u00e9minaire culture g\\u00e9n\\u00e9rale 1\",\n          \"algorithmique structures donn\\u00e9es 1 syst\\u00e8mes exploitation syst\\u00e8mes logiques architectures ordinateurs analyse statistiques probabilit\\u00e9s principes gestion comptabilit\\u00e9 g\\u00e9n\\u00e9rale comp\\u00e9tences num\\u00e9riques excel avanc\\u00e9 business communication 1 principes \\u00e9conomie travail collaboratif interface homme machine s\\u00e9minaire\",\n          \"principes gestion 1 comptabilit\\u00e9 financi\\u00e8re 1 micro\\u00e9conomie math\\u00e9matique 1 introduction droit math\\u00e9matiques financi\\u00e8res anglais 1 aptitudes tic 1\"\n        ],\n        \"semantic_type\": \"\",\n        \"description\": \"\"\n      }\n    },\n    {\n      \"column\": \"Semestre 2\",\n      \"properties\": {\n        \"dtype\": \"string\",\n        \"num_unique_values\": 4,\n        \"samples\": [\n          \"principes gestion 2 comptabilit\\u00e9 financi\\u00e8re 2 math\\u00e9matique 2 statistique descriptive calculs probabilit\\u00e9 macro\\u00e9conomie droit soci\\u00e9t\\u00e9s commerciales anglais 2 aptitudes tic 2 projet int\\u00e9gr\\u00e9 s\\u00e9minaire culture g\\u00e9n\\u00e9rale 2\",\n          \"algorithmique structures donn\\u00e9es 2 fondements r\\u00e9seaux introduction syst\\u00e8mes information logique math\\u00e9matique alg\\u00e8bre syst\\u00e8mes information comptable gestion financi\\u00e8re business communication 2 d\\u00e9veloppement durable projet tuteur\\u00e9 introduction informatique d\\u00e9cisionnelle marketing strat\\u00e9gique\",\n          \"principes gestion 2 comptabilit\\u00e9 financi\\u00e8re 2 math\\u00e9matique 2 statistique descriptive calculs probabilit\\u00e9 macro\\u00e9conomie droit soci\\u00e9t\\u00e9s commerciales anglais 2 aptitudes tic 2\"\n        ],\n        \"semantic_type\": \"\",\n        \"description\": \"\"\n      }\n    },\n    {\n      \"column\": \"Semestre 3\",\n      \"properties\": {\n        \"dtype\": \"string\",\n        \"num_unique_values\": 4,\n        \"samples\": [\n          \"fondamentaux management comptabilit\\u00e9 gestion fondamentaux marketing s\\u00e9minaire orient\\u00e9 m\\u00e9tiers 1 fiscalit\\u00e9 statistique inf\\u00e9rentielle anglais culture entrepreneuriale projet int\\u00e9gr\\u00e9\",\n          \"programmation oo programmation web 1 conception oo syst\\u00e8mes information bases donn\\u00e9es statistiques inf\\u00e9rentielles fondements ia marketing digital economie num\\u00e9rique ethique lois it projet professionnel personnel ppp social media management projets s\\u00e9minaire\",\n          \"comptabilit\\u00e9 interm\\u00e9diaire i comptabilit\\u00e9 gestion s\\u00e9minaire m\\u00e9tiers anglais affaires i culture entrepreneuriale droit affaires \\u00e9conomie affaires\"\n        ],\n        \"semantic_type\": \"\",\n        \"description\": \"\"\n      }\n    },\n    {\n      \"column\": \"Semestre 4\",\n      \"properties\": {\n        \"dtype\": \"string\",\n        \"num_unique_values\": 4,\n        \"samples\": [\n          \"fondamentaux grh diagnostic financier gestion production m\\u00e9thodologie \\u00e9laboration rapport stage projet professionnel personnel anglais d\\u00e9veloppement durable introduction design thinking projet int\\u00e9gr\\u00e9 s\\u00e9minaire orient\\u00e9 m\\u00e9tiers 2\",\n          \"gestion op\\u00e9rations logistique business process management framework net programmation web2 sgbd administration bds gouvernance si s\\u00e9curit\\u00e9 si problem solving anglais projet tuteur\\u00e9 m\\u00e9tier entrepreneuriat innovation big data\",\n          \"comptabilit\\u00e9 interm\\u00e9diaire ii contr\\u00f4le interne tva droit consommation m\\u00e9thodologie \\u00e9laboration rapport stage anglais affaires ii projet professionnel personnel droit obligations s\\u00fbret\\u00e9s management projets\"\n        ],\n        \"semantic_type\": \"\",\n        \"description\": \"\"\n      }\n    },\n    {\n      \"column\": \"Semestre 5\",\n      \"properties\": {\n        \"dtype\": \"string\",\n        \"num_unique_values\": 4,\n        \"samples\": [\n          \"th\\u00e9orie organisations analyses quantitatives qualitatives management projet management qualit\\u00e9 certification elaboration validation rapport stage anglais pr\\u00e9paration vie professionnelle introduction big data droit num\\u00e9rique analyse donn\\u00e9es prise d\\u00e9cision projet int\\u00e9gr\\u00e9 s\\u00e9minaire m\\u00e9tiers 3\",\n          \"int\\u00e9gration si erp g\\u00e9nie logiciel gestion projets si d\\u00e9veloppement mobile d\\u00e9veloppement jee business intelligence strat\\u00e9gies affaires \\u00e9lectroniques professional network service gestion carri\\u00e8re anglais affaires e business e crm s\\u00e9minaire m\\u00e9tier\",\n          \"comptabilit\\u00e9 avanc\\u00e9e cadre conceptuel pr\\u00e9sentation \\u00e9tats financiers contr\\u00f4le gestion \\u00e9laboration validation rapport stage anglais comptable financier i pr\\u00e9paration vie professionnelle management strat\\u00e9gique droit enregistrement timbre\"\n        ],\n        \"semantic_type\": \"\",\n        \"description\": \"\"\n      }\n    },\n    {\n      \"column\": \"Semestre 6\",\n      \"properties\": {\n        \"dtype\": \"string\",\n        \"num_unique_values\": 3,\n        \"samples\": [\n          \"comptabilit\\u00e9 internationale ifrs audit d\\u00e9cisions financi\\u00e8res projet tutor\\u00e9 anglais comptable financier ii informatique syst\\u00e8me information pr\\u00e9paration certification sage economie tic comptabilit\\u00e9 sectorielle\",\n          \"management innovation entrepreneuriat management transformation digitale syst\\u00e8me information management strat\\u00e9gique controle gestion projet tutor\\u00e9 anglais progiciel gestion int\\u00e9gr\\u00e9 management interculturel economie internationale s\\u00e9minaire m\\u00e9tiers 4\",\n          \"\"\n        ],\n        \"semantic_type\": \"\",\n        \"description\": \"\"\n      }\n    }\n  ]\n}"
            }
          },
          "metadata": {},
          "execution_count": 10
        }
      ]
    },
    {
      "cell_type": "code",
      "source": [
        "from nltk.tokenize import word_tokenize\n",
        "nltk.download('punkt_tab')\n",
        "\n",
        "# Appliquer la tokenisation à chaque cellule de toutes les colonnes\n",
        "data_cleaned = data_cleaned.apply(lambda col: col.apply(word_tokenize))\n",
        "\n",
        "# Vérifier les résultats\n",
        "#print(data_cleaned.head())"
      ],
      "metadata": {
        "colab": {
          "base_uri": "https://localhost:8080/"
        },
        "id": "ovXxuNsgFrK7",
        "outputId": "11e8a6f4-35d9-4591-9ab5-da87eb13344c"
      },
      "execution_count": 11,
      "outputs": [
        {
          "output_type": "stream",
          "name": "stderr",
          "text": [
            "[nltk_data] Downloading package punkt_tab to /root/nltk_data...\n",
            "[nltk_data]   Package punkt_tab is already up-to-date!\n"
          ]
        }
      ]
    },
    {
      "cell_type": "code",
      "source": [
        "from nltk.stem.snowball import FrenchStemmer\n",
        "\n",
        "# Initialiser le stemmer pour le français\n",
        "stemmer = FrenchStemmer()\n",
        "\n",
        "# Exemple d'application du stemming sur des données tokenisées\n",
        "data_cleaned = data_cleaned.applymap(\n",
        "    lambda x: [stemmer.stem(word) for word in x] if isinstance(x, list) else x\n",
        ")\n",
        "\n",
        "# Vérifier les résultats\n",
        "#"
      ],
      "metadata": {
        "colab": {
          "base_uri": "https://localhost:8080/"
        },
        "id": "9_bxgxUjwgYc",
        "outputId": "b1217409-f2bd-450c-f47c-23f7d1a34ce8"
      },
      "execution_count": 12,
      "outputs": [
        {
          "output_type": "stream",
          "name": "stderr",
          "text": [
            "<ipython-input-12-1fdba3979c3e>:7: FutureWarning: DataFrame.applymap has been deprecated. Use DataFrame.map instead.\n",
            "  data_cleaned = data_cleaned.applymap(\n"
          ]
        }
      ]
    },
    {
      "cell_type": "code",
      "source": [
        "#Vectorisation avec tf-idf\n",
        "# Remplacer les valeurs manquantes par une chaîne vide et convertir toutes les colonnes en chaînes\n",
        "data_cleaned = data_cleaned.fillna('').astype(str)\n",
        "\n",
        "# Exclure la colonne 'Parcours'\n",
        "colonnes_a_vectoriser = data_cleaned.drop(columns=['Parcours']).columns\n",
        "\n",
        "# Vectorisation avec gestion des erreurs de type\n",
        "vecteurs = {}\n",
        "tfidf_vectorizer = TfidfVectorizer(max_features=500)\n",
        "\n",
        "for col in colonnes_a_vectoriser:\n",
        "    vecteurs[col] = tfidf_vectorizer.fit_transform(data_cleaned[col])\n",
        "\n",
        "# Combiner les matrices TF-IDF\n",
        "from scipy.sparse import hstack\n",
        "vecteurs_combines = hstack(list(vecteurs.values()))\n",
        "# Afficher la dimension de la matrice finale\n",
        "print(f\"Dimensions de la matrice combinée : {vecteurs_combines.shape}\")\n",
        "\n"
      ],
      "metadata": {
        "colab": {
          "base_uri": "https://localhost:8080/"
        },
        "id": "ghEWEgnayl2x",
        "outputId": "b352efe1-0afb-4a57-c47e-9b665341911d"
      },
      "execution_count": null,
      "outputs": [
        {
          "output_type": "stream",
          "name": "stdout",
          "text": [
            "Dimensions de la matrice combinée : (5, 812)\n"
          ]
        }
      ]
    },
    {
      "cell_type": "code",
      "source": [
        "# Visualisation avec t-SNE\n",
        "from sklearn.manifold import TSNE\n",
        "tsne = TSNE(n_components=2, random_state=42, perplexity=1, n_iter=1000)\n",
        "data_tsne = tsne.fit_transform(vecteurs_combines.toarray())\n",
        "\n",
        "# Créer un DataFrame pour visualisation\n",
        "import matplotlib.pyplot as plt\n",
        "df_tsne = pd.DataFrame(data_tsne, columns=['Dimension 1', 'Dimension 2'])\n",
        "df_tsne['Parcours'] = data_cleaned['Parcours']\n",
        "\n",
        "# Visualisation\n",
        "plt.figure(figsize=(12, 8))\n",
        "for parcours in df_tsne['Parcours'].unique():\n",
        "    subset = df_tsne[df_tsne['Parcours'] == parcours]\n",
        "    plt.scatter(subset['Dimension 1'], subset['Dimension 2'], label=parcours, alpha=0.7)\n",
        "\n",
        "plt.title(\"Visualisation des Parcours avec t-SNE\")\n",
        "plt.xlabel(\"Dimension 1\")\n",
        "plt.ylabel(\"Dimension 2\")\n",
        "plt.legend()\n",
        "plt.show()\n"
      ],
      "metadata": {
        "colab": {
          "base_uri": "https://localhost:8080/",
          "height": 773
        },
        "id": "SKBVJD6zzjdZ",
        "outputId": "9d393f5d-26f0-4514-a5cd-37da43ea92b8"
      },
      "execution_count": null,
      "outputs": [
        {
          "output_type": "stream",
          "name": "stderr",
          "text": [
            "/usr/local/lib/python3.10/dist-packages/sklearn/manifold/_t_sne.py:1162: FutureWarning: 'n_iter' was renamed to 'max_iter' in version 1.5 and will be removed in 1.7.\n",
            "  warnings.warn(\n"
          ]
        },
        {
          "output_type": "display_data",
          "data": {
            "text/plain": [
              "<Figure size 1200x800 with 1 Axes>"
            ],
            "image/png": "[encoded data removed]"
          },
          "metadata": {}
        }
      ]
    },
    {
      "cell_type": "code",
      "source": [
        "# Visualisation avec PCA (Réduction dimensionnelle )\n",
        "from sklearn.decomposition import PCA\n",
        "\n",
        "pca = PCA(n_components=2, random_state=42)\n",
        "data_pca = pca.fit_transform(vecteurs_combines.toarray())\n",
        "\n",
        "# Créer un DataFrame pour visualisation\n",
        "df_pca = pd.DataFrame(data_pca, columns=['Dimension 1', 'Dimension 2'])\n",
        "df_pca['Parcours'] = data_cleaned['Parcours']\n",
        "\n",
        "# Visualisation\n",
        "plt.figure(figsize=(12, 8))\n",
        "for parcours in df_pca['Parcours'].unique():\n",
        "    subset = df_pca[df_pca['Parcours'] == parcours]\n",
        "    plt.scatter(subset['Dimension 1'], subset['Dimension 2'], label=parcours, alpha=0.7)\n",
        "\n",
        "plt.title(\"Visualisation des Parcours avec PCA\")\n",
        "plt.xlabel(\"Dimension 1\")\n",
        "plt.ylabel(\"Dimension 2\")\n",
        "plt.legend()\n",
        "plt.show()"
      ],
      "metadata": {
        "colab": {
          "base_uri": "https://localhost:8080/",
          "height": 718
        },
        "id": "2X2B0d2vyu0K",
        "outputId": "d2dc2d0a-d5bc-4ee1-c6b6-cbc61760d8a3"
      },
      "execution_count": null,
      "outputs": [
        {
          "output_type": "display_data",
          "data": {
            "text/plain": [
              "<Figure size 1200x800 with 1 Axes>"
            ],
            "image/png": "[encoded data removed]"
          },
          "metadata": {}
        }
      ]
    },
    {
      "cell_type": "code",
      "source": [
        "#Vectorisation avec words embedding\n",
        "\n",
        "import gensim.downloader as api\n",
        "import numpy as np\n",
        "from scipy.sparse import hstack\n",
        "\n",
        "# Charger le modèle Word2Vec pré-entraîné\n",
        "word2vec_model = api.load(\"word2vec-google-news-300\")\n",
        "\n",
        "# Remplacer les valeurs manquantes par une chaîne vide et convertir toutes les colonnes en chaînes\n",
        "data_cleaned = data_cleaned.fillna('').astype(str)\n",
        "\n",
        "# Sélectionner toutes les colonnes à vectoriser\n",
        "colonnes_a_vectoriser = data_cleaned.columns\n",
        "\n",
        "# Fonction pour vectoriser un texte avec Word2Vec\n",
        "def vectorize_text(text, model):\n",
        "    words = text.split()  # Diviser le texte en mots\n",
        "    vectors = []\n",
        "\n",
        "    for word in words:\n",
        "        if word in model:  # Si le mot existe dans le vocabulaire du modèle\n",
        "            vectors.append(model[word])\n",
        "        else:\n",
        "            vectors.append(np.zeros(300))  # Vecteur nul pour les mots inconnus\n",
        "\n",
        "    # Moyenne des vecteurs de mots pour obtenir un seul vecteur\n",
        "    if len(vectors) > 0:\n",
        "        return np.mean(vectors, axis=0)\n",
        "    else:\n",
        "        return np.zeros(300)  # Retourner un vecteur nul si le texte est vide\n",
        "\n",
        "# Vectoriser chaque colonne et convertir en matrice 2D\n",
        "vecteurs = {}\n",
        "for col in colonnes_a_vectoriser:\n",
        "    vecteurs[col] = np.array([vectorize_text(str(text), word2vec_model) for text in data_cleaned[col]])\n",
        "\n",
        "# Convertir chaque tableau 2D pour compatibilité avec hstack\n",
        "matrices = [np.array(vecteurs[col]) for col in colonnes_a_vectoriser]\n",
        "\n",
        "# Combiner les matrices horizontalement\n",
        "vecteurs_combines_embedding = np.hstack(matrices)\n",
        "\n",
        "# Afficher les dimensions de la matrice finale\n",
        "print(f\"Dimensions de la matrice combinée : {vecteurs_combines_embedding.shape}\")\n",
        "\n"
      ],
      "metadata": {
        "colab": {
          "base_uri": "https://localhost:8080/",
          "height": 211
        },
        "id": "xIVt-96-gyFO",
        "outputId": "a5fa91a9-28d6-4b6b-9fe3-1e5ce3ce1c7c"
      },
      "execution_count": 4,
      "outputs": [
        {
          "output_type": "error",
          "ename": "NameError",
          "evalue": "name 'data_cleaned' is not defined",
          "traceback": [
            "\u001b[0;31m---------------------------------------------------------------------------\u001b[0m",
            "\u001b[0;31mNameError\u001b[0m                                 Traceback (most recent call last)",
            "\u001b[0;32m<ipython-input-4-d6e19a79fe82>\u001b[0m in \u001b[0;36m<cell line: 11>\u001b[0;34m()\u001b[0m\n\u001b[1;32m      9\u001b[0m \u001b[0;34m\u001b[0m\u001b[0m\n\u001b[1;32m     10\u001b[0m \u001b[0;31m# Remplacer les valeurs manquantes par une chaîne vide et convertir toutes les colonnes en chaînes\u001b[0m\u001b[0;34m\u001b[0m\u001b[0;34m\u001b[0m\u001b[0m\n\u001b[0;32m---> 11\u001b[0;31m \u001b[0mdata_cleaned\u001b[0m \u001b[0;34m=\u001b[0m \u001b[0mdata_cleaned\u001b[0m\u001b[0;34m.\u001b[0m\u001b[0mfillna\u001b[0m\u001b[0;34m(\u001b[0m\u001b[0;34m''\u001b[0m\u001b[0;34m)\u001b[0m\u001b[0;34m.\u001b[0m\u001b[0mastype\u001b[0m\u001b[0;34m(\u001b[0m\u001b[0mstr\u001b[0m\u001b[0;34m)\u001b[0m\u001b[0;34m\u001b[0m\u001b[0;34m\u001b[0m\u001b[0m\n\u001b[0m\u001b[1;32m     12\u001b[0m \u001b[0;34m\u001b[0m\u001b[0m\n\u001b[1;32m     13\u001b[0m \u001b[0;31m# Sélectionner toutes les colonnes à vectoriser\u001b[0m\u001b[0;34m\u001b[0m\u001b[0;34m\u001b[0m\u001b[0m\n",
            "\u001b[0;31mNameError\u001b[0m: name 'data_cleaned' is not defined"
          ]
        }
      ]
    },
    {
      "cell_type": "code",
      "source": [
        "# Visualisation avec t-SNE\n",
        "import matplotlib.pyplot as plt\n",
        "from sklearn.manifold import TSNE\n",
        "\n",
        "# Réduction de dimensions avec t-SNE\n",
        "tsne = TSNE(n_components=2, random_state=42, perplexity=4, n_iter=1000)\n",
        "vecteurs_tsne = tsne.fit_transform(vecteurs_combines_embedding)\n",
        "\n",
        "# Visualisation avec t-SNE\n",
        "plt.figure(figsize=(8, 6))\n",
        "plt.scatter(vecteurs_tsne[:, 0], vecteurs_tsne[:, 1], alpha=0.7, s=20, c='green')\n",
        "plt.title(\"Visualisation des données avec t-SNE\")\n",
        "plt.xlabel(\"Dimension 1\")\n",
        "plt.ylabel(\"Dimension 2\")\n",
        "plt.show()\n"
      ],
      "metadata": {
        "colab": {
          "base_uri": "https://localhost:8080/"
        },
        "id": "7w3vJiGexFRO",
        "outputId": "4cbe0726-5ff9-4580-810e-b961bb948957"
      },
      "execution_count": null,
      "outputs": [
        {
          "output_type": "stream",
          "name": "stderr",
          "text": [
            "/usr/local/lib/python3.10/dist-packages/sklearn/manifold/_t_sne.py:1162: FutureWarning: 'n_iter' was renamed to 'max_iter' in version 1.5 and will be removed in 1.7.\n",
            "  warnings.warn(\n"
          ]
        }
      ]
    },
    {
      "cell_type": "code",
      "source": [
        "# Visualisation avec PCA\n",
        "import matplotlib.pyplot as plt\n",
        "from sklearn.decomposition import PCA\n",
        "\n",
        "# Réduction de dimensions avec PCA\n",
        "pca = PCA(n_components=2)  # Réduire à 2 dimensions\n",
        "vecteurs_pca = pca.fit_transform(vecteurs_combines_embedding)\n",
        "\n",
        "# Visualisation avec PCA\n",
        "plt.figure(figsize=(8, 6))\n",
        "plt.scatter(vecteurs_pca[:, 0], vecteurs_pca[:, 1], alpha=0.7, s=20, c='blue')\n",
        "plt.title(\"Visualisation des données avec PCA\")\n",
        "plt.xlabel(\"Dimension 1\")\n",
        "plt.ylabel(\"Dimension 2\")\n",
        "plt.show()\n"
      ],
      "metadata": {
        "colab": {
          "base_uri": "https://localhost:8080/",
          "height": 211
        },
        "id": "uPnwDmiO5Zsr",
        "outputId": "5af0760e-dc43-4d84-a70b-d5593429d33e"
      },
      "execution_count": 3,
      "outputs": [
        {
          "output_type": "error",
          "ename": "NameError",
          "evalue": "name 'vecteurs_combines_embedding' is not defined",
          "traceback": [
            "\u001b[0;31m---------------------------------------------------------------------------\u001b[0m",
            "\u001b[0;31mNameError\u001b[0m                                 Traceback (most recent call last)",
            "\u001b[0;32m<ipython-input-3-5df4bf504dbe>\u001b[0m in \u001b[0;36m<cell line: 6>\u001b[0;34m()\u001b[0m\n\u001b[1;32m      4\u001b[0m \u001b[0;31m# Réduction de dimensions avec PCA\u001b[0m\u001b[0;34m\u001b[0m\u001b[0;34m\u001b[0m\u001b[0m\n\u001b[1;32m      5\u001b[0m \u001b[0mpca\u001b[0m \u001b[0;34m=\u001b[0m \u001b[0mPCA\u001b[0m\u001b[0;34m(\u001b[0m\u001b[0mn_components\u001b[0m\u001b[0;34m=\u001b[0m\u001b[0;36m2\u001b[0m\u001b[0;34m)\u001b[0m  \u001b[0;31m# Réduire à 2 dimensions\u001b[0m\u001b[0;34m\u001b[0m\u001b[0;34m\u001b[0m\u001b[0m\n\u001b[0;32m----> 6\u001b[0;31m \u001b[0mvecteurs_pca\u001b[0m \u001b[0;34m=\u001b[0m \u001b[0mpca\u001b[0m\u001b[0;34m.\u001b[0m\u001b[0mfit_transform\u001b[0m\u001b[0;34m(\u001b[0m\u001b[0mvecteurs_combines_embedding\u001b[0m\u001b[0;34m)\u001b[0m\u001b[0;34m\u001b[0m\u001b[0;34m\u001b[0m\u001b[0m\n\u001b[0m\u001b[1;32m      7\u001b[0m \u001b[0;34m\u001b[0m\u001b[0m\n\u001b[1;32m      8\u001b[0m \u001b[0;31m# Visualisation avec PCA\u001b[0m\u001b[0;34m\u001b[0m\u001b[0;34m\u001b[0m\u001b[0m\n",
            "\u001b[0;31mNameError\u001b[0m: name 'vecteurs_combines_embedding' is not defined"
          ]
        }
      ]
    }
  ]
}