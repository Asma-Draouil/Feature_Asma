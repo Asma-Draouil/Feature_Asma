{
 "cells": [
  {
   "cell_type": "code",
   "execution_count": 2,
   "metadata": {},
   "outputs": [],
   "source": [
    "import requests\n",
    "from bs4 import BeautifulSoup\n",
    "import pandas as pd\n",
    "import csv"
   ]
  },
  {
   "cell_type": "code",
   "execution_count": 3,
   "metadata": {},
   "outputs": [],
   "source": [
    "# URL du site web\n",
    "url = 'https://www.esb.tn/programmes/licences/licence-en-business-computing/'\n",
    "# Charger le contenu HTML depuis la page web\n",
    "response = requests.get(url)\n",
    "response.raise_for_status()  # Vérifier que la requête s'est bien passée\n",
    "html = response.text"
   ]
  },
  {
   "cell_type": "code",
   "execution_count": 4,
   "metadata": {},
   "outputs": [],
   "source": [
    "# Parser le HTML avec BeautifulSoup\n",
    "soup = BeautifulSoup(html, 'html.parser')"
   ]
  },
  {
   "cell_type": "code",
   "execution_count": 13,
   "metadata": {},
   "outputs": [
    {
     "name": "stdout",
     "output_type": "stream",
     "text": [
      "Objectif trouvé: La licence en Business Computing – ParcoursBusiness Intelligencedéveloppe les compétences techniques et les outils BI ainsi que les Soft skills et les compétences managériales. L’objectif est de former des consultants dotés d’une assise théorique et technique solide leur permettant de concevoir, développer et exploiter des applications décisionnelles.Ce parcours est disponible en double diplôme en Systèmes d’Information et Aide à la Décision avec l’Université Claude Bernard Lyon 1.\n",
      "L'objectif a été enregistré dans 'objectif_programme.csv'.\n"
     ]
    },
    {
     "name": "stderr",
     "output_type": "stream",
     "text": [
      "C:\\Users\\Asma\\AppData\\Local\\Temp\\ipykernel_10288\\326442105.py:2: DeprecationWarning: The 'text' argument to find()-type methods is deprecated. Use 'string' instead.\n",
      "  objectif_section = soup.find('h3', text=\"Objectifs\")\n"
     ]
    }
   ],
   "source": [
    "# Trouver la section \"Objectifs\"\n",
    "objectif_section = soup.find('h3', text=\"Objectifs\")\n",
    "if objectif_section:\n",
    "    objectif_text = objectif_section.find_next('p').get_text(strip=True)\n",
    "    print(\"Objectif trouvé:\", objectif_text)\n",
    "\n",
    "    # Enregistrer l'objectif dans un fichier CSV\n",
    "    with open('objectif_programme.csv', mode='w', newline='', encoding='utf-8-sig') as file:\n",
    "        writer = csv.writer(file)\n",
    "        writer.writerow([\"Objectif\"])  # En-tête du fichier\n",
    "        writer.writerow([objectif_text])  # Ligne avec l'objectif\n",
    "    \n",
    "    print(\"L'objectif a été enregistré dans 'objectif_programme.csv'.\")\n",
    "else:\n",
    "    print(\"Objectif non trouvé sur la page.\")"
   ]
  },
  {
   "cell_type": "code",
   "execution_count": 17,
   "metadata": {},
   "outputs": [
    {
     "name": "stdout",
     "output_type": "stream",
     "text": [
      "Contenu trouvé :\n",
      "INFORMATIQUE & BI :\n",
      "Systèmes d’information, Développement informatique, Data Warehouse, Data Mining, Big Data, outils BI, Intelligence Artificielle\n",
      "MANAGEMENT :\n",
      "Entreprenariat, Leadership, Marketing Digital,Développement durable et e-Business\n",
      "SOFT SKILLS :\n",
      "Séminaires, Développement personnel, Langues, etc.\n",
      "PROJET PROFESSIONNEL :\n",
      "Stages, PFE, Projets intégrés, Visites d’entreprises, etc.\n",
      "Le contenu a été enregistré dans 'contenu_programme.csv'.\n"
     ]
    },
    {
     "name": "stderr",
     "output_type": "stream",
     "text": [
      "C:\\Users\\Asma\\AppData\\Local\\Temp\\ipykernel_10288\\207151665.py:2: DeprecationWarning: The 'text' argument to find()-type methods is deprecated. Use 'string' instead.\n",
      "  contenu_section = soup.find('h3', text=\"Contenu\")\n"
     ]
    }
   ],
   "source": [
    "# Trouver la section \"Contenu\"\n",
    "contenu_section = soup.find('h3', text=\"Contenu\")\n",
    "if contenu_section:\n",
    "    # Extraire les éléments suivants\n",
    "    contenu_list = contenu_section.find_all_next(['ul', 'p'], limit=8)\n",
    "\n",
    "    # Liste pour stocker les données extraites\n",
    "    contenu_data = []\n",
    "\n",
    "    for tag in contenu_list:\n",
    "        contenu_data.append(tag.get_text(strip=True))\n",
    "\n",
    "    # Afficher les résultats extraits\n",
    "    print(\"Contenu trouvé :\")\n",
    "    for item in contenu_data:\n",
    "        print(item)\n",
    "\n",
    "    # Enregistrer dans un fichier CSV\n",
    "    with open('contenu_programme.csv', mode='w', newline='', encoding='utf-8-sig') as file:\n",
    "        writer = csv.writer(file)\n",
    "        writer.writerow([\"Contenu\"])  # En-tête du fichier\n",
    "        for item in contenu_data:\n",
    "            writer.writerow([item])  # Écriture de chaque ligne\n",
    "\n",
    "    print(\"Le contenu a été enregistré dans 'contenu_programme.csv'.\")\n",
    "else:\n",
    "    print(\"Section 'Contenu' non trouvée sur la page.\")"
   ]
  },
  {
   "cell_type": "code",
   "execution_count": 36,
   "metadata": {},
   "outputs": [
    {
     "name": "stdout",
     "output_type": "stream",
     "text": [
      "Compétences extraites :\n",
      "Maîtriser l’utilisation de l’outil informatique pour la gestion des différents processus métiers au sein d’une entreprise.\n",
      "Piloter la transformation digitale au sein d’une entreprise en fonction des besoins métiers.\n",
      "Gérer et organiser des projets informatiques.\n",
      "Concevoir et développer les solutions informatiques.\n",
      "Les compétences du Parcours BIS ont été enregistrées dans 'competences_parcours_bis.csv'.\n"
     ]
    },
    {
     "name": "stderr",
     "output_type": "stream",
     "text": [
      "C:\\Users\\Asma\\AppData\\Local\\Temp\\ipykernel_10288\\529216455.py:9: DeprecationWarning: The 'text' argument to find()-type methods is deprecated. Use 'string' instead.\n",
      "  competences_section = parcours_bis_content.find('h3', text=\"Compétences\")\n"
     ]
    }
   ],
   "source": [
    " # Trouver le titre du Parcours BIS\n",
    "parcours_bis_section = soup.find('div', id=\"elementor-tab-title-7773\")\n",
    "\n",
    "if parcours_bis_section:\n",
    "    # Trouver le contenu du Parcours BIS dans le div correspondant\n",
    "    parcours_bis_content = parcours_bis_section.find_next('div', id=\"elementor-tab-content-7773\")\n",
    "    \n",
    "    # Trouver la section \"Compétences\" dans ce contenu\n",
    "    competences_section = parcours_bis_content.find('h3', text=\"Compétences\")\n",
    "\n",
    "    if competences_section:\n",
    "        # Trouver le <ul> juste après la section \"Compétences\"\n",
    "        competences_list = competences_section.find_next('ul')\n",
    "\n",
    "        # Liste pour stocker les compétences extraites\n",
    "        competences_data = []\n",
    "\n",
    "        # Récupérer tous les <li> dans cette section\n",
    "        if competences_list:\n",
    "            for li in competences_list.find_all('li'):\n",
    "                competences_data.append(li.get_text(strip=True))\n",
    "\n",
    "        # Vérification : Afficher les compétences extraites\n",
    "        print(\"Compétences extraites :\")\n",
    "        for item in competences_data:\n",
    "            print(item)\n",
    "\n",
    "        # Enregistrer dans un fichier CSV\n",
    "        with open('competences_parcours_bis.csv', mode='w', newline='', encoding='utf-8-sig') as file:\n",
    "            writer = csv.writer(file)\n",
    "            writer.writerow([\"Compétences\"])  # En-tête du fichier\n",
    "            for item in competences_data:\n",
    "                writer.writerow([item])  # Écriture de chaque ligne\n",
    "\n",
    "        print(\"Les compétences du Parcours BIS ont été enregistrées dans 'competences_parcours_bis.csv'.\")\n",
    "    else:\n",
    "        print(\"Section 'Compétences' non trouvée dans le Parcours BIS.\")\n",
    "else:\n",
    "    print(\"Le parcours BIS n'a pas été trouvé sur la page.\")"
   ]
  },
  {
   "cell_type": "code",
   "execution_count": 24,
   "metadata": {},
   "outputs": [
    {
     "name": "stdout",
     "output_type": "stream",
     "text": [
      "Parcours Business Information Systems trouvé.\n",
      "Les métiers ont été enregistrés dans le fichier 'metiers_BIS.csv'.\n"
     ]
    },
    {
     "name": "stderr",
     "output_type": "stream",
     "text": [
      "C:\\Users\\Asma\\AppData\\Local\\Temp\\ipykernel_19476\\379804641.py:11: DeprecationWarning: The 'text' argument to find()-type methods is deprecated. Use 'string' instead.\n",
      "  metiers_section = master_section.find('h3', text='Métiers')\n"
     ]
    }
   ],
   "source": [
    "# Fonction pour extraire les métiers du parcours Business Information Systems\n",
    "def extraire_metiers_BIS(soup):\n",
    "    div_bis = soup.find('div', id='elementor-tab-content-7773')\n",
    "    \n",
    "    if div_bis:\n",
    "        parcours_text = div_bis.get_text()\n",
    "        if \"Business Information Systems\" in parcours_text:\n",
    "            print(\"Parcours Business Information Systems trouvé.\")\n",
    "            master_section = div_bis.find('div', class_='master')\n",
    "            if master_section:\n",
    "                metiers_section = master_section.find('h3', text='Métiers')\n",
    "                if metiers_section:\n",
    "                    metiers = []\n",
    "                    ul_metiers = master_section.find('ul')\n",
    "                    for li in ul_metiers.find_all('li'):\n",
    "                        metiers.append(li.get_text())\n",
    "\n",
    "                    with open('metiers_BIS.csv', mode='w', newline='', encoding='utf-8-sig') as file:\n",
    "                        writer = csv.writer(file)\n",
    "                        writer.writerow(['Métiers'])\n",
    "                        for metier in metiers:\n",
    "                            writer.writerow([metier]) \n",
    "                    print(\"Les métiers ont été enregistrés dans le fichier 'metiers_BIS.csv'.\")\n",
    "                else:\n",
    "                    print(\"Section 'Métiers' non trouvée.\")\n",
    "            else:\n",
    "                print(\"Section 'Master' non trouvée.\")\n",
    "        else:\n",
    "            print(\"Parcours 'Business Information Systems' non trouvé.\")\n",
    "    else:\n",
    "        print(\"Div avec ID 'elementor-tab-content-7773' non trouvé.\")\n",
    "\n",
    "# Extraire les métiers pour le parcours BIS\n",
    "extraire_metiers_BIS(soup)"
   ]
  },
  {
   "cell_type": "code",
   "execution_count": 25,
   "metadata": {},
   "outputs": [
    {
     "name": "stdout",
     "output_type": "stream",
     "text": [
      "Parcours Business Information Systems trouvé.\n",
      "Les secteurs d’activité ont été enregistrés dans le fichier 'secteurs_BIS.csv'.\n"
     ]
    },
    {
     "name": "stderr",
     "output_type": "stream",
     "text": [
      "C:\\Users\\Asma\\AppData\\Local\\Temp\\ipykernel_19476\\2843534622.py:11: DeprecationWarning: The 'text' argument to find()-type methods is deprecated. Use 'string' instead.\n",
      "  secteurs_section = master_section.find('h3', text='Secteurs d’activité')\n"
     ]
    }
   ],
   "source": [
    "# Fonction pour extraire les secteurs d'activité du parcours Business Information Systems\n",
    "def extraire_secteurs_activite_BIS(soup):\n",
    "    div_bis = soup.find('div', id='elementor-tab-content-7773')\n",
    "    \n",
    "    if div_bis:\n",
    "        parcours_text = div_bis.get_text()\n",
    "        if \"Business Information Systems\" in parcours_text:\n",
    "            print(\"Parcours Business Information Systems trouvé.\")\n",
    "            master_section = div_bis.find('div', class_='master')\n",
    "            if master_section:\n",
    "                secteurs_section = master_section.find('h3', text='Secteurs d’activité')\n",
    "                if secteurs_section:\n",
    "                    secteurs = []\n",
    "                    ul_secteurs = master_section.find_all('ul')[1]  # Secteurs d’activité est le deuxième <ul>\n",
    "                    for li in ul_secteurs.find_all('li'):\n",
    "                        secteurs.append(li.get_text())\n",
    "\n",
    "                    with open('secteurs_BIS.csv', mode='w', newline='', encoding='utf-8') as file:\n",
    "                        writer = csv.writer(file)\n",
    "                        writer.writerow(['Secteurs d’activité'])\n",
    "                        for secteur in secteurs:\n",
    "                            writer.writerow([secteur]) \n",
    "                    print(\"Les secteurs d’activité ont été enregistrés dans le fichier 'secteurs_BIS.csv'.\")\n",
    "                else:\n",
    "                    print(\"Section 'Secteurs d’activité' non trouvée.\")\n",
    "            else:\n",
    "                print(\"Section 'Master' non trouvée.\")\n",
    "        else:\n",
    "            print(\"Parcours 'Business Information Systems' non trouvé.\")\n",
    "    else:\n",
    "        print(\"Div avec ID 'elementor-tab-content-7773' non trouvé.\")\n",
    "\n",
    "# Extraire les secteurs d'activité pour le parcours BIS\n",
    "extraire_secteurs_activite_BIS(soup)"
   ]
  },
  {
   "cell_type": "code",
   "execution_count": 27,
   "metadata": {},
   "outputs": [
    {
     "name": "stdout",
     "output_type": "stream",
     "text": [
      "Parcours Business Information Systems trouvé.\n",
      "Les partenariats professionnels ont été enregistrés dans le fichier 'partenariats_BIS.csv'.\n"
     ]
    },
    {
     "name": "stderr",
     "output_type": "stream",
     "text": [
      "C:\\Users\\Asma\\AppData\\Local\\Temp\\ipykernel_19476\\3495053090.py:11: DeprecationWarning: The 'text' argument to find()-type methods is deprecated. Use 'string' instead.\n",
      "  partenariats_section = master_section.find('h3', text='Partenariats professionnels')\n"
     ]
    }
   ],
   "source": [
    "# Fonction pour extraire les partenariats professionnels du parcours Business Information Systems\n",
    "def extraire_partenariats_BIS(soup):\n",
    "    div_bis = soup.find('div', id='elementor-tab-content-7773')\n",
    "    \n",
    "    if div_bis:\n",
    "        parcours_text = div_bis.get_text()\n",
    "        if \"Business Information Systems\" in parcours_text:\n",
    "            print(\"Parcours Business Information Systems trouvé.\")\n",
    "            master_section = div_bis.find('div', class_='master')\n",
    "            if master_section:\n",
    "                partenariats_section = master_section.find('h3', text='Partenariats professionnels')\n",
    "                if partenariats_section:\n",
    "                    partenariats = []\n",
    "                    stage_section = master_section.find('div', class_='stage')\n",
    "                    if stage_section:\n",
    "                        partenariats_text = stage_section.find_all('p')\n",
    "                        for p in partenariats_text:\n",
    "                            partenariats.append(p.get_text(strip=True))\n",
    "\n",
    "                    with open('partenariats_BIS.csv', mode='w', newline='', encoding='utf-8-sig') as file:\n",
    "                        writer = csv.writer(file)\n",
    "                        writer.writerow(['Partenariats professionnels'])\n",
    "                        for partenariat in partenariats:\n",
    "                            writer.writerow([partenariat]) \n",
    "                    print(\"Les partenariats professionnels ont été enregistrés dans le fichier 'partenariats_BIS.csv'.\")\n",
    "                else:\n",
    "                    print(\"Section 'Partenariats professionnels' non trouvée.\")\n",
    "            else:\n",
    "                print(\"Section 'Master' non trouvée.\")\n",
    "        else:\n",
    "            print(\"Parcours 'Business Information Systems' non trouvé.\")\n",
    "    else:\n",
    "        print(\"Div avec ID 'elementor-tab-content-7773' non trouvé.\")\n",
    "# Extraire les partenariats professionnels pour le parcours BIS\n",
    "extraire_partenariats_BIS(soup)"
   ]
  },
  {
   "cell_type": "code",
   "execution_count": 30,
   "metadata": {},
   "outputs": [
    {
     "name": "stdout",
     "output_type": "stream",
     "text": [
      "Parcours Business Information Systems trouvé.\n",
      "Les matières du Semestre 1 ont été ajoutées au fichier CSV.\n",
      "Les matières du Semestre 2 ont été ajoutées au fichier CSV.\n",
      "Les matières du Semestre 3 ont été ajoutées au fichier CSV.\n",
      "Les matières du Semestre 4 ont été ajoutées au fichier CSV.\n",
      "Les matières du Semestre 5 ont été ajoutées au fichier CSV.\n"
     ]
    }
   ],
   "source": [
    "# Fonction pour extraire les matières par semestre pour le parcours Business Information Systems\n",
    "def extraire_matieres_par_semestre_BIS(soup):\n",
    "    div_bis = soup.find('div', id='elementor-tab-content-7773')\n",
    "    \n",
    "    if div_bis:\n",
    "        parcours_text = div_bis.get_text()\n",
    "        if \"Business Information Systems\" in parcours_text:\n",
    "            print(\"Parcours Business Information Systems trouvé.\")\n",
    "            \n",
    "            # Trouver la section des semestres\n",
    "            accordion = soup.find('div', class_='elementor-accordion')\n",
    "            if accordion:\n",
    "                semestres = accordion.find_all('div', class_='elementor-accordion-item')\n",
    "\n",
    "                # Ouvrir un fichier CSV pour écrire toutes les matières\n",
    "                with open('matieres_par_semestre_BIS.csv', mode='w', newline='', encoding='utf-8-sig') as file:\n",
    "                    writer = csv.writer(file)\n",
    "                    \n",
    "                    # Ajouter un en-tête pour le CSV\n",
    "                    writer.writerow(['Semestre', 'Matière'])\n",
    "\n",
    "                    # Extraire les matières par semestre et les enregistrer dans le fichier CSV\n",
    "                    for semestre in semestres:\n",
    "                        semestre_title = semestre.find('a').get_text(strip=True)\n",
    "                        semestre_content = semestre.find('div', class_='elementor-tab-content')\n",
    "                        \n",
    "                        if semestre_content:\n",
    "                            matieres = []\n",
    "                            ul = semestre_content.find('ul')\n",
    "                            if ul:\n",
    "                                for li in ul.find_all('li'):\n",
    "                                    matieres.append(li.get_text())\n",
    "                            \n",
    "                            # Écrire les matières du semestre dans le fichier CSV\n",
    "                            for matiere in matieres:\n",
    "                                writer.writerow([semestre_title, matiere])\n",
    "\n",
    "                            print(f\"Les matières du {semestre_title} ont été ajoutées au fichier CSV.\")\n",
    "        else:\n",
    "            print(\"Parcours 'Business Information Systems' non trouvé.\")\n",
    "    else:\n",
    "        print(\"Div avec ID 'elementor-tab-content-7773' non trouvé.\")\n",
    "# Extraire les matières par semestre pour le parcours BIS et les enregistrer dans un fichier CSV\n",
    "extraire_matieres_par_semestre_BIS(soup)"
   ]
  },
  {
   "cell_type": "code",
   "execution_count": null,
   "metadata": {},
   "outputs": [],
   "source": [
    "\n"
   ]
  }
 ],
 "metadata": {
  "kernelspec": {
   "display_name": "Python 3",
   "language": "python",
   "name": "python3"
  },
  "language_info": {
   "codemirror_mode": {
    "name": "ipython",
    "version": 3
   },
   "file_extension": ".py",
   "mimetype": "text/x-python",
   "name": "python",
   "nbconvert_exporter": "python",
   "pygments_lexer": "ipython3",
   "version": "3.13.0"
  }
 },
 "nbformat": 4,
 "nbformat_minor": 2
}
