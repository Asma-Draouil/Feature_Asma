{
 "cells": [
  {
   "cell_type": "code",
   "execution_count": 13,
   "metadata": {},
   "outputs": [],
   "source": [
    "import pandas as pd"
   ]
  },
  {
   "cell_type": "code",
   "execution_count": 23,
   "metadata": {},
   "outputs": [
    {
     "data": {
      "text/html": [
       "<div>\n",
       "<style scoped>\n",
       "    .dataframe tbody tr th:only-of-type {\n",
       "        vertical-align: middle;\n",
       "    }\n",
       "\n",
       "    .dataframe tbody tr th {\n",
       "        vertical-align: top;\n",
       "    }\n",
       "\n",
       "    .dataframe thead th {\n",
       "        text-align: right;\n",
       "    }\n",
       "</style>\n",
       "<table border=\"1\" class=\"dataframe\">\n",
       "  <thead>\n",
       "    <tr style=\"text-align: right;\">\n",
       "      <th></th>\n",
       "      <th>Objectifs</th>\n",
       "      <th>Contenu</th>\n",
       "      <th>Compétences</th>\n",
       "      <th>Métiers</th>\n",
       "      <th>Secteurs d’activité</th>\n",
       "      <th>Partenariats professionnels</th>\n",
       "      <th>Semestre 1</th>\n",
       "      <th>Semestre 2</th>\n",
       "      <th>Semestre 3</th>\n",
       "      <th>Semestre 4</th>\n",
       "      <th>Semestre 5</th>\n",
       "    </tr>\n",
       "  </thead>\n",
       "  <tbody>\n",
       "    <tr>\n",
       "      <th>0</th>\n",
       "      <td>La licence en Business Computing – ParcoursBus...</td>\n",
       "      <td>INFORMATIQUE &amp; BI :\\nSystèmes d’information, D...</td>\n",
       "      <td>Maîtriser l’utilisation de l’outil informatiqu...</td>\n",
       "      <td>Développeur, Testeur, Concepteur, Architecte S...</td>\n",
       "      <td>Sociétés de services informatique Éditeurs de ...</td>\n",
       "      <td>&gt;Entreprises de services numériques &gt; Banques ...</td>\n",
       "      <td>Algorithmique et Structures de Données 1\\nSyst...</td>\n",
       "      <td>Algorithmique et Structures de Données 2\\nFond...</td>\n",
       "      <td>Programmation OO\\nProgrammation Web 1\\nConcept...</td>\n",
       "      <td>Gestion des Opérations et de la logistique\\nBu...</td>\n",
       "      <td>Intégration des SI\\nERP\\nGénie Logiciel\\nGesti...</td>\n",
       "    </tr>\n",
       "  </tbody>\n",
       "</table>\n",
       "</div>"
      ],
      "text/plain": [
       "                                           Objectifs  \\\n",
       "0  La licence en Business Computing – ParcoursBus...   \n",
       "\n",
       "                                             Contenu  \\\n",
       "0  INFORMATIQUE & BI :\\nSystèmes d’information, D...   \n",
       "\n",
       "                                         Compétences  \\\n",
       "0  Maîtriser l’utilisation de l’outil informatiqu...   \n",
       "\n",
       "                                             Métiers  \\\n",
       "0  Développeur, Testeur, Concepteur, Architecte S...   \n",
       "\n",
       "                                 Secteurs d’activité  \\\n",
       "0  Sociétés de services informatique Éditeurs de ...   \n",
       "\n",
       "                         Partenariats professionnels  \\\n",
       "0  >Entreprises de services numériques > Banques ...   \n",
       "\n",
       "                                          Semestre 1  \\\n",
       "0  Algorithmique et Structures de Données 1\\nSyst...   \n",
       "\n",
       "                                          Semestre 2  \\\n",
       "0  Algorithmique et Structures de Données 2\\nFond...   \n",
       "\n",
       "                                          Semestre 3  \\\n",
       "0  Programmation OO\\nProgrammation Web 1\\nConcept...   \n",
       "\n",
       "                                          Semestre 4  \\\n",
       "0  Gestion des Opérations et de la logistique\\nBu...   \n",
       "\n",
       "                                          Semestre 5  \n",
       "0  Intégration des SI\\nERP\\nGénie Logiciel\\nGesti...  "
      ]
     },
     "execution_count": 23,
     "metadata": {},
     "output_type": "execute_result"
    }
   ],
   "source": [
    "data = pd.read_csv(\"BIS.csv\")\n",
    "data"
   ]
  }
 ],
 "metadata": {
  "kernelspec": {
   "display_name": "Python 3",
   "language": "python",
   "name": "python3"
  },
  "language_info": {
   "codemirror_mode": {
    "name": "ipython",
    "version": 3
   },
   "file_extension": ".py",
   "mimetype": "text/x-python",
   "name": "python",
   "nbconvert_exporter": "python",
   "pygments_lexer": "ipython3",
   "version": "3.13.0"
  }
 },
 "nbformat": 4,
 "nbformat_minor": 2
}
