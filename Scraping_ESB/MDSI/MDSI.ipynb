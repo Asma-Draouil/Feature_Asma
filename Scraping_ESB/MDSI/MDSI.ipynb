{
 "cells": [
  {
   "cell_type": "code",
   "execution_count": 32,
   "metadata": {},
   "outputs": [],
   "source": [
    "import requests\n",
    "from bs4 import BeautifulSoup\n",
    "import pandas as pd\n",
    "import csv\n",
    "import re"
   ]
  },
  {
   "cell_type": "code",
   "execution_count": 33,
   "metadata": {},
   "outputs": [],
   "source": [
    "# URL du site web\n",
    "url = 'https://www.esb.tn/programmes/masters-professionnels/master-en-management-digital-systemes-dinformation/'\n",
    "# Charger le contenu HTML depuis la page web\n",
    "response = requests.get(url)\n",
    "response.raise_for_status()  # Vérifier que la requête s'est bien passée\n",
    "html = response.text"
   ]
  },
  {
   "cell_type": "code",
   "execution_count": 34,
   "metadata": {},
   "outputs": [],
   "source": [
    "# Parser le HTML avec BeautifulSoup\n",
    "soup = BeautifulSoup(html, 'html.parser')"
   ]
  },
  {
   "cell_type": "code",
   "execution_count": 35,
   "metadata": {},
   "outputs": [
    {
     "name": "stdout",
     "output_type": "stream",
     "text": [
      "Objectifs:\n",
      "\n",
      "    Le Master Professionnel en Management Digital et Systèmes d’Information permet de former des spécialistes en management des systèmes d’information et intégration des technologies de l’information et de la communication capables d’accompagner les entreprises dans leurs processus de transformation digitale.\n",
      "    Le Master Professionnel en Management digital & systèmes d’information est disponible en double diplôme en International Management avec IMT-BS et en Management et Stratégie d’Entreprise avec Ascencia Business School.\n",
      "    \n"
     ]
    }
   ],
   "source": [
    "objectives_data = \"\"\"\n",
    "    Le Master Professionnel en Management Digital et Systèmes d’Information permet de former des spécialistes en management des systèmes d’information et intégration des technologies de l’information et de la communication capables d’accompagner les entreprises dans leurs processus de transformation digitale.\n",
    "    Le Master Professionnel en Management digital & systèmes d’information est disponible en double diplôme en International Management avec IMT-BS et en Management et Stratégie d’Entreprise avec Ascencia Business School.\n",
    "    \"\"\"\n",
    "\n",
    "print(\"Objectifs:\")\n",
    "print(objectives_data)"
   ]
  },
  {
   "cell_type": "code",
   "execution_count": 36,
   "metadata": {},
   "outputs": [
    {
     "name": "stdout",
     "output_type": "stream",
     "text": [
      "Contenu trouvé :\n",
      "MANAGEMENT :Business Process Management, Conduite du Changement, Management de projets, Supply Chain, etc.\n",
      "DIGITAL :ERP, Business Intelligence, Big Data, SAP, CRM\n",
      "SOFT SKILLS :Séminaires, Développement Personnel, Business Games, Langues, etc.\n",
      "PROJET PROFESSIONNEL :Stages, PFE, Projets intégrés, Visites d’entreprises, etc.\n"
     ]
    },
    {
     "name": "stderr",
     "output_type": "stream",
     "text": [
      "C:\\Users\\Asma\\AppData\\Local\\Temp\\ipykernel_24812\\1373134095.py:2: DeprecationWarning: The 'text' argument to find()-type methods is deprecated. Use 'string' instead.\n",
      "  contenu_section = soup.find('h3', text=\"Contenu\")\n"
     ]
    }
   ],
   "source": [
    "# Trouver la section \"Contenu\"\n",
    "contenu_section = soup.find('h3', text=\"Contenu\")\n",
    "\n",
    "if contenu_section:\n",
    "    # Trouver le premier <ul> qui suit cette section\n",
    "    ul_section = contenu_section.find_next('ul')\n",
    "\n",
    "    # Liste pour stocker les données extraites\n",
    "    contenu_data = []\n",
    "\n",
    "    # Extraire tous les <li> de la liste\n",
    "    if ul_section:\n",
    "        for li in ul_section.find_all('li'):\n",
    "            # Récupérer uniquement le texte dans <strong> et le texte qui suit\n",
    "            contenu_data.append(li.get_text(strip=True))\n",
    "\n",
    "    # Afficher les résultats extraits\n",
    "    print(\"Contenu trouvé :\")\n",
    "    for item in contenu_data:\n",
    "        print(item)\n",
    "\n",
    "\n",
    "else:\n",
    "    print(\"Section 'Contenu' non trouvée sur la page.\")"
   ]
  },
  {
   "cell_type": "code",
   "execution_count": 37,
   "metadata": {},
   "outputs": [
    {
     "name": "stdout",
     "output_type": "stream",
     "text": [
      "Compétences trouvées :\n",
      "Anticiper et gérer les changements liés à la transformation digitale.\n",
      "Identifier les choix stratégiques appropriés pour le management et l’optimisation des systèmes d’information des entreprises .\n",
      "Intégrer le management des systèmes d’information et des outils technologiques IT dans la stratégie globale de l’entreprise.\n",
      "Assurer la veille technologique et évaluer la pertinence des technologies émergentes dans le développement des affaires pour une entreprise.\n",
      "Conduire des projets à fort contenu technologique et s’assurer de la performance économique, sociale et sociétale des entreprises.\n"
     ]
    },
    {
     "name": "stderr",
     "output_type": "stream",
     "text": [
      "C:\\Users\\Asma\\AppData\\Local\\Temp\\ipykernel_24812\\2290062430.py:2: DeprecationWarning: The 'text' argument to find()-type methods is deprecated. Use 'string' instead.\n",
      "  competences_section = soup.find('h3', text=\"Compétences\")\n"
     ]
    }
   ],
   "source": [
    "# Trouver la section \"Compétences\"\n",
    "competences_section = soup.find('h3', text=\"Compétences\")\n",
    "\n",
    "if competences_section:\n",
    "    # Trouver le premier <ul> qui suit cette section\n",
    "    ul_section = competences_section.find_next('ul')\n",
    "\n",
    "    # Liste pour stocker les données extraites\n",
    "    competences_data = []\n",
    "\n",
    "    # Extraire tous les <li> de la liste\n",
    "    if ul_section:\n",
    "        for li in ul_section.find_all('li'):\n",
    "            # Récupérer le texte de chaque <li>\n",
    "            competences_data.append(li.get_text(strip=True))\n",
    "\n",
    "    # Afficher les résultats extraits\n",
    "    print(\"Compétences trouvées :\")\n",
    "    for item in competences_data:\n",
    "        print(item)\n",
    "\n",
    "\n",
    "else:\n",
    "    print(\"Section 'Compétences' non trouvée sur la page.\")"
   ]
  },
  {
   "cell_type": "code",
   "execution_count": 38,
   "metadata": {},
   "outputs": [
    {
     "name": "stdout",
     "output_type": "stream",
     "text": [
      "Trouvé div.master !\n",
      "Métiers :\n",
      "Responsable de la Transformation Digital :Chief Digital Officer, Responsable Stratégie Digitale\n",
      "Chef de Projet Digital :Digital Account Executive, IT Project Manager, Chef de Produit / Service, Manager des Actifs Numériques.\n",
      "Consultant en Systèmes d’Information :Consultant ERP, Consultant IT, Consultant CRM\n",
      "\n",
      "Secteurs d’activité :\n",
      "Entreprises de services numériques\n",
      "Sociétés de conseil\n",
      "Banques & Assurances\n",
      "BTP\n",
      "Technologies de l’information et des communications.\n",
      "\n",
      "Partenariats professionnels :\n",
      "> Opérateur de télécommunication\n",
      "> Banques et Assurances\n"
     ]
    },
    {
     "name": "stderr",
     "output_type": "stream",
     "text": [
      "C:\\Users\\Asma\\AppData\\Local\\Temp\\ipykernel_24812\\2077349482.py:18: DeprecationWarning: The 'text' argument to find()-type methods is deprecated. Use 'string' instead.\n",
      "  metiers_section = master_div.find('h3', text='Métiers')\n",
      "C:\\Users\\Asma\\AppData\\Local\\Temp\\ipykernel_24812\\2077349482.py:26: DeprecationWarning: The 'text' argument to find()-type methods is deprecated. Use 'string' instead.\n",
      "  secteurs_section = master_div.find('h3', text='Secteurs d’activité')\n",
      "C:\\Users\\Asma\\AppData\\Local\\Temp\\ipykernel_24812\\2077349482.py:33: DeprecationWarning: The 'text' argument to find()-type methods is deprecated. Use 'string' instead.\n",
      "  partenariats_section = master_div.find('h3', text='Partenariats professionnels')\n"
     ]
    }
   ],
   "source": [
    "# Trouver la section <div class=\"master\"> (seulement cette section)\n",
    "master_div = soup.find('div', class_='master')\n",
    "\n",
    "# Vérifier que l'on est bien dans la bonne div\n",
    "if master_div:\n",
    "    print(\"Trouvé div.master !\")\n",
    "else:\n",
    "    print(\"Div.master introuvable.\")\n",
    "\n",
    "# Extraire les sections \"Métiers\", \"Secteurs d’activité\" et \"Partenariats professionnels\"\n",
    "sections = {\n",
    "    \"Métiers\": [],\n",
    "    \"Secteurs d’activité\": [],\n",
    "    \"Partenariats professionnels\": []\n",
    "}\n",
    "\n",
    "# Extraire \"Métiers\"\n",
    "metiers_section = master_div.find('h3', text='Métiers')\n",
    "if metiers_section:\n",
    "    metiers_list = metiers_section.find_next('ul').find_all('li')\n",
    "    for item in metiers_list:\n",
    "        # Nettoyer et formater le texte\n",
    "        sections[\"Métiers\"].append(item.get_text(strip=True))\n",
    "\n",
    "# Extraire \"Secteurs d’activité\"\n",
    "secteurs_section = master_div.find('h3', text='Secteurs d’activité')\n",
    "if secteurs_section:\n",
    "    secteurs_list = secteurs_section.find_next('ul').find_all('li')\n",
    "    for item in secteurs_list:\n",
    "        sections[\"Secteurs d’activité\"].append(item.get_text(strip=True))\n",
    "\n",
    "# Extraire \"Partenariats professionnels\"\n",
    "partenariats_section = master_div.find('h3', text='Partenariats professionnels')\n",
    "if partenariats_section:\n",
    "    partenariats_list = partenariats_section.find_next('p').find_all_next('p')  # Prendre les paragraphes qui suivent\n",
    "    for item in partenariats_list:\n",
    "        # Si le texte commence par un \">\", on l'ajoute\n",
    "        if item.get_text(strip=True).startswith(\">\"):\n",
    "            sections[\"Partenariats professionnels\"].append(item.get_text(strip=True))\n",
    "\n",
    "# Afficher les résultats extraits\n",
    "print(\"Métiers :\")\n",
    "for item in sections[\"Métiers\"]:\n",
    "    print(item)\n",
    "print(\"\\nSecteurs d’activité :\")\n",
    "for item in sections[\"Secteurs d’activité\"]:\n",
    "    print(item)\n",
    "print(\"\\nPartenariats professionnels :\")\n",
    "for item in sections[\"Partenariats professionnels\"]:\n",
    "    print(item)\n",
    "\n"
   ]
  },
  {
   "cell_type": "code",
   "execution_count": 41,
   "metadata": {},
   "outputs": [
    {
     "name": "stdout",
     "output_type": "stream",
     "text": [
      "Trouvé 'Matières par semestre' !\n"
     ]
    },
    {
     "name": "stderr",
     "output_type": "stream",
     "text": [
      "C:\\Users\\Asma\\AppData\\Local\\Temp\\ipykernel_24812\\2299394527.py:2: DeprecationWarning: The 'text' argument to find()-type methods is deprecated. Use 'string' instead.\n",
      "  matiere_section = soup.find('h3', text='Matières par semestre')\n"
     ]
    }
   ],
   "source": [
    "# Trouver la section \"Matières par semestre\"\n",
    "matiere_section = soup.find('h3', text='Matières par semestre')\n",
    "\n",
    "# Vérifier que l'on a trouvé la section\n",
    "if matiere_section:\n",
    "    print(\"Trouvé 'Matières par semestre' !\")\n",
    "else:\n",
    "    print(\"'Matières par semestre' introuvable.\")\n",
    "\n",
    "# Extraire les semestres et leurs matières\n",
    "semestres = []\n",
    "accordion_items = matiere_section.find_next('div', class_='elementor-accordion').find_all('div', class_='elementor-accordion-item')\n",
    "\n",
    "# Extraire les matières pour chaque semestre\n",
    "for item in accordion_items:\n",
    "    semestre_title = item.find('a').get_text(strip=True)\n",
    "    if semestre_title:\n",
    "        matières_list = item.find('div', class_='elementor-tab-content').find('ul').find_all('li')\n",
    "        for matière in matières_list:\n",
    "            matières = matière.get_text(strip=True)\n",
    "            semestres.append([semestre_title, matières])\n",
    "\n"
   ]
  },
  {
   "cell_type": "code",
   "execution_count": 42,
   "metadata": {},
   "outputs": [
    {
     "name": "stdout",
     "output_type": "stream",
     "text": [
      "Les données ont été enregistrées dans le fichier 'MDSI.csv'.\n"
     ]
    }
   ],
   "source": [
    "# Fonction pour convertir une liste en une chaîne de texte avec des sauts de ligne\n",
    "def convertir_liste_en_texte(liste):\n",
    "    return \"\\n\".join(liste) if liste else \"\"\n",
    "\n",
    "# Créer un dictionnaire contenant les données générales\n",
    "data = {\n",
    "    'Objectifs': objectives_data,\n",
    "    'Contenu': convertir_liste_en_texte(contenu_data),\n",
    "    'Compétences': convertir_liste_en_texte(competences_data),\n",
    "    'Métiers': convertir_liste_en_texte(sections[\"Métiers\"]),\n",
    "    'Secteurs d’activité': convertir_liste_en_texte(sections[\"Secteurs d’activité\"]),\n",
    "    'Partenariats professionnels': convertir_liste_en_texte(sections[\"Partenariats professionnels\"]),\n",
    "}\n",
    "\n",
    "# Ajouter les semestres et matières\n",
    "# Regrouper les matières par semestre\n",
    "semesters_dict = {}\n",
    "for entry in semestres:\n",
    "    semestre = entry[0]  # Nom du semestre\n",
    "    matiere = entry[1]   # Matière\n",
    "    if semestre not in semesters_dict:\n",
    "        semesters_dict[semestre] = []\n",
    "    semesters_dict[semestre].append(matiere)\n",
    "\n",
    "# Ajouter chaque semestre comme une colonne dans le dictionnaire principal\n",
    "for semestre, matieres in semesters_dict.items():\n",
    "    data[semestre] = convertir_liste_en_texte(matieres)\n",
    "\n",
    "# Créer un fichier CSV avec toutes les données\n",
    "filename = 'MDSI.csv'\n",
    "with open(filename, mode='w', newline='', encoding='utf-8-sig') as file:\n",
    "    # Créer un objet CSV avec les colonnes comme les clés du dictionnaire\n",
    "    writer = csv.DictWriter(file, fieldnames=data.keys())\n",
    "    writer.writeheader()  # Écrire les en-têtes\n",
    "    writer.writerow(data)  # Écrire toutes les données dans une seule ligne\n",
    "\n",
    "print(f\"Les données ont été enregistrées dans le fichier '{filename}'.\")"
   ]
  }
 ],
 "metadata": {
  "kernelspec": {
   "display_name": "Python 3",
   "language": "python",
   "name": "python3"
  },
  "language_info": {
   "codemirror_mode": {
    "name": "ipython",
    "version": 3
   },
   "file_extension": ".py",
   "mimetype": "text/x-python",
   "name": "python",
   "nbconvert_exporter": "python",
   "pygments_lexer": "ipython3",
   "version": "3.13.0"
  }
 },
 "nbformat": 4,
 "nbformat_minor": 2
}
