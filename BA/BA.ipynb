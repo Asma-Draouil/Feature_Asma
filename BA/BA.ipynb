{
 "cells": [
  {
   "cell_type": "code",
   "execution_count": 1,
   "metadata": {},
   "outputs": [],
   "source": [
    "import requests\n",
    "from bs4 import BeautifulSoup\n",
    "import pandas as pd\n",
    "import csv"
   ]
  },
  {
   "cell_type": "code",
   "execution_count": 2,
   "metadata": {},
   "outputs": [],
   "source": [
    "# URL du site web\n",
    "url = 'https://www.esb.tn/programmes/masters-professionnels/master-en-business-analytics/'\n",
    "# Charger le contenu HTML depuis la page web\n",
    "response = requests.get(url)\n",
    "response.raise_for_status()  # Vérifier que la requête s'est bien passée\n",
    "html = response.text"
   ]
  },
  {
   "cell_type": "code",
   "execution_count": 4,
   "metadata": {},
   "outputs": [],
   "source": [
    "# Parser le HTML avec BeautifulSoup\n",
    "soup = BeautifulSoup(html, 'html.parser')"
   ]
  },
  {
   "cell_type": "code",
   "execution_count": 4,
   "metadata": {},
   "outputs": [
    {
     "name": "stdout",
     "output_type": "stream",
     "text": [
      "Objectifs\n",
      "Le Master Professionnel en Business Analytics est co-construit avec l’entreprise « Business & Decision Tunisie ». Il est au croisement de la Data Science, de la Business Intelligence et du Management. Le programme vise à former des experts capables de développer des solutions décisionnelles analytiques.\n",
      "Le Master Professionnel en Business Analytics est disponible en double diplôme avec le Master Intelligence Artificielle & Business transformation avec PSTB.\n",
      "\n",
      "Contenu\n",
      "DATA SCIENCE ET INTELLIGENCE ARTIFICIELLE : Machine Learning, Deep Learning, Data Mining, Time Series, Statistical Analysis, Data Visualization.\n",
      "INFORMATIQUE : Big Data, Business Intelligence, Data Bases, Programmation\n",
      "MANAGEMENT : Business Process Management, E-business, Management Stratégique, Management de l’innovation.\n",
      "SOFT SKILLS  : Design Thinking, Séminaires, Développement Personnel, Langues.\n",
      "PROJET PROFESSIONNEL : Stages, PFE, Projets Intégrés, Visites d’entreprises, etc.\n",
      "\n",
      "Compétences\n",
      "Conceptualiser, modéliser et analyser des données massives hétérogènes.\n",
      "Élaborer une vision stratégique en se basant sur la modélisation prédictive explicative.\n",
      "Développer des outils de visualisation des données.\n",
      "Construire les indicateurs de performance les mieux élaborés grâce aux techniques d’analyse de données et aux pratiques numériques les plus robustes.\n"
     ]
    },
    {
     "name": "stderr",
     "output_type": "stream",
     "text": [
      "C:\\Users\\Asma\\AppData\\Local\\Temp\\ipykernel_7400\\1674946199.py:4: DeprecationWarning: The 'text' argument to find()-type methods is deprecated. Use 'string' instead.\n",
      "  objectifs_section = soup.find('h3', text=\"Objectifs\")\n",
      "C:\\Users\\Asma\\AppData\\Local\\Temp\\ipykernel_7400\\1674946199.py:11: DeprecationWarning: The 'text' argument to find()-type methods is deprecated. Use 'string' instead.\n",
      "  contenu_section = soup.find('h3', text=\"Contenu\")\n",
      "C:\\Users\\Asma\\AppData\\Local\\Temp\\ipykernel_7400\\1674946199.py:17: DeprecationWarning: The 'text' argument to find()-type methods is deprecated. Use 'string' instead.\n",
      "  competences_section = soup.find('h3', text=\"Compétences\")\n"
     ]
    }
   ],
   "source": [
    "# Extraction des sections Objectifs, Contenu et Compétences\n",
    "\n",
    "# Extraire la section \"Objectifs\"\n",
    "objectifs_section = soup.find('h3', text=\"Objectifs\")\n",
    "if objectifs_section:\n",
    "    objectifs = objectifs_section.find_next('p').text.strip()  # Premier paragraphe\n",
    "    objectifs_suite = objectifs_section.find_next('p').find_next('p').text.strip()  # Deuxième paragraphe\n",
    "    objectifs = f\"{objectifs}\\n{objectifs_suite}\"\n",
    "\n",
    "# Extraire la section \"Contenu\"\n",
    "contenu_section = soup.find('h3', text=\"Contenu\")\n",
    "if contenu_section:\n",
    "    contenu_list = contenu_section.find_next('ul').find_all('li')\n",
    "    contenu = \"\\n\".join([item.text.strip() for item in contenu_list])\n",
    "\n",
    "# Extraire la section \"Compétences\"\n",
    "competences_section = soup.find('h3', text=\"Compétences\")\n",
    "if competences_section:\n",
    "    competences_list = competences_section.find_next('ul').find_all('li')\n",
    "    competences = \"\\n\".join([item.text.strip() for item in competences_list])\n",
    "\n",
    "# Format final pour l'affichage\n",
    "result = f\"Objectifs\\n{objectifs}\\n\\nContenu\\n{contenu}\\n\\nCompétences\\n{competences}\"\n",
    "\n",
    "# Afficher le résultat final\n",
    "print(result)"
   ]
  },
  {
   "cell_type": "code",
   "execution_count": 34,
   "metadata": {},
   "outputs": [
    {
     "name": "stdout",
     "output_type": "stream",
     "text": [
      "\n",
      "Métiers:\n",
      "Data Analyst\n",
      "Business Analyst\n",
      "Data Scientist\n",
      "Ingénieur d’Affaires\n",
      "Business Development Manager\n",
      "Consultant Analytique\n",
      "Consultant Expert BI\n",
      "Consultant Big Data\n",
      "\n",
      "Secteurs d’activité:\n",
      "Sociétés de services informatiques\n",
      "Opérateurs téléphoniques\n",
      "Banques, Assurances & Bourses\n",
      "Entreprises commerciales ou industrielles\n",
      "\n",
      "Partenariats professionnels:\n",
      "Business & Decision Tunisie\n",
      "Entreprises de services numériques\n",
      "Banques et Assurances\n",
      "\n"
     ]
    },
    {
     "name": "stderr",
     "output_type": "stream",
     "text": [
      "C:\\Users\\Asma\\AppData\\Local\\Temp\\ipykernel_10044\\2399499844.py:3: DeprecationWarning: The 'text' argument to find()-type methods is deprecated. Use 'string' instead.\n",
      "  metiers_section = soup.find('h3', text=\"Métiers\")\n",
      "C:\\Users\\Asma\\AppData\\Local\\Temp\\ipykernel_10044\\2399499844.py:12: DeprecationWarning: The 'text' argument to find()-type methods is deprecated. Use 'string' instead.\n",
      "  secteurs_section = soup.find('h3', text=\"Secteurs d’activité\")\n",
      "C:\\Users\\Asma\\AppData\\Local\\Temp\\ipykernel_10044\\2399499844.py:22: DeprecationWarning: The 'text' argument to find()-type methods is deprecated. Use 'string' instead.\n",
      "  partenariats_section = soup.find('h3', text=lambda x: x and 'partenariats professionnels' in x.lower())\n"
     ]
    }
   ],
   "source": [
    "# Extraire la section \"Métiers\"\n",
    "metiers = \"\"\n",
    "metiers_section = soup.find('h3', text=\"Métiers\")\n",
    "if metiers_section:\n",
    "    metiers_list = metiers_section.find_next('ul').find_all('li')\n",
    "    metiers = \"\\n\".join([item.text.strip() for item in metiers_list])\n",
    "else:\n",
    "    print(\"Section Métiers non trouvée\")\n",
    "\n",
    "# Extraire la section \"Secteurs d’activité\"\n",
    "secteurs = \"\"\n",
    "secteurs_section = soup.find('h3', text=\"Secteurs d’activité\")\n",
    "if secteurs_section:\n",
    "    secteurs_list = secteurs_section.find_next('ul').find_all('li')\n",
    "    secteurs = \"\\n\".join([item.text.strip() for item in secteurs_list])\n",
    "else:\n",
    "    print(\"Section Secteurs d’activité non trouvée\")\n",
    "\n",
    "\n",
    "# Extraire la section \"Partenariats professionnels\" de manière souple\n",
    "partenariats = \"\"\n",
    "partenariats_section = soup.find('h3', text=lambda x: x and 'partenariats professionnels' in x.lower())\n",
    "\n",
    "if partenariats_section:\n",
    "    \n",
    "    # Chercher le <div> suivant contenant les éléments pertinents\n",
    "    partenariats_content = partenariats_section.find_next('div', class_='elementor-widget-container')\n",
    "    if partenariats_content:\n",
    "        # Extraire les balises <p> contenant des <span> avec les informations\n",
    "        partenariats_list = partenariats_content.find_all('p')\n",
    "        partenariats = \"\\n\".join([item.get_text().strip().replace('>', '').strip() for item in partenariats_list if item.get_text().strip()])\n",
    "    else:\n",
    "        print(\"Contenu des partenariats non trouvé.\")\n",
    "else:\n",
    "    print(\"Section 'Partenariats professionnels' non trouvée.\")\n",
    "\n",
    "    \n",
    "# Format final pour l'affichage\n",
    "result = f\"\"\"\n",
    "Métiers:\n",
    "{metiers}\n",
    "\n",
    "Secteurs d’activité:\n",
    "{secteurs}\n",
    "\n",
    "Partenariats professionnels:\n",
    "{partenariats}\n",
    "\"\"\"\n",
    "\n",
    "# Afficher le résultat final\n",
    "print(result)"
   ]
  },
  {
   "cell_type": "code",
   "execution_count": 1,
   "metadata": {},
   "outputs": [
    {
     "ename": "NameError",
     "evalue": "name 'soup' is not defined",
     "output_type": "error",
     "traceback": [
      "\u001b[1;31m---------------------------------------------------------------------------\u001b[0m",
      "\u001b[1;31mNameError\u001b[0m                                 Traceback (most recent call last)",
      "Cell \u001b[1;32mIn[1], line 2\u001b[0m\n\u001b[0;32m      1\u001b[0m \u001b[38;5;66;03m# Extraction des matières par semestre\u001b[39;00m\n\u001b[1;32m----> 2\u001b[0m semestres_section \u001b[38;5;241m=\u001b[39m \u001b[43msoup\u001b[49m\u001b[38;5;241m.\u001b[39mfind_all(\u001b[38;5;124m'\u001b[39m\u001b[38;5;124mdiv\u001b[39m\u001b[38;5;124m'\u001b[39m, class_\u001b[38;5;241m=\u001b[39m\u001b[38;5;124m'\u001b[39m\u001b[38;5;124melementor-accordion-item\u001b[39m\u001b[38;5;124m'\u001b[39m)\n\u001b[0;32m      4\u001b[0m \u001b[38;5;66;03m# Stocker les matières par semestre\u001b[39;00m\n\u001b[0;32m      5\u001b[0m matieres_par_semestre \u001b[38;5;241m=\u001b[39m {}\n",
      "\u001b[1;31mNameError\u001b[0m: name 'soup' is not defined"
     ]
    }
   ],
   "source": [
    "# Extraction des matières par semestre\n",
    "semestres_section = soup.find_all('div', class_='elementor-accordion-item')\n",
    "\n",
    "# Stocker les matières par semestre\n",
    "matieres_par_semestre = {}\n",
    "\n",
    "# Variable pour contrôler l'ajout de \"Période d'Harmonisation\" une seule fois\n",
    "periode_harmonisation_extracted = False\n",
    "\n",
    "# Parcourir chaque section de semestre\n",
    "for semestre in semestres_section:\n",
    "    # Extraire le nom du semestre (ex: \"Période d’Harmonisation\", \"Semestre 1\", etc.)\n",
    "    semestre_title = semestre.find('a')\n",
    "    if semestre_title:\n",
    "        semestre_name = semestre_title.text.strip()\n",
    "\n",
    "        # Extraire les matières pour ce semestre\n",
    "        contenu_section = semestre.find('div', class_='elementor-tab-content')\n",
    "        if contenu_section:\n",
    "            matieres_list = contenu_section.find_all('li')\n",
    "            matieres = [item.text.strip() for item in matieres_list]\n",
    "\n",
    "            # Gérer \"Période d'Harmonisation\" et éviter sa répétition\n",
    "            if semestre_name == \"Période d’Harmonisation\" and not periode_harmonisation_extracted:\n",
    "                matieres_par_semestre[\"Période d’Harmonisation\"] = matieres\n",
    "                periode_harmonisation_extracted = True\n",
    "            elif semestre_name != \"Période d’Harmonisation\":\n",
    "                matieres_par_semestre[semestre_name] = matieres\n",
    "\n",
    "# Format final pour l'affichage\n",
    "result = \"Matières par semestre\\n\"\n",
    "\n",
    "# Ajouter la \"Période d’Harmonisation\" en premier, s'il existe\n",
    "if \"Période d’Harmonisation\" in matieres_par_semestre:\n",
    "    result += f\"\\nPériode d’Harmonisation\\n\"\n",
    "    result += \"\\n\".join(matieres_par_semestre[\"Période d’Harmonisation\"]) + \"\\n\"\n",
    "\n",
    "# Ajouter les semestres dans l'ordre\n",
    "for semestre, matieres in matieres_par_semestre.items():\n",
    "    if semestre != \"Période d’Harmonisation\":\n",
    "        result += f\"\\n{semestre}\\n\"\n",
    "        result += \"\\n\".join(matieres) + \"\\n\"\n",
    "\n",
    "# Afficher le résultat final\n",
    "print(result)"
   ]
  },
  {
   "cell_type": "code",
   "execution_count": 56,
   "metadata": {},
   "outputs": [
    {
     "name": "stdout",
     "output_type": "stream",
     "text": [
      "Partenariats professionnels nettoyé : Business & Decision Tunisie | Entreprises de services numériques | Banques et Assurances\n"
     ]
    },
    {
     "name": "stderr",
     "output_type": "stream",
     "text": [
      "C:\\Users\\Asma\\AppData\\Local\\Temp\\ipykernel_10044\\986637540.py:3: DeprecationWarning: The 'text' argument to find()-type methods is deprecated. Use 'string' instead.\n",
      "  partenariats_section = soup.find('h3', text=lambda x: x and 'partenariats professionnels' in x.lower())\n"
     ]
    }
   ],
   "source": [
    "# Extraire la section \"Partenariats professionnels\"\n",
    "partenariats = \"\"\n",
    "partenariats_section = soup.find('h3', text=lambda x: x and 'partenariats professionnels' in x.lower())\n",
    "\n",
    "if partenariats_section:\n",
    "    partenariats_content = partenariats_section.find_next('div', class_='elementor-widget-container')\n",
    "    if partenariats_content:\n",
    "        partenariats_list = partenariats_content.find_all('p')\n",
    "        partenariats = \"\\n\".join([\n",
    "            item.get_text().strip().replace('>', '').strip() for item in partenariats_list if item.get_text().strip()\n",
    "        ])\n",
    "        # Ajout d'un nettoyage final pour éliminer caractères indésirables\n",
    "        partenariats = partenariats.replace(\"\\n\", \" | \")  # Remplace les retours à la ligne par un séparateur\n",
    "    else:\n",
    "        partenariats = \"Non trouvé\"\n",
    "else:\n",
    "    partenariats = \"Non trouvé\"\n",
    "\n",
    "print(f\"Partenariats professionnels nettoyé : {partenariats}\")"
   ]
  },
  {
   "cell_type": "code",
   "execution_count": 57,
   "metadata": {},
   "outputs": [],
   "source": [
    "data = {\n",
    "    'Objectifs': objectifs,\n",
    "    'Contenu': contenu,\n",
    "    'Compétences': competences,\n",
    "    'Métiers': metiers,\n",
    "    'Secteurs d’activité': secteurs,\n",
    "    'Partenariats professionnels': str(partenariats)\n",
    "}\n",
    "\n",
    "for semestre, matieres in matieres_par_semestre.items():\n",
    "    data[semestre] = \"\\n\".join(matieres)\n",
    "\n",
    "# Écriture dans le fichier CSV\n",
    "filename = 'programme_master_marketing_digital.csv'\n",
    "with open(filename, mode='w', newline='', encoding='utf-8-sig') as file:\n",
    "    writer = csv.writer(file)\n",
    "    writer.writerow(data.keys())  # En-têtes\n",
    "    writer.writerow(data.values())  # Valeurs"
   ]
  }
 ],
 "metadata": {
  "kernelspec": {
   "display_name": "Python 3",
   "language": "python",
   "name": "python3"
  },
  "language_info": {
   "codemirror_mode": {
    "name": "ipython",
    "version": 3
   },
   "file_extension": ".py",
   "mimetype": "text/x-python",
   "name": "python",
   "nbconvert_exporter": "python",
   "pygments_lexer": "ipython3",
   "version": "3.13.0"
  }
 },
 "nbformat": 4,
 "nbformat_minor": 2
}
